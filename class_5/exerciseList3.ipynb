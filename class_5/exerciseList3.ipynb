{
 "cells": [
  {
   "cell_type": "markdown",
   "source": [
    "1 - Choose a corpus (can be the one from class) and using NLTK functions do:\n",
    "  a. Extract all the bigrams from corpus\n",
    "  b. Extract all the trigrams from corpus\n",
    "  c. Extract all the 4-grams from corpus\n",
    "  d. Return the named entities from corpus, using bigrams and trigrams\n",
    "  e. Choose 3 words from corpus and do stemming\n",
    "  f. Choose a sentence from the chosen corpus an return all the grammatical classes of the words in this sentence. Verify if the marker correctly find the classes\n",
    "  g. Return all the grammatical classes by all the words from corpus\n",
    "  h. Return the named entities from corpus, using the chunking technique."
   ],
   "metadata": {
    "collapsed": false,
    "pycharm": {
     "name": "#%% md\n"
    }
   }
  },
  {
   "cell_type": "code",
   "execution_count": 2,
   "outputs": [
    {
     "data": {
      "text/plain": "[('Giants', 'batem'),\n ('batem', 'os'),\n ('os', 'Patriots'),\n ('Patriots', 'no'),\n ('no', 'Super'),\n ('Super', 'Bowl'),\n ('Bowl', 'XLII'),\n ('XLII', 'AzarÃµes'),\n ('AzarÃµes', 'acabam'),\n ('acabam', 'com'),\n ('com', 'a'),\n ('a', 'invencibilidade'),\n ('invencibilidade', 'de'),\n ('de', 'New'),\n ('New', 'England'),\n ('England', 'e'),\n ('e', 'ficam'),\n ('ficam', 'com'),\n ('com', 'o'),\n ('o', 'tÃ\\xadtulo'),\n ('tÃ\\xadtulo', 'da'),\n ('da', 'temporada'),\n ('temporada', '04/02/2008'),\n ('04/02/2008', '-'),\n ('-', '01h07m'),\n ('01h07m', '-'),\n ('-', 'Atualizado'),\n ('Atualizado', 'em'),\n ('em', '04/02/2008'),\n ('04/02/2008', '-'),\n ('-', '09h49m'),\n ('09h49m', 'Com'),\n ('Com', 'um'),\n ('um', 'passe'),\n ('passe', 'de'),\n ('de', 'Eli'),\n ('Eli', 'Manning'),\n ('Manning', 'para'),\n ('para', 'Plaxico'),\n ('Plaxico', 'Burress'),\n ('Burress', 'a'),\n ('a', '39'),\n ('39', 'segundos'),\n ('segundos', 'do'),\n ('do', 'fim'),\n ('fim', ','),\n (',', 'o'),\n ('o', 'New'),\n ('New', 'York'),\n ('York', 'Giants'),\n ('Giants', 'anotou'),\n ('anotou', 'o'),\n ('o', 'touchdown'),\n ('touchdown', 'decisivo'),\n ('decisivo', 'e'),\n ('e', 'derrubou'),\n ('derrubou', 'o'),\n ('o', 'favorito'),\n ('favorito', 'New'),\n ('New', 'England'),\n ('England', 'Patriots'),\n ('Patriots', 'por'),\n ('por', '17'),\n ('17', 'a'),\n ('a', '14'),\n ('14', 'neste'),\n ('neste', 'domingo'),\n ('domingo', ','),\n (',', 'em'),\n ('em', 'Glendale'),\n ('Glendale', ','),\n (',', 'no'),\n ('no', 'Super'),\n ('Super', 'Bowl'),\n ('Bowl', 'XLII'),\n ('XLII', '.'),\n ('.', 'O'),\n ('O', 'resultado'),\n ('resultado', ','),\n (',', 'uma'),\n ('uma', 'das'),\n ('das', 'maiores'),\n ('maiores', 'zebras'),\n ('zebras', 'da'),\n ('da', 'histÃ³ria'),\n ('histÃ³ria', 'do'),\n ('do', 'Super'),\n ('Super', 'Bowl'),\n ('Bowl', ','),\n (',', 'acabou'),\n ('acabou', 'com'),\n ('com', 'a'),\n ('a', 'temporada'),\n ('temporada', 'perfeita'),\n ('perfeita', 'de'),\n ('de', 'Tom'),\n ('Tom', 'Brady'),\n ('Brady', 'e'),\n ('e', 'companhia'),\n ('companhia', ','),\n (',', 'que'),\n ('que', 'esperavam'),\n ('esperavam', 'fazer'),\n ('fazer', 'histÃ³ria'),\n ('histÃ³ria', 'ao'),\n ('ao', 'levantar'),\n ('levantar', 'o'),\n ('o', 'trofÃ©u'),\n ('trofÃ©u', 'da'),\n ('da', 'NFL'),\n ('NFL', 'sem'),\n ('sem', 'sofrer'),\n ('sofrer', 'uma'),\n ('uma', 'derrota'),\n ('derrota', 'no'),\n ('no', 'ano'),\n ('ano', '.'),\n ('.', 'A'),\n ('A', 'vitÃ³ria'),\n ('vitÃ³ria', 'dos'),\n ('dos', 'Giants'),\n ('Giants', ','),\n (',', 'porÃ©m'),\n ('porÃ©m', ','),\n (',', 'tambÃ©m'),\n ('tambÃ©m', 'ficarÃ¡'),\n ('ficarÃ¡', 'para'),\n ('para', 'a'),\n ('a', 'histÃ³ria'),\n ('histÃ³ria', '.'),\n ('.', 'Pela'),\n ('Pela', 'primeira'),\n ('primeira', 'vez'),\n ('vez', ','),\n (',', 'irmÃ£os'),\n ('irmÃ£os', 'quarterbacks'),\n ('quarterbacks', 'triunfam'),\n ('triunfam', 'no'),\n ('no', 'Super'),\n ('Super', 'Bowl'),\n ('Bowl', 'em'),\n ('em', 'temporadas'),\n ('temporadas', 'consecutivas'),\n ('consecutivas', '.'),\n ('.', 'No'),\n ('No', 'ano'),\n ('ano', 'passado'),\n ('passado', ','),\n (',', 'Peyton'),\n ('Peyton', 'Manning'),\n ('Manning', ','),\n (',', 'irmÃ£o'),\n ('irmÃ£o', 'de'),\n ('de', 'Eli'),\n ('Eli', ','),\n (',', 'chegou'),\n ('chegou', 'ao'),\n ('ao', 'tÃ\\xadtulo'),\n ('tÃ\\xadtulo', 'mÃ¡ximo'),\n ('mÃ¡ximo', 'da'),\n ('da', 'NFL'),\n ('NFL', 'pelo'),\n ('pelo', 'Indianapolis'),\n ('Indianapolis', 'Colts'),\n ('Colts', '.'),\n ('.', 'A'),\n ('A', 'partida'),\n ('partida', 'Os'),\n ('Os', 'Giants'),\n ('Giants', 'comeÃ§aram'),\n ('comeÃ§aram', 'com'),\n ('com', 'a'),\n ('a', 'posse'),\n ('posse', 'de'),\n ('de', 'bola'),\n ('bola', ','),\n (',', 'e'),\n ('e', 'mostraram'),\n ('mostraram', 'logo'),\n ('logo', 'que'),\n ('que', 'iriam'),\n ('iriam', 'alongar'),\n ('alongar', 'ao'),\n ('ao', 'mÃ¡ximo'),\n ('mÃ¡ximo', 'suas'),\n ('suas', 'posses'),\n ('posses', 'de'),\n ('de', 'bola'),\n ('bola', '.'),\n ('.', 'Misturando'),\n ('Misturando', 'corridas'),\n ('corridas', 'com'),\n ('com', 'Brandon'),\n ('Brandon', 'Jacobs'),\n ('Jacobs', 'e'),\n ('e', 'passes'),\n ('passes', 'curtos'),\n ('curtos', ','),\n (',', 'o'),\n ('o', 'time'),\n ('time', 'de'),\n ('de', 'Nova'),\n ('Nova', 'York'),\n ('York', 'chegou'),\n ('chegou', 'Ã'),\n ('Ã', 'red'),\n ('red', 'zone'),\n ('zone', 'logo'),\n ('logo', 'na'),\n ('na', 'primeira'),\n ('primeira', 'campanha'),\n ('campanha', '.'),\n ('.', 'O'),\n ('O', 'avanÃ§o'),\n ('avanÃ§o', ','),\n (',', 'no'),\n ('no', 'entanto'),\n ('entanto', ','),\n (',', 'parou'),\n ('parou', 'na'),\n ('na', 'linha'),\n ('linha', 'de'),\n ('de', '17'),\n ('17', 'jardas'),\n ('jardas', 'e'),\n ('e', 'Lawrence'),\n ('Lawrence', 'Tynes'),\n ('Tynes', 'converteu'),\n ('converteu', 'o'),\n ('o', 'field'),\n ('field', 'goal'),\n ('goal', 'de'),\n ('de', '32'),\n ('32', 'jardas'),\n ('jardas', 'para'),\n ('para', 'abrir'),\n ('abrir', 'o'),\n ('o', 'placar'),\n ('placar', '.'),\n ('.', 'Eli'),\n ('Eli', 'Manning'),\n ('Manning', 'e'),\n ('e', 'companhia'),\n ('companhia', 'ficaram'),\n ('ficaram', '9m54s'),\n ('9m54s', 'com'),\n ('com', 'a'),\n ('a', 'bola'),\n ('bola', ','),\n (',', 'mas'),\n ('mas', 'o'),\n ('o', 'ataque'),\n ('ataque', 'dos'),\n ('dos', 'Patriots'),\n ('Patriots', 'nÃ£o'),\n ('nÃ£o', 'entrou'),\n ('entrou', 'em'),\n ('em', 'campo'),\n ('campo', 'frio'),\n ('frio', '.'),\n ('.', 'Logo'),\n ('Logo', 'no'),\n ('no', 'retorno'),\n ('retorno', 'do'),\n ('do', 'kickoff'),\n ('kickoff', ','),\n (',', 'o'),\n ('o', 'running'),\n ('running', 'back'),\n ('back', 'Laurence'),\n ('Laurence', 'Maroney'),\n ('Maroney', 'avanÃ§ou'),\n ('avanÃ§ou', '43'),\n ('43', 'jardas'),\n ('jardas', ','),\n (',', 'deixando'),\n ('deixando', 'Tom'),\n ('Tom', 'Brady'),\n ('Brady', 'em'),\n ('em', 'boa'),\n ('boa', 'posiÃ§Ã£o'),\n ('posiÃ§Ã£o', '.'),\n ('.', 'Com'),\n ('Com', 'passes'),\n ('passes', 'curtos'),\n ('curtos', ','),\n (',', 'os'),\n ('os', 'Patriots'),\n ('Patriots', 'chegaram'),\n ('chegaram', 'Ã'),\n ('Ã', 'linha'),\n ('linha', 'de'),\n ('de', '17'),\n ('17', 'jardas'),\n ('jardas', 'e'),\n ('e', ','),\n (',', 'graÃ§as'),\n ('graÃ§as', 'a'),\n ('a', 'uma'),\n ('uma', 'penalidade'),\n ('penalidade', '('),\n ('(', 'interferÃªncia'),\n ('interferÃªncia', 'de'),\n ('de', 'passe'),\n ('passe', ')'),\n (')', 'do'),\n ('do', 'linebacker'),\n ('linebacker', 'Antonio'),\n ('Antonio', 'Pierce'),\n ('Pierce', ','),\n (',', 'alcanÃ§aram'),\n ('alcanÃ§aram', 'a'),\n ('a', 'linha'),\n ('linha', 'de'),\n ('de', 'uma'),\n ('uma', 'jarda'),\n ('jarda', '.'),\n ('.', 'Maroney'),\n ('Maroney', 'avanÃ§ou'),\n ('avanÃ§ou', 'pelo'),\n ('pelo', 'chÃ£o'),\n ('chÃ£o', 'e'),\n ('e', 'anotou'),\n ('anotou', 'o'),\n ('o', 'primeiro'),\n ('primeiro', 'touchdown'),\n ('touchdown', 'do'),\n ('do', 'jogo'),\n ('jogo', '.'),\n ('.', 'Os'),\n ('Os', 'Giants'),\n ('Giants', 'pareciam'),\n ('pareciam', 'rumo'),\n ('rumo', 'Ã'),\n ('Ã', 'virada'),\n ('virada', 'na'),\n ('na', 'campanha'),\n ('campanha', 'seguinte'),\n ('seguinte', '.'),\n ('.', 'Manning'),\n ('Manning', 'achou'),\n ('achou', 'Amani'),\n ('Amani', 'Toomer'),\n ('Toomer', 'para'),\n ('para', 'um'),\n ('um', 'avanÃ§o'),\n ('avanÃ§o', 'de'),\n ('de', '38'),\n ('38', 'jardas'),\n ('jardas', ','),\n (',', 'e'),\n ('e', 'o'),\n ('o', 'time'),\n ('time', 'de'),\n ('de', 'Nova'),\n ('Nova', 'York'),\n ('York', 'entrou'),\n ('entrou', 'novamente'),\n ('novamente', 'na'),\n ('na', 'red'),\n ('red', 'zone'),\n ('zone', '.'),\n ('.', 'Com'),\n ('Com', 'a'),\n ('a', 'bola'),\n ('bola', 'na'),\n ('na', 'linha'),\n ('linha', 'de'),\n ('de', '14'),\n ('14', 'jardas'),\n ('jardas', 'dos'),\n ('dos', 'Patriots'),\n ('Patriots', ','),\n (',', 'os'),\n ('os', 'Giants'),\n ('Giants', 'sofreram'),\n ('sofreram', 'um'),\n ('um', 'revÃ©s'),\n ('revÃ©s', '.'),\n ('.', 'Manning'),\n ('Manning', 'passou'),\n ('passou', 'para'),\n ('para', 'Steve'),\n ('Steve', 'Smith'),\n ('Smith', ','),\n (',', 'que'),\n ('que', 'soltou'),\n ('soltou', 'a'),\n ('a', 'bola'),\n ('bola', '.'),\n ('.', 'Ellis'),\n ('Ellis', 'Hobbs'),\n ('Hobbs', 'aproveitou'),\n ('aproveitou', ','),\n (',', 'tomou'),\n ('tomou', 'a'),\n ('a', 'posse'),\n ('posse', 'para'),\n ('para', 'os'),\n ('os', 'Patriots'),\n ('Patriots', ','),\n (',', 'e'),\n ('e', 'avanÃ§ou'),\n ('avanÃ§ou', '23'),\n ('23', 'jardas'),\n ('jardas', '.'),\n ('.', 'A'),\n ('A', 'defesa'),\n ('defesa', 'de'),\n ('de', 'Nova'),\n ('Nova', 'York'),\n ('York', 'manteve'),\n ('manteve', 'o'),\n ('o', 'jogo'),\n ('jogo', 'equilibrado'),\n ('equilibrado', '.'),\n ('.', 'Com'),\n ('Com', 'dois'),\n ('dois', 'sacks'),\n ('sacks', 'seguidos'),\n ('seguidos', ','),\n (',', 'os'),\n ('os', 'Giants'),\n ('Giants', 'forÃ§aram'),\n ('forÃ§aram', 'o'),\n ('o', 'punt'),\n ('punt', 'e'),\n ('e', 'recuperaram'),\n ('recuperaram', 'a'),\n ('a', 'bola'),\n ('bola', '.'),\n ('.', 'Mas'),\n ('Mas', 'a'),\n ('a', 'campanha'),\n ('campanha', 'seguinte'),\n ('seguinte', 'provou'),\n ('provou', 'ser'),\n ('ser', 'outra'),\n ('outra', 'decepÃ§Ã£o'),\n ('decepÃ§Ã£o', 'para'),\n ('para', 'Nova'),\n ('Nova', 'York'),\n ('York', '.'),\n ('.', 'O'),\n ('O', 'time'),\n ('time', 'chegou'),\n ('chegou', 'Ã'),\n ('Ã', 'linha'),\n ('linha', 'de'),\n ('de', '25'),\n ('25', 'jardas'),\n ('jardas', ','),\n (',', 'mas'),\n ('mas', 'Manning'),\n ('Manning', 'sofreu'),\n ('sofreu', 'um'),\n ('um', 'sack'),\n ('sack', 'e'),\n ('e', 'cometeu'),\n ('cometeu', 'um'),\n ('um', 'fumble'),\n ('fumble', ','),\n (',', 'e'),\n ('e', 'o'),\n ('o', 'ataque'),\n ('ataque', 'voltou'),\n ('voltou', 'para'),\n ('para', 'a'),\n ('a', 'linha'),\n ('linha', 'de'),\n ('de', '39'),\n ('39', 'jardas'),\n ('jardas', ','),\n (',', 'nÃ£o'),\n ('nÃ£o', 'conseguindo'),\n ('conseguindo', 'pontuar'),\n ('pontuar', 'mais'),\n ('mais', 'uma'),\n ('uma', 'vez'),\n ('vez', '.'),\n ('.', 'Os'),\n ('Os', 'Patriots'),\n ('Patriots', 'tiveram'),\n ('tiveram', 'uma'),\n ('uma', 'Ãºltima'),\n ('Ãºltima', 'chance'),\n ('chance', 'de'),\n ('de', 'marcar'),\n ('marcar', 'antes'),\n ('antes', 'do'),\n ('do', 'intervalo'),\n ('intervalo', ','),\n (',', 'mas'),\n ('mas', ','),\n (',', 'a'),\n ('a', '22'),\n ('22', 'segundos'),\n ('segundos', 'do'),\n ('do', 'fim'),\n ('fim', 'do'),\n ('do', 'segundo'),\n ('segundo', 'perÃ\\xadodo'),\n ('perÃ\\xadodo', ','),\n (',', 'Brady'),\n ('Brady', 'foi'),\n ('foi', 'novamente'),\n ('novamente', 'sacado'),\n ('sacado', '.'),\n ('.', 'Desta'),\n ('Desta', 'vez'),\n ('vez', ','),\n (',', 'ele'),\n ('ele', 'cometeu'),\n ('cometeu', 'o'),\n ('o', 'fumble'),\n ('fumble', 'e'),\n ('e', 'os'),\n ('os', 'Giants'),\n ('Giants', 'tomaram'),\n ('tomaram', 'a'),\n ('a', 'posse'),\n ('posse', 'de'),\n ('de', 'bola'),\n ('bola', '.'),\n ('.', 'Manning'),\n ('Manning', 'tentou'),\n ('tentou', 'um'),\n ('um', 'passe'),\n ('passe', 'longo'),\n ('longo', ','),\n (',', 'de'),\n ('de', '50'),\n ('50', 'jardas'),\n ('jardas', ','),\n (',', 'nos'),\n ('nos', 'Ãºltimos'),\n ('Ãºltimos', 'segundos'),\n ('segundos', ','),\n (',', 'mas'),\n ('mas', 'nÃ£o'),\n ('nÃ£o', 'teve'),\n ('teve', 'sucesso'),\n ('sucesso', '.'),\n ('.', 'O'),\n ('O', 'jogo'),\n ('jogo', 'continuou'),\n ('continuou', 'amarrado'),\n ('amarrado', 'no'),\n ('no', 'terceiro'),\n ('terceiro', 'quarto'),\n ('quarto', ','),\n (',', 'com'),\n ('com', 'as'),\n ('as', 'defesas'),\n ('defesas', 'levando'),\n ('levando', 'a'),\n ('a', 'melhor'),\n ('melhor', 'sobre'),\n ('sobre', 'os'),\n ('os', 'ataques'),\n ('ataques', '.'),\n ('.', 'A'),\n ('A', 'Ãºnica'),\n ('Ãºnica', 'chance'),\n ('chance', 'de'),\n ('de', 'pontuar'),\n ('pontuar', 'do'),\n ('do', 'perÃ\\xadodo'),\n ('perÃ\\xadodo', 'foi'),\n ('foi', 'dos'),\n ('dos', 'Patriots'),\n ('Patriots', ','),\n (',', 'que'),\n ('que', 'chegaram'),\n ('chegaram', 'Ã'),\n ('Ã', 'linha'),\n ('linha', 'de'),\n ('de', '31'),\n ('31', 'jardas'),\n ('jardas', 'dos'),\n ('dos', 'Giants'),\n ('Giants', '.'),\n ('.', 'O'),\n ('O', 'tÃ©cnico'),\n ('tÃ©cnico', 'Bill'),\n ('Bill', 'Bellichick'),\n ('Bellichick', ','),\n (',', 'porÃ©m'),\n ('porÃ©m', ','),\n (',', 'optou'),\n ('optou', 'por'),\n ('por', 'uma'),\n ('uma', 'quarta'),\n ('quarta', 'descida'),\n ('descida', 'em'),\n ('em', 'vez'),\n ('vez', 'de'),\n ('de', 'um'),\n ('um', 'field'),\n ('field', 'goal'),\n ('goal', '.'),\n ('.', 'Brady'),\n ('Brady', 'tentou'),\n ('tentou', 'um'),\n ('um', 'passe'),\n ('passe', 'para'),\n ('para', 'Jabar'),\n ('Jabar', 'Gaffney'),\n ('Gaffney', ','),\n (',', 'mas'),\n ('mas', 'nÃ£o'),\n ('nÃ£o', 'conseguiu'),\n ('conseguiu', 'completar'),\n ('completar', '.'),\n ('.', 'O'),\n ('O', 'Ãºltimo'),\n ('Ãºltimo', 'perÃ\\xadodo'),\n ('perÃ\\xadodo', 'comeÃ§ou'),\n ('comeÃ§ou', 'arrasador'),\n ('arrasador', 'para'),\n ('para', 'os'),\n ('os', 'Giants'),\n ('Giants', '.'),\n ('.', 'na'),\n ('na', 'primeira'),\n ('primeira', 'jogada'),\n ('jogada', ','),\n (',', 'Manning'),\n ('Manning', 'achou'),\n ('achou', 'o'),\n ('o', 'tight'),\n ('tight', 'end'),\n ('end', 'Kevin'),\n ('Kevin', 'Boss'),\n ('Boss', ','),\n (',', 'para'),\n ('para', 'um'),\n ('um', 'incrÃ\\xadvel'),\n ('incrÃ\\xadvel', 'avanÃ§o'),\n ('avanÃ§o', 'de'),\n ('de', '45'),\n ('45', 'jardas'),\n ('jardas', ','),\n (',', 'que'),\n ('que', 'deixou'),\n ('deixou', 'o'),\n ('o', 'time'),\n ('time', 'na'),\n ('na', 'linha'),\n ('linha', 'de'),\n ('de', '35'),\n ('35', 'dos'),\n ('dos', 'Patriots'),\n ('Patriots', '.'),\n ('.', 'Outro'),\n ('Outro', 'lanÃ§amento'),\n ('lanÃ§amento', ','),\n (',', 'desta'),\n ('desta', 'vez'),\n ('vez', 'para'),\n ('para', 'Steve'),\n ('Steve', 'Smith'),\n ('Smith', ','),\n (',', 'marcou'),\n ('marcou', 'o'),\n ('o', 'avanÃ§o'),\n ('avanÃ§o', 'atÃ©'),\n ('atÃ©', 'a'),\n ('a', 'linha'),\n ('linha', 'de'),\n ('de', '12'),\n ('12', 'jardas'),\n ('jardas', '.'),\n ('.', 'Duas'),\n ('Duas', 'jogadas'),\n ('jogadas', 'depois'),\n ('depois', ','),\n (',', 'David'),\n ('David', 'Tyree'),\n ('Tyree', 'pegou'),\n ('pegou', 'um'),\n ('um', 'passe'),\n ('passe', 'de'),\n ('de', 'cinco'),\n ('cinco', 'jardas'),\n ('jardas', 'na'),\n ('na', 'end'),\n ('end', 'zone'),\n ('zone', 'para'),\n ('para', 'anotar'),\n ('anotar', 'o'),\n ('o', 'touchdown'),\n ('touchdown', 'e'),\n ('e', 'virar'),\n ('virar', 'o'),\n ('o', 'jogo'),\n ('jogo', '.'),\n ('.', 'Na'),\n ('Na', 'hora'),\n ('hora', 'da'),\n ('da', 'decisÃ£o'),\n ('decisÃ£o', ','),\n (',', 'o'),\n ('o', 'ataque'),\n ('ataque', 'dos'),\n ('dos', 'Patriots'),\n ('Patriots', 'voltou'),\n ('voltou', 'a'),\n ('a', 'funcionar'),\n ('funcionar', '.'),\n ('.', 'Com'),\n ('Com', 'uma'),\n ('uma', 'sÃ©rie'),\n ('sÃ©rie', 'de'),\n ('de', 'passes'),\n ('passes', 'curtos'),\n ('curtos', 'e'),\n ('e', 'variados'),\n ('variados', ','),\n (',', 'Brady'),\n ('Brady', 'achou'),\n ('achou', 'Wes'),\n ('Wes', 'Welker'),\n ('Welker', ','),\n (',', 'Randy'),\n ('Randy', 'Moss'),\n ('Moss', 'e'),\n ('e', 'Kevin'),\n ('Kevin', 'Faulk'),\n ('Faulk', 'seguidas'),\n ('seguidas', 'vezes'),\n ('vezes', 'atÃ©'),\n ('atÃ©', 'chegar'),\n ('chegar', 'Ã'),\n ('Ã', 'red'),\n ('red', 'zone'),\n ('zone', '.'),\n ('.', 'A'),\n ('A', '2m45s'),\n ('2m45s', 'do'),\n ('do', 'fim'),\n ('fim', ','),\n (',', 'o'),\n ('o', 'quarterback'),\n ('quarterback', 'conectou'),\n ('conectou', 'mais'),\n ('mais', 'uma'),\n ('uma', 'vez'),\n ('vez', 'com'),\n ('com', 'Moss'),\n ('Moss', ','),\n (',', 'que'),\n ('que', 'se'),\n ('se', 'desmarcou'),\n ('desmarcou', 'e'),\n ('e', 'ficou'),\n ('ficou', 'livre'),\n ('livre', 'na'),\n ('na', 'lateral'),\n ('lateral', 'direita'),\n ('direita', 'da'),\n ('da', 'end'),\n ('end', 'zone'),\n ('zone', '.'),\n ('.', 'Quando'),\n ('Quando', 'os'),\n ('os', 'fÃ£s'),\n ('fÃ£s', 'de'),\n ('de', 'New'),\n ('New', 'England'),\n ('England', 'jÃ¡'),\n ('jÃ¡', 'comemoravam'),\n ('comemoravam', 'a'),\n ('a', 'vitÃ³ria'),\n ('vitÃ³ria', ','),\n (',', 'o'),\n ('o', 'inesperado'),\n ('inesperado', 'aconteceu'),\n ('aconteceu', '.'),\n ('.', 'Em'),\n ('Em', 'uma'),\n ('uma', 'jogada'),\n ('jogada', 'incrÃ\\xadvel'),\n ('incrÃ\\xadvel', ','),\n (',', 'Eli'),\n ('Eli', 'Manning'),\n ('Manning', 'se'),\n ('se', 'soltou'),\n ('soltou', 'de'),\n ('de', 'dois'),\n ('dois', 'marcadores'),\n ('marcadores', 'que'),\n ('que', 'o'),\n ('o', 'seguravam'),\n ('seguravam', 'pela'),\n ('pela', 'camisa'),\n ('camisa', 'e'),\n ('e', ','),\n (',', 'na'),\n ('na', 'corrida'),\n ('corrida', ','),\n (',', 'lanÃ§ou'),\n ('lanÃ§ou', 'para'),\n ('para', 'Amani'),\n ('Amani', 'Toomer'),\n ('Toomer', '.'),\n ('.', 'O'),\n ('O', 'wide'),\n ('wide', 'receiver'),\n ('receiver', ','),\n (',', 'bem'),\n ('bem', 'marcado'),\n ('marcado', ','),\n (',', 'saltou'),\n ('saltou', 'e'),\n ('e', 'conseguiu'),\n ('conseguiu', 'a'),\n ('a', 'fazer'),\n ('fazer', 'recepÃ§Ã£o'),\n ('recepÃ§Ã£o', 'para'),\n ('para', 'um'),\n ('um', 'avanÃ§o'),\n ('avanÃ§o', 'de'),\n ('de', '32'),\n ('32', 'jardas'),\n ('jardas', ','),\n (',', 'deixando'),\n ('deixando', 'os'),\n ('os', 'Giants'),\n ('Giants', 'na'),\n ('na', 'linha'),\n ('linha', 'de'),\n ('de', '24'),\n ('24', 'de'),\n ('de', 'New'),\n ('New', 'England'),\n ('England', '.'),\n ('.', 'Quatro'),\n ('Quatro', 'jogadas'),\n ('jogadas', 'depois'),\n ('depois', ','),\n (',', 'a'),\n ('a', '39'),\n ('39', 'segundos'),\n ('segundos', 'do'),\n ('do', 'fim'),\n ('fim', ','),\n (',', 'Manning'),\n ('Manning', 'achou'),\n ('achou', 'Plaxico'),\n ('Plaxico', 'Burress'),\n ('Burress', 'na'),\n ('na', 'end'),\n ('end', 'zone'),\n ('zone', 'para'),\n ('para', 'conseguir'),\n ('conseguir', 'o'),\n ('o', 'touchdown'),\n ('touchdown', 'do'),\n ('do', 'tÃ\\xadtulo'),\n ('tÃ\\xadtulo', '.')]"
     },
     "execution_count": 2,
     "metadata": {},
     "output_type": "execute_result"
    }
   ],
   "source": [
    "#1a. Extract all the bigrams from corpus\n",
    "import nltk\n",
    "from nltk import bigrams\n",
    "corpus = open('corpus_teste.txt', 'r').read()\n",
    "tokens = nltk.word_tokenize(corpus)\n",
    "tokensBigrams = list(bigrams(tokens))\n",
    "tokensBigrams"
   ],
   "metadata": {
    "collapsed": false,
    "pycharm": {
     "name": "#%%\n"
    }
   }
  },
  {
   "cell_type": "code",
   "execution_count": 3,
   "outputs": [
    {
     "data": {
      "text/plain": "[('Giants', 'batem', 'os'),\n ('batem', 'os', 'Patriots'),\n ('os', 'Patriots', 'no'),\n ('Patriots', 'no', 'Super'),\n ('no', 'Super', 'Bowl'),\n ('Super', 'Bowl', 'XLII'),\n ('Bowl', 'XLII', 'AzarÃµes'),\n ('XLII', 'AzarÃµes', 'acabam'),\n ('AzarÃµes', 'acabam', 'com'),\n ('acabam', 'com', 'a'),\n ('com', 'a', 'invencibilidade'),\n ('a', 'invencibilidade', 'de'),\n ('invencibilidade', 'de', 'New'),\n ('de', 'New', 'England'),\n ('New', 'England', 'e'),\n ('England', 'e', 'ficam'),\n ('e', 'ficam', 'com'),\n ('ficam', 'com', 'o'),\n ('com', 'o', 'tÃ\\xadtulo'),\n ('o', 'tÃ\\xadtulo', 'da'),\n ('tÃ\\xadtulo', 'da', 'temporada'),\n ('da', 'temporada', '04/02/2008'),\n ('temporada', '04/02/2008', '-'),\n ('04/02/2008', '-', '01h07m'),\n ('-', '01h07m', '-'),\n ('01h07m', '-', 'Atualizado'),\n ('-', 'Atualizado', 'em'),\n ('Atualizado', 'em', '04/02/2008'),\n ('em', '04/02/2008', '-'),\n ('04/02/2008', '-', '09h49m'),\n ('-', '09h49m', 'Com'),\n ('09h49m', 'Com', 'um'),\n ('Com', 'um', 'passe'),\n ('um', 'passe', 'de'),\n ('passe', 'de', 'Eli'),\n ('de', 'Eli', 'Manning'),\n ('Eli', 'Manning', 'para'),\n ('Manning', 'para', 'Plaxico'),\n ('para', 'Plaxico', 'Burress'),\n ('Plaxico', 'Burress', 'a'),\n ('Burress', 'a', '39'),\n ('a', '39', 'segundos'),\n ('39', 'segundos', 'do'),\n ('segundos', 'do', 'fim'),\n ('do', 'fim', ','),\n ('fim', ',', 'o'),\n (',', 'o', 'New'),\n ('o', 'New', 'York'),\n ('New', 'York', 'Giants'),\n ('York', 'Giants', 'anotou'),\n ('Giants', 'anotou', 'o'),\n ('anotou', 'o', 'touchdown'),\n ('o', 'touchdown', 'decisivo'),\n ('touchdown', 'decisivo', 'e'),\n ('decisivo', 'e', 'derrubou'),\n ('e', 'derrubou', 'o'),\n ('derrubou', 'o', 'favorito'),\n ('o', 'favorito', 'New'),\n ('favorito', 'New', 'England'),\n ('New', 'England', 'Patriots'),\n ('England', 'Patriots', 'por'),\n ('Patriots', 'por', '17'),\n ('por', '17', 'a'),\n ('17', 'a', '14'),\n ('a', '14', 'neste'),\n ('14', 'neste', 'domingo'),\n ('neste', 'domingo', ','),\n ('domingo', ',', 'em'),\n (',', 'em', 'Glendale'),\n ('em', 'Glendale', ','),\n ('Glendale', ',', 'no'),\n (',', 'no', 'Super'),\n ('no', 'Super', 'Bowl'),\n ('Super', 'Bowl', 'XLII'),\n ('Bowl', 'XLII', '.'),\n ('XLII', '.', 'O'),\n ('.', 'O', 'resultado'),\n ('O', 'resultado', ','),\n ('resultado', ',', 'uma'),\n (',', 'uma', 'das'),\n ('uma', 'das', 'maiores'),\n ('das', 'maiores', 'zebras'),\n ('maiores', 'zebras', 'da'),\n ('zebras', 'da', 'histÃ³ria'),\n ('da', 'histÃ³ria', 'do'),\n ('histÃ³ria', 'do', 'Super'),\n ('do', 'Super', 'Bowl'),\n ('Super', 'Bowl', ','),\n ('Bowl', ',', 'acabou'),\n (',', 'acabou', 'com'),\n ('acabou', 'com', 'a'),\n ('com', 'a', 'temporada'),\n ('a', 'temporada', 'perfeita'),\n ('temporada', 'perfeita', 'de'),\n ('perfeita', 'de', 'Tom'),\n ('de', 'Tom', 'Brady'),\n ('Tom', 'Brady', 'e'),\n ('Brady', 'e', 'companhia'),\n ('e', 'companhia', ','),\n ('companhia', ',', 'que'),\n (',', 'que', 'esperavam'),\n ('que', 'esperavam', 'fazer'),\n ('esperavam', 'fazer', 'histÃ³ria'),\n ('fazer', 'histÃ³ria', 'ao'),\n ('histÃ³ria', 'ao', 'levantar'),\n ('ao', 'levantar', 'o'),\n ('levantar', 'o', 'trofÃ©u'),\n ('o', 'trofÃ©u', 'da'),\n ('trofÃ©u', 'da', 'NFL'),\n ('da', 'NFL', 'sem'),\n ('NFL', 'sem', 'sofrer'),\n ('sem', 'sofrer', 'uma'),\n ('sofrer', 'uma', 'derrota'),\n ('uma', 'derrota', 'no'),\n ('derrota', 'no', 'ano'),\n ('no', 'ano', '.'),\n ('ano', '.', 'A'),\n ('.', 'A', 'vitÃ³ria'),\n ('A', 'vitÃ³ria', 'dos'),\n ('vitÃ³ria', 'dos', 'Giants'),\n ('dos', 'Giants', ','),\n ('Giants', ',', 'porÃ©m'),\n (',', 'porÃ©m', ','),\n ('porÃ©m', ',', 'tambÃ©m'),\n (',', 'tambÃ©m', 'ficarÃ¡'),\n ('tambÃ©m', 'ficarÃ¡', 'para'),\n ('ficarÃ¡', 'para', 'a'),\n ('para', 'a', 'histÃ³ria'),\n ('a', 'histÃ³ria', '.'),\n ('histÃ³ria', '.', 'Pela'),\n ('.', 'Pela', 'primeira'),\n ('Pela', 'primeira', 'vez'),\n ('primeira', 'vez', ','),\n ('vez', ',', 'irmÃ£os'),\n (',', 'irmÃ£os', 'quarterbacks'),\n ('irmÃ£os', 'quarterbacks', 'triunfam'),\n ('quarterbacks', 'triunfam', 'no'),\n ('triunfam', 'no', 'Super'),\n ('no', 'Super', 'Bowl'),\n ('Super', 'Bowl', 'em'),\n ('Bowl', 'em', 'temporadas'),\n ('em', 'temporadas', 'consecutivas'),\n ('temporadas', 'consecutivas', '.'),\n ('consecutivas', '.', 'No'),\n ('.', 'No', 'ano'),\n ('No', 'ano', 'passado'),\n ('ano', 'passado', ','),\n ('passado', ',', 'Peyton'),\n (',', 'Peyton', 'Manning'),\n ('Peyton', 'Manning', ','),\n ('Manning', ',', 'irmÃ£o'),\n (',', 'irmÃ£o', 'de'),\n ('irmÃ£o', 'de', 'Eli'),\n ('de', 'Eli', ','),\n ('Eli', ',', 'chegou'),\n (',', 'chegou', 'ao'),\n ('chegou', 'ao', 'tÃ\\xadtulo'),\n ('ao', 'tÃ\\xadtulo', 'mÃ¡ximo'),\n ('tÃ\\xadtulo', 'mÃ¡ximo', 'da'),\n ('mÃ¡ximo', 'da', 'NFL'),\n ('da', 'NFL', 'pelo'),\n ('NFL', 'pelo', 'Indianapolis'),\n ('pelo', 'Indianapolis', 'Colts'),\n ('Indianapolis', 'Colts', '.'),\n ('Colts', '.', 'A'),\n ('.', 'A', 'partida'),\n ('A', 'partida', 'Os'),\n ('partida', 'Os', 'Giants'),\n ('Os', 'Giants', 'comeÃ§aram'),\n ('Giants', 'comeÃ§aram', 'com'),\n ('comeÃ§aram', 'com', 'a'),\n ('com', 'a', 'posse'),\n ('a', 'posse', 'de'),\n ('posse', 'de', 'bola'),\n ('de', 'bola', ','),\n ('bola', ',', 'e'),\n (',', 'e', 'mostraram'),\n ('e', 'mostraram', 'logo'),\n ('mostraram', 'logo', 'que'),\n ('logo', 'que', 'iriam'),\n ('que', 'iriam', 'alongar'),\n ('iriam', 'alongar', 'ao'),\n ('alongar', 'ao', 'mÃ¡ximo'),\n ('ao', 'mÃ¡ximo', 'suas'),\n ('mÃ¡ximo', 'suas', 'posses'),\n ('suas', 'posses', 'de'),\n ('posses', 'de', 'bola'),\n ('de', 'bola', '.'),\n ('bola', '.', 'Misturando'),\n ('.', 'Misturando', 'corridas'),\n ('Misturando', 'corridas', 'com'),\n ('corridas', 'com', 'Brandon'),\n ('com', 'Brandon', 'Jacobs'),\n ('Brandon', 'Jacobs', 'e'),\n ('Jacobs', 'e', 'passes'),\n ('e', 'passes', 'curtos'),\n ('passes', 'curtos', ','),\n ('curtos', ',', 'o'),\n (',', 'o', 'time'),\n ('o', 'time', 'de'),\n ('time', 'de', 'Nova'),\n ('de', 'Nova', 'York'),\n ('Nova', 'York', 'chegou'),\n ('York', 'chegou', 'Ã'),\n ('chegou', 'Ã', 'red'),\n ('Ã', 'red', 'zone'),\n ('red', 'zone', 'logo'),\n ('zone', 'logo', 'na'),\n ('logo', 'na', 'primeira'),\n ('na', 'primeira', 'campanha'),\n ('primeira', 'campanha', '.'),\n ('campanha', '.', 'O'),\n ('.', 'O', 'avanÃ§o'),\n ('O', 'avanÃ§o', ','),\n ('avanÃ§o', ',', 'no'),\n (',', 'no', 'entanto'),\n ('no', 'entanto', ','),\n ('entanto', ',', 'parou'),\n (',', 'parou', 'na'),\n ('parou', 'na', 'linha'),\n ('na', 'linha', 'de'),\n ('linha', 'de', '17'),\n ('de', '17', 'jardas'),\n ('17', 'jardas', 'e'),\n ('jardas', 'e', 'Lawrence'),\n ('e', 'Lawrence', 'Tynes'),\n ('Lawrence', 'Tynes', 'converteu'),\n ('Tynes', 'converteu', 'o'),\n ('converteu', 'o', 'field'),\n ('o', 'field', 'goal'),\n ('field', 'goal', 'de'),\n ('goal', 'de', '32'),\n ('de', '32', 'jardas'),\n ('32', 'jardas', 'para'),\n ('jardas', 'para', 'abrir'),\n ('para', 'abrir', 'o'),\n ('abrir', 'o', 'placar'),\n ('o', 'placar', '.'),\n ('placar', '.', 'Eli'),\n ('.', 'Eli', 'Manning'),\n ('Eli', 'Manning', 'e'),\n ('Manning', 'e', 'companhia'),\n ('e', 'companhia', 'ficaram'),\n ('companhia', 'ficaram', '9m54s'),\n ('ficaram', '9m54s', 'com'),\n ('9m54s', 'com', 'a'),\n ('com', 'a', 'bola'),\n ('a', 'bola', ','),\n ('bola', ',', 'mas'),\n (',', 'mas', 'o'),\n ('mas', 'o', 'ataque'),\n ('o', 'ataque', 'dos'),\n ('ataque', 'dos', 'Patriots'),\n ('dos', 'Patriots', 'nÃ£o'),\n ('Patriots', 'nÃ£o', 'entrou'),\n ('nÃ£o', 'entrou', 'em'),\n ('entrou', 'em', 'campo'),\n ('em', 'campo', 'frio'),\n ('campo', 'frio', '.'),\n ('frio', '.', 'Logo'),\n ('.', 'Logo', 'no'),\n ('Logo', 'no', 'retorno'),\n ('no', 'retorno', 'do'),\n ('retorno', 'do', 'kickoff'),\n ('do', 'kickoff', ','),\n ('kickoff', ',', 'o'),\n (',', 'o', 'running'),\n ('o', 'running', 'back'),\n ('running', 'back', 'Laurence'),\n ('back', 'Laurence', 'Maroney'),\n ('Laurence', 'Maroney', 'avanÃ§ou'),\n ('Maroney', 'avanÃ§ou', '43'),\n ('avanÃ§ou', '43', 'jardas'),\n ('43', 'jardas', ','),\n ('jardas', ',', 'deixando'),\n (',', 'deixando', 'Tom'),\n ('deixando', 'Tom', 'Brady'),\n ('Tom', 'Brady', 'em'),\n ('Brady', 'em', 'boa'),\n ('em', 'boa', 'posiÃ§Ã£o'),\n ('boa', 'posiÃ§Ã£o', '.'),\n ('posiÃ§Ã£o', '.', 'Com'),\n ('.', 'Com', 'passes'),\n ('Com', 'passes', 'curtos'),\n ('passes', 'curtos', ','),\n ('curtos', ',', 'os'),\n (',', 'os', 'Patriots'),\n ('os', 'Patriots', 'chegaram'),\n ('Patriots', 'chegaram', 'Ã'),\n ('chegaram', 'Ã', 'linha'),\n ('Ã', 'linha', 'de'),\n ('linha', 'de', '17'),\n ('de', '17', 'jardas'),\n ('17', 'jardas', 'e'),\n ('jardas', 'e', ','),\n ('e', ',', 'graÃ§as'),\n (',', 'graÃ§as', 'a'),\n ('graÃ§as', 'a', 'uma'),\n ('a', 'uma', 'penalidade'),\n ('uma', 'penalidade', '('),\n ('penalidade', '(', 'interferÃªncia'),\n ('(', 'interferÃªncia', 'de'),\n ('interferÃªncia', 'de', 'passe'),\n ('de', 'passe', ')'),\n ('passe', ')', 'do'),\n (')', 'do', 'linebacker'),\n ('do', 'linebacker', 'Antonio'),\n ('linebacker', 'Antonio', 'Pierce'),\n ('Antonio', 'Pierce', ','),\n ('Pierce', ',', 'alcanÃ§aram'),\n (',', 'alcanÃ§aram', 'a'),\n ('alcanÃ§aram', 'a', 'linha'),\n ('a', 'linha', 'de'),\n ('linha', 'de', 'uma'),\n ('de', 'uma', 'jarda'),\n ('uma', 'jarda', '.'),\n ('jarda', '.', 'Maroney'),\n ('.', 'Maroney', 'avanÃ§ou'),\n ('Maroney', 'avanÃ§ou', 'pelo'),\n ('avanÃ§ou', 'pelo', 'chÃ£o'),\n ('pelo', 'chÃ£o', 'e'),\n ('chÃ£o', 'e', 'anotou'),\n ('e', 'anotou', 'o'),\n ('anotou', 'o', 'primeiro'),\n ('o', 'primeiro', 'touchdown'),\n ('primeiro', 'touchdown', 'do'),\n ('touchdown', 'do', 'jogo'),\n ('do', 'jogo', '.'),\n ('jogo', '.', 'Os'),\n ('.', 'Os', 'Giants'),\n ('Os', 'Giants', 'pareciam'),\n ('Giants', 'pareciam', 'rumo'),\n ('pareciam', 'rumo', 'Ã'),\n ('rumo', 'Ã', 'virada'),\n ('Ã', 'virada', 'na'),\n ('virada', 'na', 'campanha'),\n ('na', 'campanha', 'seguinte'),\n ('campanha', 'seguinte', '.'),\n ('seguinte', '.', 'Manning'),\n ('.', 'Manning', 'achou'),\n ('Manning', 'achou', 'Amani'),\n ('achou', 'Amani', 'Toomer'),\n ('Amani', 'Toomer', 'para'),\n ('Toomer', 'para', 'um'),\n ('para', 'um', 'avanÃ§o'),\n ('um', 'avanÃ§o', 'de'),\n ('avanÃ§o', 'de', '38'),\n ('de', '38', 'jardas'),\n ('38', 'jardas', ','),\n ('jardas', ',', 'e'),\n (',', 'e', 'o'),\n ('e', 'o', 'time'),\n ('o', 'time', 'de'),\n ('time', 'de', 'Nova'),\n ('de', 'Nova', 'York'),\n ('Nova', 'York', 'entrou'),\n ('York', 'entrou', 'novamente'),\n ('entrou', 'novamente', 'na'),\n ('novamente', 'na', 'red'),\n ('na', 'red', 'zone'),\n ('red', 'zone', '.'),\n ('zone', '.', 'Com'),\n ('.', 'Com', 'a'),\n ('Com', 'a', 'bola'),\n ('a', 'bola', 'na'),\n ('bola', 'na', 'linha'),\n ('na', 'linha', 'de'),\n ('linha', 'de', '14'),\n ('de', '14', 'jardas'),\n ('14', 'jardas', 'dos'),\n ('jardas', 'dos', 'Patriots'),\n ('dos', 'Patriots', ','),\n ('Patriots', ',', 'os'),\n (',', 'os', 'Giants'),\n ('os', 'Giants', 'sofreram'),\n ('Giants', 'sofreram', 'um'),\n ('sofreram', 'um', 'revÃ©s'),\n ('um', 'revÃ©s', '.'),\n ('revÃ©s', '.', 'Manning'),\n ('.', 'Manning', 'passou'),\n ('Manning', 'passou', 'para'),\n ('passou', 'para', 'Steve'),\n ('para', 'Steve', 'Smith'),\n ('Steve', 'Smith', ','),\n ('Smith', ',', 'que'),\n (',', 'que', 'soltou'),\n ('que', 'soltou', 'a'),\n ('soltou', 'a', 'bola'),\n ('a', 'bola', '.'),\n ('bola', '.', 'Ellis'),\n ('.', 'Ellis', 'Hobbs'),\n ('Ellis', 'Hobbs', 'aproveitou'),\n ('Hobbs', 'aproveitou', ','),\n ('aproveitou', ',', 'tomou'),\n (',', 'tomou', 'a'),\n ('tomou', 'a', 'posse'),\n ('a', 'posse', 'para'),\n ('posse', 'para', 'os'),\n ('para', 'os', 'Patriots'),\n ('os', 'Patriots', ','),\n ('Patriots', ',', 'e'),\n (',', 'e', 'avanÃ§ou'),\n ('e', 'avanÃ§ou', '23'),\n ('avanÃ§ou', '23', 'jardas'),\n ('23', 'jardas', '.'),\n ('jardas', '.', 'A'),\n ('.', 'A', 'defesa'),\n ('A', 'defesa', 'de'),\n ('defesa', 'de', 'Nova'),\n ('de', 'Nova', 'York'),\n ('Nova', 'York', 'manteve'),\n ('York', 'manteve', 'o'),\n ('manteve', 'o', 'jogo'),\n ('o', 'jogo', 'equilibrado'),\n ('jogo', 'equilibrado', '.'),\n ('equilibrado', '.', 'Com'),\n ('.', 'Com', 'dois'),\n ('Com', 'dois', 'sacks'),\n ('dois', 'sacks', 'seguidos'),\n ('sacks', 'seguidos', ','),\n ('seguidos', ',', 'os'),\n (',', 'os', 'Giants'),\n ('os', 'Giants', 'forÃ§aram'),\n ('Giants', 'forÃ§aram', 'o'),\n ('forÃ§aram', 'o', 'punt'),\n ('o', 'punt', 'e'),\n ('punt', 'e', 'recuperaram'),\n ('e', 'recuperaram', 'a'),\n ('recuperaram', 'a', 'bola'),\n ('a', 'bola', '.'),\n ('bola', '.', 'Mas'),\n ('.', 'Mas', 'a'),\n ('Mas', 'a', 'campanha'),\n ('a', 'campanha', 'seguinte'),\n ('campanha', 'seguinte', 'provou'),\n ('seguinte', 'provou', 'ser'),\n ('provou', 'ser', 'outra'),\n ('ser', 'outra', 'decepÃ§Ã£o'),\n ('outra', 'decepÃ§Ã£o', 'para'),\n ('decepÃ§Ã£o', 'para', 'Nova'),\n ('para', 'Nova', 'York'),\n ('Nova', 'York', '.'),\n ('York', '.', 'O'),\n ('.', 'O', 'time'),\n ('O', 'time', 'chegou'),\n ('time', 'chegou', 'Ã'),\n ('chegou', 'Ã', 'linha'),\n ('Ã', 'linha', 'de'),\n ('linha', 'de', '25'),\n ('de', '25', 'jardas'),\n ('25', 'jardas', ','),\n ('jardas', ',', 'mas'),\n (',', 'mas', 'Manning'),\n ('mas', 'Manning', 'sofreu'),\n ('Manning', 'sofreu', 'um'),\n ('sofreu', 'um', 'sack'),\n ('um', 'sack', 'e'),\n ('sack', 'e', 'cometeu'),\n ('e', 'cometeu', 'um'),\n ('cometeu', 'um', 'fumble'),\n ('um', 'fumble', ','),\n ('fumble', ',', 'e'),\n (',', 'e', 'o'),\n ('e', 'o', 'ataque'),\n ('o', 'ataque', 'voltou'),\n ('ataque', 'voltou', 'para'),\n ('voltou', 'para', 'a'),\n ('para', 'a', 'linha'),\n ('a', 'linha', 'de'),\n ('linha', 'de', '39'),\n ('de', '39', 'jardas'),\n ('39', 'jardas', ','),\n ('jardas', ',', 'nÃ£o'),\n (',', 'nÃ£o', 'conseguindo'),\n ('nÃ£o', 'conseguindo', 'pontuar'),\n ('conseguindo', 'pontuar', 'mais'),\n ('pontuar', 'mais', 'uma'),\n ('mais', 'uma', 'vez'),\n ('uma', 'vez', '.'),\n ('vez', '.', 'Os'),\n ('.', 'Os', 'Patriots'),\n ('Os', 'Patriots', 'tiveram'),\n ('Patriots', 'tiveram', 'uma'),\n ('tiveram', 'uma', 'Ãºltima'),\n ('uma', 'Ãºltima', 'chance'),\n ('Ãºltima', 'chance', 'de'),\n ('chance', 'de', 'marcar'),\n ('de', 'marcar', 'antes'),\n ('marcar', 'antes', 'do'),\n ('antes', 'do', 'intervalo'),\n ('do', 'intervalo', ','),\n ('intervalo', ',', 'mas'),\n (',', 'mas', ','),\n ('mas', ',', 'a'),\n (',', 'a', '22'),\n ('a', '22', 'segundos'),\n ('22', 'segundos', 'do'),\n ('segundos', 'do', 'fim'),\n ('do', 'fim', 'do'),\n ('fim', 'do', 'segundo'),\n ('do', 'segundo', 'perÃ\\xadodo'),\n ('segundo', 'perÃ\\xadodo', ','),\n ('perÃ\\xadodo', ',', 'Brady'),\n (',', 'Brady', 'foi'),\n ('Brady', 'foi', 'novamente'),\n ('foi', 'novamente', 'sacado'),\n ('novamente', 'sacado', '.'),\n ('sacado', '.', 'Desta'),\n ('.', 'Desta', 'vez'),\n ('Desta', 'vez', ','),\n ('vez', ',', 'ele'),\n (',', 'ele', 'cometeu'),\n ('ele', 'cometeu', 'o'),\n ('cometeu', 'o', 'fumble'),\n ('o', 'fumble', 'e'),\n ('fumble', 'e', 'os'),\n ('e', 'os', 'Giants'),\n ('os', 'Giants', 'tomaram'),\n ('Giants', 'tomaram', 'a'),\n ('tomaram', 'a', 'posse'),\n ('a', 'posse', 'de'),\n ('posse', 'de', 'bola'),\n ('de', 'bola', '.'),\n ('bola', '.', 'Manning'),\n ('.', 'Manning', 'tentou'),\n ('Manning', 'tentou', 'um'),\n ('tentou', 'um', 'passe'),\n ('um', 'passe', 'longo'),\n ('passe', 'longo', ','),\n ('longo', ',', 'de'),\n (',', 'de', '50'),\n ('de', '50', 'jardas'),\n ('50', 'jardas', ','),\n ('jardas', ',', 'nos'),\n (',', 'nos', 'Ãºltimos'),\n ('nos', 'Ãºltimos', 'segundos'),\n ('Ãºltimos', 'segundos', ','),\n ('segundos', ',', 'mas'),\n (',', 'mas', 'nÃ£o'),\n ('mas', 'nÃ£o', 'teve'),\n ('nÃ£o', 'teve', 'sucesso'),\n ('teve', 'sucesso', '.'),\n ('sucesso', '.', 'O'),\n ('.', 'O', 'jogo'),\n ('O', 'jogo', 'continuou'),\n ('jogo', 'continuou', 'amarrado'),\n ('continuou', 'amarrado', 'no'),\n ('amarrado', 'no', 'terceiro'),\n ('no', 'terceiro', 'quarto'),\n ('terceiro', 'quarto', ','),\n ('quarto', ',', 'com'),\n (',', 'com', 'as'),\n ('com', 'as', 'defesas'),\n ('as', 'defesas', 'levando'),\n ('defesas', 'levando', 'a'),\n ('levando', 'a', 'melhor'),\n ('a', 'melhor', 'sobre'),\n ('melhor', 'sobre', 'os'),\n ('sobre', 'os', 'ataques'),\n ('os', 'ataques', '.'),\n ('ataques', '.', 'A'),\n ('.', 'A', 'Ãºnica'),\n ('A', 'Ãºnica', 'chance'),\n ('Ãºnica', 'chance', 'de'),\n ('chance', 'de', 'pontuar'),\n ('de', 'pontuar', 'do'),\n ('pontuar', 'do', 'perÃ\\xadodo'),\n ('do', 'perÃ\\xadodo', 'foi'),\n ('perÃ\\xadodo', 'foi', 'dos'),\n ('foi', 'dos', 'Patriots'),\n ('dos', 'Patriots', ','),\n ('Patriots', ',', 'que'),\n (',', 'que', 'chegaram'),\n ('que', 'chegaram', 'Ã'),\n ('chegaram', 'Ã', 'linha'),\n ('Ã', 'linha', 'de'),\n ('linha', 'de', '31'),\n ('de', '31', 'jardas'),\n ('31', 'jardas', 'dos'),\n ('jardas', 'dos', 'Giants'),\n ('dos', 'Giants', '.'),\n ('Giants', '.', 'O'),\n ('.', 'O', 'tÃ©cnico'),\n ('O', 'tÃ©cnico', 'Bill'),\n ('tÃ©cnico', 'Bill', 'Bellichick'),\n ('Bill', 'Bellichick', ','),\n ('Bellichick', ',', 'porÃ©m'),\n (',', 'porÃ©m', ','),\n ('porÃ©m', ',', 'optou'),\n (',', 'optou', 'por'),\n ('optou', 'por', 'uma'),\n ('por', 'uma', 'quarta'),\n ('uma', 'quarta', 'descida'),\n ('quarta', 'descida', 'em'),\n ('descida', 'em', 'vez'),\n ('em', 'vez', 'de'),\n ('vez', 'de', 'um'),\n ('de', 'um', 'field'),\n ('um', 'field', 'goal'),\n ('field', 'goal', '.'),\n ('goal', '.', 'Brady'),\n ('.', 'Brady', 'tentou'),\n ('Brady', 'tentou', 'um'),\n ('tentou', 'um', 'passe'),\n ('um', 'passe', 'para'),\n ('passe', 'para', 'Jabar'),\n ('para', 'Jabar', 'Gaffney'),\n ('Jabar', 'Gaffney', ','),\n ('Gaffney', ',', 'mas'),\n (',', 'mas', 'nÃ£o'),\n ('mas', 'nÃ£o', 'conseguiu'),\n ('nÃ£o', 'conseguiu', 'completar'),\n ('conseguiu', 'completar', '.'),\n ('completar', '.', 'O'),\n ('.', 'O', 'Ãºltimo'),\n ('O', 'Ãºltimo', 'perÃ\\xadodo'),\n ('Ãºltimo', 'perÃ\\xadodo', 'comeÃ§ou'),\n ('perÃ\\xadodo', 'comeÃ§ou', 'arrasador'),\n ('comeÃ§ou', 'arrasador', 'para'),\n ('arrasador', 'para', 'os'),\n ('para', 'os', 'Giants'),\n ('os', 'Giants', '.'),\n ('Giants', '.', 'na'),\n ('.', 'na', 'primeira'),\n ('na', 'primeira', 'jogada'),\n ('primeira', 'jogada', ','),\n ('jogada', ',', 'Manning'),\n (',', 'Manning', 'achou'),\n ('Manning', 'achou', 'o'),\n ('achou', 'o', 'tight'),\n ('o', 'tight', 'end'),\n ('tight', 'end', 'Kevin'),\n ('end', 'Kevin', 'Boss'),\n ('Kevin', 'Boss', ','),\n ('Boss', ',', 'para'),\n (',', 'para', 'um'),\n ('para', 'um', 'incrÃ\\xadvel'),\n ('um', 'incrÃ\\xadvel', 'avanÃ§o'),\n ('incrÃ\\xadvel', 'avanÃ§o', 'de'),\n ('avanÃ§o', 'de', '45'),\n ('de', '45', 'jardas'),\n ('45', 'jardas', ','),\n ('jardas', ',', 'que'),\n (',', 'que', 'deixou'),\n ('que', 'deixou', 'o'),\n ('deixou', 'o', 'time'),\n ('o', 'time', 'na'),\n ('time', 'na', 'linha'),\n ('na', 'linha', 'de'),\n ('linha', 'de', '35'),\n ('de', '35', 'dos'),\n ('35', 'dos', 'Patriots'),\n ('dos', 'Patriots', '.'),\n ('Patriots', '.', 'Outro'),\n ('.', 'Outro', 'lanÃ§amento'),\n ('Outro', 'lanÃ§amento', ','),\n ('lanÃ§amento', ',', 'desta'),\n (',', 'desta', 'vez'),\n ('desta', 'vez', 'para'),\n ('vez', 'para', 'Steve'),\n ('para', 'Steve', 'Smith'),\n ('Steve', 'Smith', ','),\n ('Smith', ',', 'marcou'),\n (',', 'marcou', 'o'),\n ('marcou', 'o', 'avanÃ§o'),\n ('o', 'avanÃ§o', 'atÃ©'),\n ('avanÃ§o', 'atÃ©', 'a'),\n ('atÃ©', 'a', 'linha'),\n ('a', 'linha', 'de'),\n ('linha', 'de', '12'),\n ('de', '12', 'jardas'),\n ('12', 'jardas', '.'),\n ('jardas', '.', 'Duas'),\n ('.', 'Duas', 'jogadas'),\n ('Duas', 'jogadas', 'depois'),\n ('jogadas', 'depois', ','),\n ('depois', ',', 'David'),\n (',', 'David', 'Tyree'),\n ('David', 'Tyree', 'pegou'),\n ('Tyree', 'pegou', 'um'),\n ('pegou', 'um', 'passe'),\n ('um', 'passe', 'de'),\n ('passe', 'de', 'cinco'),\n ('de', 'cinco', 'jardas'),\n ('cinco', 'jardas', 'na'),\n ('jardas', 'na', 'end'),\n ('na', 'end', 'zone'),\n ('end', 'zone', 'para'),\n ('zone', 'para', 'anotar'),\n ('para', 'anotar', 'o'),\n ('anotar', 'o', 'touchdown'),\n ('o', 'touchdown', 'e'),\n ('touchdown', 'e', 'virar'),\n ('e', 'virar', 'o'),\n ('virar', 'o', 'jogo'),\n ('o', 'jogo', '.'),\n ('jogo', '.', 'Na'),\n ('.', 'Na', 'hora'),\n ('Na', 'hora', 'da'),\n ('hora', 'da', 'decisÃ£o'),\n ('da', 'decisÃ£o', ','),\n ('decisÃ£o', ',', 'o'),\n (',', 'o', 'ataque'),\n ('o', 'ataque', 'dos'),\n ('ataque', 'dos', 'Patriots'),\n ('dos', 'Patriots', 'voltou'),\n ('Patriots', 'voltou', 'a'),\n ('voltou', 'a', 'funcionar'),\n ('a', 'funcionar', '.'),\n ('funcionar', '.', 'Com'),\n ('.', 'Com', 'uma'),\n ('Com', 'uma', 'sÃ©rie'),\n ('uma', 'sÃ©rie', 'de'),\n ('sÃ©rie', 'de', 'passes'),\n ('de', 'passes', 'curtos'),\n ('passes', 'curtos', 'e'),\n ('curtos', 'e', 'variados'),\n ('e', 'variados', ','),\n ('variados', ',', 'Brady'),\n (',', 'Brady', 'achou'),\n ('Brady', 'achou', 'Wes'),\n ('achou', 'Wes', 'Welker'),\n ('Wes', 'Welker', ','),\n ('Welker', ',', 'Randy'),\n (',', 'Randy', 'Moss'),\n ('Randy', 'Moss', 'e'),\n ('Moss', 'e', 'Kevin'),\n ('e', 'Kevin', 'Faulk'),\n ('Kevin', 'Faulk', 'seguidas'),\n ('Faulk', 'seguidas', 'vezes'),\n ('seguidas', 'vezes', 'atÃ©'),\n ('vezes', 'atÃ©', 'chegar'),\n ('atÃ©', 'chegar', 'Ã'),\n ('chegar', 'Ã', 'red'),\n ('Ã', 'red', 'zone'),\n ('red', 'zone', '.'),\n ('zone', '.', 'A'),\n ('.', 'A', '2m45s'),\n ('A', '2m45s', 'do'),\n ('2m45s', 'do', 'fim'),\n ('do', 'fim', ','),\n ('fim', ',', 'o'),\n (',', 'o', 'quarterback'),\n ('o', 'quarterback', 'conectou'),\n ('quarterback', 'conectou', 'mais'),\n ('conectou', 'mais', 'uma'),\n ('mais', 'uma', 'vez'),\n ('uma', 'vez', 'com'),\n ('vez', 'com', 'Moss'),\n ('com', 'Moss', ','),\n ('Moss', ',', 'que'),\n (',', 'que', 'se'),\n ('que', 'se', 'desmarcou'),\n ('se', 'desmarcou', 'e'),\n ('desmarcou', 'e', 'ficou'),\n ('e', 'ficou', 'livre'),\n ('ficou', 'livre', 'na'),\n ('livre', 'na', 'lateral'),\n ('na', 'lateral', 'direita'),\n ('lateral', 'direita', 'da'),\n ('direita', 'da', 'end'),\n ('da', 'end', 'zone'),\n ('end', 'zone', '.'),\n ('zone', '.', 'Quando'),\n ('.', 'Quando', 'os'),\n ('Quando', 'os', 'fÃ£s'),\n ('os', 'fÃ£s', 'de'),\n ('fÃ£s', 'de', 'New'),\n ('de', 'New', 'England'),\n ('New', 'England', 'jÃ¡'),\n ('England', 'jÃ¡', 'comemoravam'),\n ('jÃ¡', 'comemoravam', 'a'),\n ('comemoravam', 'a', 'vitÃ³ria'),\n ('a', 'vitÃ³ria', ','),\n ('vitÃ³ria', ',', 'o'),\n (',', 'o', 'inesperado'),\n ('o', 'inesperado', 'aconteceu'),\n ('inesperado', 'aconteceu', '.'),\n ('aconteceu', '.', 'Em'),\n ('.', 'Em', 'uma'),\n ('Em', 'uma', 'jogada'),\n ('uma', 'jogada', 'incrÃ\\xadvel'),\n ('jogada', 'incrÃ\\xadvel', ','),\n ('incrÃ\\xadvel', ',', 'Eli'),\n (',', 'Eli', 'Manning'),\n ('Eli', 'Manning', 'se'),\n ('Manning', 'se', 'soltou'),\n ('se', 'soltou', 'de'),\n ('soltou', 'de', 'dois'),\n ('de', 'dois', 'marcadores'),\n ('dois', 'marcadores', 'que'),\n ('marcadores', 'que', 'o'),\n ('que', 'o', 'seguravam'),\n ('o', 'seguravam', 'pela'),\n ('seguravam', 'pela', 'camisa'),\n ('pela', 'camisa', 'e'),\n ('camisa', 'e', ','),\n ('e', ',', 'na'),\n (',', 'na', 'corrida'),\n ('na', 'corrida', ','),\n ('corrida', ',', 'lanÃ§ou'),\n (',', 'lanÃ§ou', 'para'),\n ('lanÃ§ou', 'para', 'Amani'),\n ('para', 'Amani', 'Toomer'),\n ('Amani', 'Toomer', '.'),\n ('Toomer', '.', 'O'),\n ('.', 'O', 'wide'),\n ('O', 'wide', 'receiver'),\n ('wide', 'receiver', ','),\n ('receiver', ',', 'bem'),\n (',', 'bem', 'marcado'),\n ('bem', 'marcado', ','),\n ('marcado', ',', 'saltou'),\n (',', 'saltou', 'e'),\n ('saltou', 'e', 'conseguiu'),\n ('e', 'conseguiu', 'a'),\n ('conseguiu', 'a', 'fazer'),\n ('a', 'fazer', 'recepÃ§Ã£o'),\n ('fazer', 'recepÃ§Ã£o', 'para'),\n ('recepÃ§Ã£o', 'para', 'um'),\n ('para', 'um', 'avanÃ§o'),\n ('um', 'avanÃ§o', 'de'),\n ('avanÃ§o', 'de', '32'),\n ('de', '32', 'jardas'),\n ('32', 'jardas', ','),\n ('jardas', ',', 'deixando'),\n (',', 'deixando', 'os'),\n ('deixando', 'os', 'Giants'),\n ('os', 'Giants', 'na'),\n ('Giants', 'na', 'linha'),\n ('na', 'linha', 'de'),\n ('linha', 'de', '24'),\n ('de', '24', 'de'),\n ('24', 'de', 'New'),\n ('de', 'New', 'England'),\n ('New', 'England', '.'),\n ('England', '.', 'Quatro'),\n ('.', 'Quatro', 'jogadas'),\n ('Quatro', 'jogadas', 'depois'),\n ('jogadas', 'depois', ','),\n ('depois', ',', 'a'),\n (',', 'a', '39'),\n ('a', '39', 'segundos'),\n ('39', 'segundos', 'do'),\n ('segundos', 'do', 'fim'),\n ('do', 'fim', ','),\n ('fim', ',', 'Manning'),\n (',', 'Manning', 'achou'),\n ('Manning', 'achou', 'Plaxico'),\n ('achou', 'Plaxico', 'Burress'),\n ('Plaxico', 'Burress', 'na'),\n ('Burress', 'na', 'end'),\n ('na', 'end', 'zone'),\n ('end', 'zone', 'para'),\n ('zone', 'para', 'conseguir'),\n ('para', 'conseguir', 'o'),\n ('conseguir', 'o', 'touchdown'),\n ('o', 'touchdown', 'do'),\n ('touchdown', 'do', 'tÃ\\xadtulo'),\n ('do', 'tÃ\\xadtulo', '.')]"
     },
     "execution_count": 3,
     "metadata": {},
     "output_type": "execute_result"
    }
   ],
   "source": [
    "#1b. Extract all the trigrams from corpus\n",
    "from nltk import trigrams\n",
    "tokensTrigrams = list(trigrams(tokens))\n",
    "tokensTrigrams"
   ],
   "metadata": {
    "collapsed": false,
    "pycharm": {
     "name": "#%%\n"
    }
   }
  },
  {
   "cell_type": "code",
   "execution_count": 5,
   "outputs": [
    {
     "data": {
      "text/plain": "[('Giants', 'batem', 'os', 'Patriots'),\n ('batem', 'os', 'Patriots', 'no'),\n ('os', 'Patriots', 'no', 'Super'),\n ('Patriots', 'no', 'Super', 'Bowl'),\n ('no', 'Super', 'Bowl', 'XLII'),\n ('Super', 'Bowl', 'XLII', 'AzarÃµes'),\n ('Bowl', 'XLII', 'AzarÃµes', 'acabam'),\n ('XLII', 'AzarÃµes', 'acabam', 'com'),\n ('AzarÃµes', 'acabam', 'com', 'a'),\n ('acabam', 'com', 'a', 'invencibilidade'),\n ('com', 'a', 'invencibilidade', 'de'),\n ('a', 'invencibilidade', 'de', 'New'),\n ('invencibilidade', 'de', 'New', 'England'),\n ('de', 'New', 'England', 'e'),\n ('New', 'England', 'e', 'ficam'),\n ('England', 'e', 'ficam', 'com'),\n ('e', 'ficam', 'com', 'o'),\n ('ficam', 'com', 'o', 'tÃ\\xadtulo'),\n ('com', 'o', 'tÃ\\xadtulo', 'da'),\n ('o', 'tÃ\\xadtulo', 'da', 'temporada'),\n ('tÃ\\xadtulo', 'da', 'temporada', '04/02/2008'),\n ('da', 'temporada', '04/02/2008', '-'),\n ('temporada', '04/02/2008', '-', '01h07m'),\n ('04/02/2008', '-', '01h07m', '-'),\n ('-', '01h07m', '-', 'Atualizado'),\n ('01h07m', '-', 'Atualizado', 'em'),\n ('-', 'Atualizado', 'em', '04/02/2008'),\n ('Atualizado', 'em', '04/02/2008', '-'),\n ('em', '04/02/2008', '-', '09h49m'),\n ('04/02/2008', '-', '09h49m', 'Com'),\n ('-', '09h49m', 'Com', 'um'),\n ('09h49m', 'Com', 'um', 'passe'),\n ('Com', 'um', 'passe', 'de'),\n ('um', 'passe', 'de', 'Eli'),\n ('passe', 'de', 'Eli', 'Manning'),\n ('de', 'Eli', 'Manning', 'para'),\n ('Eli', 'Manning', 'para', 'Plaxico'),\n ('Manning', 'para', 'Plaxico', 'Burress'),\n ('para', 'Plaxico', 'Burress', 'a'),\n ('Plaxico', 'Burress', 'a', '39'),\n ('Burress', 'a', '39', 'segundos'),\n ('a', '39', 'segundos', 'do'),\n ('39', 'segundos', 'do', 'fim'),\n ('segundos', 'do', 'fim', ','),\n ('do', 'fim', ',', 'o'),\n ('fim', ',', 'o', 'New'),\n (',', 'o', 'New', 'York'),\n ('o', 'New', 'York', 'Giants'),\n ('New', 'York', 'Giants', 'anotou'),\n ('York', 'Giants', 'anotou', 'o'),\n ('Giants', 'anotou', 'o', 'touchdown'),\n ('anotou', 'o', 'touchdown', 'decisivo'),\n ('o', 'touchdown', 'decisivo', 'e'),\n ('touchdown', 'decisivo', 'e', 'derrubou'),\n ('decisivo', 'e', 'derrubou', 'o'),\n ('e', 'derrubou', 'o', 'favorito'),\n ('derrubou', 'o', 'favorito', 'New'),\n ('o', 'favorito', 'New', 'England'),\n ('favorito', 'New', 'England', 'Patriots'),\n ('New', 'England', 'Patriots', 'por'),\n ('England', 'Patriots', 'por', '17'),\n ('Patriots', 'por', '17', 'a'),\n ('por', '17', 'a', '14'),\n ('17', 'a', '14', 'neste'),\n ('a', '14', 'neste', 'domingo'),\n ('14', 'neste', 'domingo', ','),\n ('neste', 'domingo', ',', 'em'),\n ('domingo', ',', 'em', 'Glendale'),\n (',', 'em', 'Glendale', ','),\n ('em', 'Glendale', ',', 'no'),\n ('Glendale', ',', 'no', 'Super'),\n (',', 'no', 'Super', 'Bowl'),\n ('no', 'Super', 'Bowl', 'XLII'),\n ('Super', 'Bowl', 'XLII', '.'),\n ('Bowl', 'XLII', '.', 'O'),\n ('XLII', '.', 'O', 'resultado'),\n ('.', 'O', 'resultado', ','),\n ('O', 'resultado', ',', 'uma'),\n ('resultado', ',', 'uma', 'das'),\n (',', 'uma', 'das', 'maiores'),\n ('uma', 'das', 'maiores', 'zebras'),\n ('das', 'maiores', 'zebras', 'da'),\n ('maiores', 'zebras', 'da', 'histÃ³ria'),\n ('zebras', 'da', 'histÃ³ria', 'do'),\n ('da', 'histÃ³ria', 'do', 'Super'),\n ('histÃ³ria', 'do', 'Super', 'Bowl'),\n ('do', 'Super', 'Bowl', ','),\n ('Super', 'Bowl', ',', 'acabou'),\n ('Bowl', ',', 'acabou', 'com'),\n (',', 'acabou', 'com', 'a'),\n ('acabou', 'com', 'a', 'temporada'),\n ('com', 'a', 'temporada', 'perfeita'),\n ('a', 'temporada', 'perfeita', 'de'),\n ('temporada', 'perfeita', 'de', 'Tom'),\n ('perfeita', 'de', 'Tom', 'Brady'),\n ('de', 'Tom', 'Brady', 'e'),\n ('Tom', 'Brady', 'e', 'companhia'),\n ('Brady', 'e', 'companhia', ','),\n ('e', 'companhia', ',', 'que'),\n ('companhia', ',', 'que', 'esperavam'),\n (',', 'que', 'esperavam', 'fazer'),\n ('que', 'esperavam', 'fazer', 'histÃ³ria'),\n ('esperavam', 'fazer', 'histÃ³ria', 'ao'),\n ('fazer', 'histÃ³ria', 'ao', 'levantar'),\n ('histÃ³ria', 'ao', 'levantar', 'o'),\n ('ao', 'levantar', 'o', 'trofÃ©u'),\n ('levantar', 'o', 'trofÃ©u', 'da'),\n ('o', 'trofÃ©u', 'da', 'NFL'),\n ('trofÃ©u', 'da', 'NFL', 'sem'),\n ('da', 'NFL', 'sem', 'sofrer'),\n ('NFL', 'sem', 'sofrer', 'uma'),\n ('sem', 'sofrer', 'uma', 'derrota'),\n ('sofrer', 'uma', 'derrota', 'no'),\n ('uma', 'derrota', 'no', 'ano'),\n ('derrota', 'no', 'ano', '.'),\n ('no', 'ano', '.', 'A'),\n ('ano', '.', 'A', 'vitÃ³ria'),\n ('.', 'A', 'vitÃ³ria', 'dos'),\n ('A', 'vitÃ³ria', 'dos', 'Giants'),\n ('vitÃ³ria', 'dos', 'Giants', ','),\n ('dos', 'Giants', ',', 'porÃ©m'),\n ('Giants', ',', 'porÃ©m', ','),\n (',', 'porÃ©m', ',', 'tambÃ©m'),\n ('porÃ©m', ',', 'tambÃ©m', 'ficarÃ¡'),\n (',', 'tambÃ©m', 'ficarÃ¡', 'para'),\n ('tambÃ©m', 'ficarÃ¡', 'para', 'a'),\n ('ficarÃ¡', 'para', 'a', 'histÃ³ria'),\n ('para', 'a', 'histÃ³ria', '.'),\n ('a', 'histÃ³ria', '.', 'Pela'),\n ('histÃ³ria', '.', 'Pela', 'primeira'),\n ('.', 'Pela', 'primeira', 'vez'),\n ('Pela', 'primeira', 'vez', ','),\n ('primeira', 'vez', ',', 'irmÃ£os'),\n ('vez', ',', 'irmÃ£os', 'quarterbacks'),\n (',', 'irmÃ£os', 'quarterbacks', 'triunfam'),\n ('irmÃ£os', 'quarterbacks', 'triunfam', 'no'),\n ('quarterbacks', 'triunfam', 'no', 'Super'),\n ('triunfam', 'no', 'Super', 'Bowl'),\n ('no', 'Super', 'Bowl', 'em'),\n ('Super', 'Bowl', 'em', 'temporadas'),\n ('Bowl', 'em', 'temporadas', 'consecutivas'),\n ('em', 'temporadas', 'consecutivas', '.'),\n ('temporadas', 'consecutivas', '.', 'No'),\n ('consecutivas', '.', 'No', 'ano'),\n ('.', 'No', 'ano', 'passado'),\n ('No', 'ano', 'passado', ','),\n ('ano', 'passado', ',', 'Peyton'),\n ('passado', ',', 'Peyton', 'Manning'),\n (',', 'Peyton', 'Manning', ','),\n ('Peyton', 'Manning', ',', 'irmÃ£o'),\n ('Manning', ',', 'irmÃ£o', 'de'),\n (',', 'irmÃ£o', 'de', 'Eli'),\n ('irmÃ£o', 'de', 'Eli', ','),\n ('de', 'Eli', ',', 'chegou'),\n ('Eli', ',', 'chegou', 'ao'),\n (',', 'chegou', 'ao', 'tÃ\\xadtulo'),\n ('chegou', 'ao', 'tÃ\\xadtulo', 'mÃ¡ximo'),\n ('ao', 'tÃ\\xadtulo', 'mÃ¡ximo', 'da'),\n ('tÃ\\xadtulo', 'mÃ¡ximo', 'da', 'NFL'),\n ('mÃ¡ximo', 'da', 'NFL', 'pelo'),\n ('da', 'NFL', 'pelo', 'Indianapolis'),\n ('NFL', 'pelo', 'Indianapolis', 'Colts'),\n ('pelo', 'Indianapolis', 'Colts', '.'),\n ('Indianapolis', 'Colts', '.', 'A'),\n ('Colts', '.', 'A', 'partida'),\n ('.', 'A', 'partida', 'Os'),\n ('A', 'partida', 'Os', 'Giants'),\n ('partida', 'Os', 'Giants', 'comeÃ§aram'),\n ('Os', 'Giants', 'comeÃ§aram', 'com'),\n ('Giants', 'comeÃ§aram', 'com', 'a'),\n ('comeÃ§aram', 'com', 'a', 'posse'),\n ('com', 'a', 'posse', 'de'),\n ('a', 'posse', 'de', 'bola'),\n ('posse', 'de', 'bola', ','),\n ('de', 'bola', ',', 'e'),\n ('bola', ',', 'e', 'mostraram'),\n (',', 'e', 'mostraram', 'logo'),\n ('e', 'mostraram', 'logo', 'que'),\n ('mostraram', 'logo', 'que', 'iriam'),\n ('logo', 'que', 'iriam', 'alongar'),\n ('que', 'iriam', 'alongar', 'ao'),\n ('iriam', 'alongar', 'ao', 'mÃ¡ximo'),\n ('alongar', 'ao', 'mÃ¡ximo', 'suas'),\n ('ao', 'mÃ¡ximo', 'suas', 'posses'),\n ('mÃ¡ximo', 'suas', 'posses', 'de'),\n ('suas', 'posses', 'de', 'bola'),\n ('posses', 'de', 'bola', '.'),\n ('de', 'bola', '.', 'Misturando'),\n ('bola', '.', 'Misturando', 'corridas'),\n ('.', 'Misturando', 'corridas', 'com'),\n ('Misturando', 'corridas', 'com', 'Brandon'),\n ('corridas', 'com', 'Brandon', 'Jacobs'),\n ('com', 'Brandon', 'Jacobs', 'e'),\n ('Brandon', 'Jacobs', 'e', 'passes'),\n ('Jacobs', 'e', 'passes', 'curtos'),\n ('e', 'passes', 'curtos', ','),\n ('passes', 'curtos', ',', 'o'),\n ('curtos', ',', 'o', 'time'),\n (',', 'o', 'time', 'de'),\n ('o', 'time', 'de', 'Nova'),\n ('time', 'de', 'Nova', 'York'),\n ('de', 'Nova', 'York', 'chegou'),\n ('Nova', 'York', 'chegou', 'Ã'),\n ('York', 'chegou', 'Ã', 'red'),\n ('chegou', 'Ã', 'red', 'zone'),\n ('Ã', 'red', 'zone', 'logo'),\n ('red', 'zone', 'logo', 'na'),\n ('zone', 'logo', 'na', 'primeira'),\n ('logo', 'na', 'primeira', 'campanha'),\n ('na', 'primeira', 'campanha', '.'),\n ('primeira', 'campanha', '.', 'O'),\n ('campanha', '.', 'O', 'avanÃ§o'),\n ('.', 'O', 'avanÃ§o', ','),\n ('O', 'avanÃ§o', ',', 'no'),\n ('avanÃ§o', ',', 'no', 'entanto'),\n (',', 'no', 'entanto', ','),\n ('no', 'entanto', ',', 'parou'),\n ('entanto', ',', 'parou', 'na'),\n (',', 'parou', 'na', 'linha'),\n ('parou', 'na', 'linha', 'de'),\n ('na', 'linha', 'de', '17'),\n ('linha', 'de', '17', 'jardas'),\n ('de', '17', 'jardas', 'e'),\n ('17', 'jardas', 'e', 'Lawrence'),\n ('jardas', 'e', 'Lawrence', 'Tynes'),\n ('e', 'Lawrence', 'Tynes', 'converteu'),\n ('Lawrence', 'Tynes', 'converteu', 'o'),\n ('Tynes', 'converteu', 'o', 'field'),\n ('converteu', 'o', 'field', 'goal'),\n ('o', 'field', 'goal', 'de'),\n ('field', 'goal', 'de', '32'),\n ('goal', 'de', '32', 'jardas'),\n ('de', '32', 'jardas', 'para'),\n ('32', 'jardas', 'para', 'abrir'),\n ('jardas', 'para', 'abrir', 'o'),\n ('para', 'abrir', 'o', 'placar'),\n ('abrir', 'o', 'placar', '.'),\n ('o', 'placar', '.', 'Eli'),\n ('placar', '.', 'Eli', 'Manning'),\n ('.', 'Eli', 'Manning', 'e'),\n ('Eli', 'Manning', 'e', 'companhia'),\n ('Manning', 'e', 'companhia', 'ficaram'),\n ('e', 'companhia', 'ficaram', '9m54s'),\n ('companhia', 'ficaram', '9m54s', 'com'),\n ('ficaram', '9m54s', 'com', 'a'),\n ('9m54s', 'com', 'a', 'bola'),\n ('com', 'a', 'bola', ','),\n ('a', 'bola', ',', 'mas'),\n ('bola', ',', 'mas', 'o'),\n (',', 'mas', 'o', 'ataque'),\n ('mas', 'o', 'ataque', 'dos'),\n ('o', 'ataque', 'dos', 'Patriots'),\n ('ataque', 'dos', 'Patriots', 'nÃ£o'),\n ('dos', 'Patriots', 'nÃ£o', 'entrou'),\n ('Patriots', 'nÃ£o', 'entrou', 'em'),\n ('nÃ£o', 'entrou', 'em', 'campo'),\n ('entrou', 'em', 'campo', 'frio'),\n ('em', 'campo', 'frio', '.'),\n ('campo', 'frio', '.', 'Logo'),\n ('frio', '.', 'Logo', 'no'),\n ('.', 'Logo', 'no', 'retorno'),\n ('Logo', 'no', 'retorno', 'do'),\n ('no', 'retorno', 'do', 'kickoff'),\n ('retorno', 'do', 'kickoff', ','),\n ('do', 'kickoff', ',', 'o'),\n ('kickoff', ',', 'o', 'running'),\n (',', 'o', 'running', 'back'),\n ('o', 'running', 'back', 'Laurence'),\n ('running', 'back', 'Laurence', 'Maroney'),\n ('back', 'Laurence', 'Maroney', 'avanÃ§ou'),\n ('Laurence', 'Maroney', 'avanÃ§ou', '43'),\n ('Maroney', 'avanÃ§ou', '43', 'jardas'),\n ('avanÃ§ou', '43', 'jardas', ','),\n ('43', 'jardas', ',', 'deixando'),\n ('jardas', ',', 'deixando', 'Tom'),\n (',', 'deixando', 'Tom', 'Brady'),\n ('deixando', 'Tom', 'Brady', 'em'),\n ('Tom', 'Brady', 'em', 'boa'),\n ('Brady', 'em', 'boa', 'posiÃ§Ã£o'),\n ('em', 'boa', 'posiÃ§Ã£o', '.'),\n ('boa', 'posiÃ§Ã£o', '.', 'Com'),\n ('posiÃ§Ã£o', '.', 'Com', 'passes'),\n ('.', 'Com', 'passes', 'curtos'),\n ('Com', 'passes', 'curtos', ','),\n ('passes', 'curtos', ',', 'os'),\n ('curtos', ',', 'os', 'Patriots'),\n (',', 'os', 'Patriots', 'chegaram'),\n ('os', 'Patriots', 'chegaram', 'Ã'),\n ('Patriots', 'chegaram', 'Ã', 'linha'),\n ('chegaram', 'Ã', 'linha', 'de'),\n ('Ã', 'linha', 'de', '17'),\n ('linha', 'de', '17', 'jardas'),\n ('de', '17', 'jardas', 'e'),\n ('17', 'jardas', 'e', ','),\n ('jardas', 'e', ',', 'graÃ§as'),\n ('e', ',', 'graÃ§as', 'a'),\n (',', 'graÃ§as', 'a', 'uma'),\n ('graÃ§as', 'a', 'uma', 'penalidade'),\n ('a', 'uma', 'penalidade', '('),\n ('uma', 'penalidade', '(', 'interferÃªncia'),\n ('penalidade', '(', 'interferÃªncia', 'de'),\n ('(', 'interferÃªncia', 'de', 'passe'),\n ('interferÃªncia', 'de', 'passe', ')'),\n ('de', 'passe', ')', 'do'),\n ('passe', ')', 'do', 'linebacker'),\n (')', 'do', 'linebacker', 'Antonio'),\n ('do', 'linebacker', 'Antonio', 'Pierce'),\n ('linebacker', 'Antonio', 'Pierce', ','),\n ('Antonio', 'Pierce', ',', 'alcanÃ§aram'),\n ('Pierce', ',', 'alcanÃ§aram', 'a'),\n (',', 'alcanÃ§aram', 'a', 'linha'),\n ('alcanÃ§aram', 'a', 'linha', 'de'),\n ('a', 'linha', 'de', 'uma'),\n ('linha', 'de', 'uma', 'jarda'),\n ('de', 'uma', 'jarda', '.'),\n ('uma', 'jarda', '.', 'Maroney'),\n ('jarda', '.', 'Maroney', 'avanÃ§ou'),\n ('.', 'Maroney', 'avanÃ§ou', 'pelo'),\n ('Maroney', 'avanÃ§ou', 'pelo', 'chÃ£o'),\n ('avanÃ§ou', 'pelo', 'chÃ£o', 'e'),\n ('pelo', 'chÃ£o', 'e', 'anotou'),\n ('chÃ£o', 'e', 'anotou', 'o'),\n ('e', 'anotou', 'o', 'primeiro'),\n ('anotou', 'o', 'primeiro', 'touchdown'),\n ('o', 'primeiro', 'touchdown', 'do'),\n ('primeiro', 'touchdown', 'do', 'jogo'),\n ('touchdown', 'do', 'jogo', '.'),\n ('do', 'jogo', '.', 'Os'),\n ('jogo', '.', 'Os', 'Giants'),\n ('.', 'Os', 'Giants', 'pareciam'),\n ('Os', 'Giants', 'pareciam', 'rumo'),\n ('Giants', 'pareciam', 'rumo', 'Ã'),\n ('pareciam', 'rumo', 'Ã', 'virada'),\n ('rumo', 'Ã', 'virada', 'na'),\n ('Ã', 'virada', 'na', 'campanha'),\n ('virada', 'na', 'campanha', 'seguinte'),\n ('na', 'campanha', 'seguinte', '.'),\n ('campanha', 'seguinte', '.', 'Manning'),\n ('seguinte', '.', 'Manning', 'achou'),\n ('.', 'Manning', 'achou', 'Amani'),\n ('Manning', 'achou', 'Amani', 'Toomer'),\n ('achou', 'Amani', 'Toomer', 'para'),\n ('Amani', 'Toomer', 'para', 'um'),\n ('Toomer', 'para', 'um', 'avanÃ§o'),\n ('para', 'um', 'avanÃ§o', 'de'),\n ('um', 'avanÃ§o', 'de', '38'),\n ('avanÃ§o', 'de', '38', 'jardas'),\n ('de', '38', 'jardas', ','),\n ('38', 'jardas', ',', 'e'),\n ('jardas', ',', 'e', 'o'),\n (',', 'e', 'o', 'time'),\n ('e', 'o', 'time', 'de'),\n ('o', 'time', 'de', 'Nova'),\n ('time', 'de', 'Nova', 'York'),\n ('de', 'Nova', 'York', 'entrou'),\n ('Nova', 'York', 'entrou', 'novamente'),\n ('York', 'entrou', 'novamente', 'na'),\n ('entrou', 'novamente', 'na', 'red'),\n ('novamente', 'na', 'red', 'zone'),\n ('na', 'red', 'zone', '.'),\n ('red', 'zone', '.', 'Com'),\n ('zone', '.', 'Com', 'a'),\n ('.', 'Com', 'a', 'bola'),\n ('Com', 'a', 'bola', 'na'),\n ('a', 'bola', 'na', 'linha'),\n ('bola', 'na', 'linha', 'de'),\n ('na', 'linha', 'de', '14'),\n ('linha', 'de', '14', 'jardas'),\n ('de', '14', 'jardas', 'dos'),\n ('14', 'jardas', 'dos', 'Patriots'),\n ('jardas', 'dos', 'Patriots', ','),\n ('dos', 'Patriots', ',', 'os'),\n ('Patriots', ',', 'os', 'Giants'),\n (',', 'os', 'Giants', 'sofreram'),\n ('os', 'Giants', 'sofreram', 'um'),\n ('Giants', 'sofreram', 'um', 'revÃ©s'),\n ('sofreram', 'um', 'revÃ©s', '.'),\n ('um', 'revÃ©s', '.', 'Manning'),\n ('revÃ©s', '.', 'Manning', 'passou'),\n ('.', 'Manning', 'passou', 'para'),\n ('Manning', 'passou', 'para', 'Steve'),\n ('passou', 'para', 'Steve', 'Smith'),\n ('para', 'Steve', 'Smith', ','),\n ('Steve', 'Smith', ',', 'que'),\n ('Smith', ',', 'que', 'soltou'),\n (',', 'que', 'soltou', 'a'),\n ('que', 'soltou', 'a', 'bola'),\n ('soltou', 'a', 'bola', '.'),\n ('a', 'bola', '.', 'Ellis'),\n ('bola', '.', 'Ellis', 'Hobbs'),\n ('.', 'Ellis', 'Hobbs', 'aproveitou'),\n ('Ellis', 'Hobbs', 'aproveitou', ','),\n ('Hobbs', 'aproveitou', ',', 'tomou'),\n ('aproveitou', ',', 'tomou', 'a'),\n (',', 'tomou', 'a', 'posse'),\n ('tomou', 'a', 'posse', 'para'),\n ('a', 'posse', 'para', 'os'),\n ('posse', 'para', 'os', 'Patriots'),\n ('para', 'os', 'Patriots', ','),\n ('os', 'Patriots', ',', 'e'),\n ('Patriots', ',', 'e', 'avanÃ§ou'),\n (',', 'e', 'avanÃ§ou', '23'),\n ('e', 'avanÃ§ou', '23', 'jardas'),\n ('avanÃ§ou', '23', 'jardas', '.'),\n ('23', 'jardas', '.', 'A'),\n ('jardas', '.', 'A', 'defesa'),\n ('.', 'A', 'defesa', 'de'),\n ('A', 'defesa', 'de', 'Nova'),\n ('defesa', 'de', 'Nova', 'York'),\n ('de', 'Nova', 'York', 'manteve'),\n ('Nova', 'York', 'manteve', 'o'),\n ('York', 'manteve', 'o', 'jogo'),\n ('manteve', 'o', 'jogo', 'equilibrado'),\n ('o', 'jogo', 'equilibrado', '.'),\n ('jogo', 'equilibrado', '.', 'Com'),\n ('equilibrado', '.', 'Com', 'dois'),\n ('.', 'Com', 'dois', 'sacks'),\n ('Com', 'dois', 'sacks', 'seguidos'),\n ('dois', 'sacks', 'seguidos', ','),\n ('sacks', 'seguidos', ',', 'os'),\n ('seguidos', ',', 'os', 'Giants'),\n (',', 'os', 'Giants', 'forÃ§aram'),\n ('os', 'Giants', 'forÃ§aram', 'o'),\n ('Giants', 'forÃ§aram', 'o', 'punt'),\n ('forÃ§aram', 'o', 'punt', 'e'),\n ('o', 'punt', 'e', 'recuperaram'),\n ('punt', 'e', 'recuperaram', 'a'),\n ('e', 'recuperaram', 'a', 'bola'),\n ('recuperaram', 'a', 'bola', '.'),\n ('a', 'bola', '.', 'Mas'),\n ('bola', '.', 'Mas', 'a'),\n ('.', 'Mas', 'a', 'campanha'),\n ('Mas', 'a', 'campanha', 'seguinte'),\n ('a', 'campanha', 'seguinte', 'provou'),\n ('campanha', 'seguinte', 'provou', 'ser'),\n ('seguinte', 'provou', 'ser', 'outra'),\n ('provou', 'ser', 'outra', 'decepÃ§Ã£o'),\n ('ser', 'outra', 'decepÃ§Ã£o', 'para'),\n ('outra', 'decepÃ§Ã£o', 'para', 'Nova'),\n ('decepÃ§Ã£o', 'para', 'Nova', 'York'),\n ('para', 'Nova', 'York', '.'),\n ('Nova', 'York', '.', 'O'),\n ('York', '.', 'O', 'time'),\n ('.', 'O', 'time', 'chegou'),\n ('O', 'time', 'chegou', 'Ã'),\n ('time', 'chegou', 'Ã', 'linha'),\n ('chegou', 'Ã', 'linha', 'de'),\n ('Ã', 'linha', 'de', '25'),\n ('linha', 'de', '25', 'jardas'),\n ('de', '25', 'jardas', ','),\n ('25', 'jardas', ',', 'mas'),\n ('jardas', ',', 'mas', 'Manning'),\n (',', 'mas', 'Manning', 'sofreu'),\n ('mas', 'Manning', 'sofreu', 'um'),\n ('Manning', 'sofreu', 'um', 'sack'),\n ('sofreu', 'um', 'sack', 'e'),\n ('um', 'sack', 'e', 'cometeu'),\n ('sack', 'e', 'cometeu', 'um'),\n ('e', 'cometeu', 'um', 'fumble'),\n ('cometeu', 'um', 'fumble', ','),\n ('um', 'fumble', ',', 'e'),\n ('fumble', ',', 'e', 'o'),\n (',', 'e', 'o', 'ataque'),\n ('e', 'o', 'ataque', 'voltou'),\n ('o', 'ataque', 'voltou', 'para'),\n ('ataque', 'voltou', 'para', 'a'),\n ('voltou', 'para', 'a', 'linha'),\n ('para', 'a', 'linha', 'de'),\n ('a', 'linha', 'de', '39'),\n ('linha', 'de', '39', 'jardas'),\n ('de', '39', 'jardas', ','),\n ('39', 'jardas', ',', 'nÃ£o'),\n ('jardas', ',', 'nÃ£o', 'conseguindo'),\n (',', 'nÃ£o', 'conseguindo', 'pontuar'),\n ('nÃ£o', 'conseguindo', 'pontuar', 'mais'),\n ('conseguindo', 'pontuar', 'mais', 'uma'),\n ('pontuar', 'mais', 'uma', 'vez'),\n ('mais', 'uma', 'vez', '.'),\n ('uma', 'vez', '.', 'Os'),\n ('vez', '.', 'Os', 'Patriots'),\n ('.', 'Os', 'Patriots', 'tiveram'),\n ('Os', 'Patriots', 'tiveram', 'uma'),\n ('Patriots', 'tiveram', 'uma', 'Ãºltima'),\n ('tiveram', 'uma', 'Ãºltima', 'chance'),\n ('uma', 'Ãºltima', 'chance', 'de'),\n ('Ãºltima', 'chance', 'de', 'marcar'),\n ('chance', 'de', 'marcar', 'antes'),\n ('de', 'marcar', 'antes', 'do'),\n ('marcar', 'antes', 'do', 'intervalo'),\n ('antes', 'do', 'intervalo', ','),\n ('do', 'intervalo', ',', 'mas'),\n ('intervalo', ',', 'mas', ','),\n (',', 'mas', ',', 'a'),\n ('mas', ',', 'a', '22'),\n (',', 'a', '22', 'segundos'),\n ('a', '22', 'segundos', 'do'),\n ('22', 'segundos', 'do', 'fim'),\n ('segundos', 'do', 'fim', 'do'),\n ('do', 'fim', 'do', 'segundo'),\n ('fim', 'do', 'segundo', 'perÃ\\xadodo'),\n ('do', 'segundo', 'perÃ\\xadodo', ','),\n ('segundo', 'perÃ\\xadodo', ',', 'Brady'),\n ('perÃ\\xadodo', ',', 'Brady', 'foi'),\n (',', 'Brady', 'foi', 'novamente'),\n ('Brady', 'foi', 'novamente', 'sacado'),\n ('foi', 'novamente', 'sacado', '.'),\n ('novamente', 'sacado', '.', 'Desta'),\n ('sacado', '.', 'Desta', 'vez'),\n ('.', 'Desta', 'vez', ','),\n ('Desta', 'vez', ',', 'ele'),\n ('vez', ',', 'ele', 'cometeu'),\n (',', 'ele', 'cometeu', 'o'),\n ('ele', 'cometeu', 'o', 'fumble'),\n ('cometeu', 'o', 'fumble', 'e'),\n ('o', 'fumble', 'e', 'os'),\n ('fumble', 'e', 'os', 'Giants'),\n ('e', 'os', 'Giants', 'tomaram'),\n ('os', 'Giants', 'tomaram', 'a'),\n ('Giants', 'tomaram', 'a', 'posse'),\n ('tomaram', 'a', 'posse', 'de'),\n ('a', 'posse', 'de', 'bola'),\n ('posse', 'de', 'bola', '.'),\n ('de', 'bola', '.', 'Manning'),\n ('bola', '.', 'Manning', 'tentou'),\n ('.', 'Manning', 'tentou', 'um'),\n ('Manning', 'tentou', 'um', 'passe'),\n ('tentou', 'um', 'passe', 'longo'),\n ('um', 'passe', 'longo', ','),\n ('passe', 'longo', ',', 'de'),\n ('longo', ',', 'de', '50'),\n (',', 'de', '50', 'jardas'),\n ('de', '50', 'jardas', ','),\n ('50', 'jardas', ',', 'nos'),\n ('jardas', ',', 'nos', 'Ãºltimos'),\n (',', 'nos', 'Ãºltimos', 'segundos'),\n ('nos', 'Ãºltimos', 'segundos', ','),\n ('Ãºltimos', 'segundos', ',', 'mas'),\n ('segundos', ',', 'mas', 'nÃ£o'),\n (',', 'mas', 'nÃ£o', 'teve'),\n ('mas', 'nÃ£o', 'teve', 'sucesso'),\n ('nÃ£o', 'teve', 'sucesso', '.'),\n ('teve', 'sucesso', '.', 'O'),\n ('sucesso', '.', 'O', 'jogo'),\n ('.', 'O', 'jogo', 'continuou'),\n ('O', 'jogo', 'continuou', 'amarrado'),\n ('jogo', 'continuou', 'amarrado', 'no'),\n ('continuou', 'amarrado', 'no', 'terceiro'),\n ('amarrado', 'no', 'terceiro', 'quarto'),\n ('no', 'terceiro', 'quarto', ','),\n ('terceiro', 'quarto', ',', 'com'),\n ('quarto', ',', 'com', 'as'),\n (',', 'com', 'as', 'defesas'),\n ('com', 'as', 'defesas', 'levando'),\n ('as', 'defesas', 'levando', 'a'),\n ('defesas', 'levando', 'a', 'melhor'),\n ('levando', 'a', 'melhor', 'sobre'),\n ('a', 'melhor', 'sobre', 'os'),\n ('melhor', 'sobre', 'os', 'ataques'),\n ('sobre', 'os', 'ataques', '.'),\n ('os', 'ataques', '.', 'A'),\n ('ataques', '.', 'A', 'Ãºnica'),\n ('.', 'A', 'Ãºnica', 'chance'),\n ('A', 'Ãºnica', 'chance', 'de'),\n ('Ãºnica', 'chance', 'de', 'pontuar'),\n ('chance', 'de', 'pontuar', 'do'),\n ('de', 'pontuar', 'do', 'perÃ\\xadodo'),\n ('pontuar', 'do', 'perÃ\\xadodo', 'foi'),\n ('do', 'perÃ\\xadodo', 'foi', 'dos'),\n ('perÃ\\xadodo', 'foi', 'dos', 'Patriots'),\n ('foi', 'dos', 'Patriots', ','),\n ('dos', 'Patriots', ',', 'que'),\n ('Patriots', ',', 'que', 'chegaram'),\n (',', 'que', 'chegaram', 'Ã'),\n ('que', 'chegaram', 'Ã', 'linha'),\n ('chegaram', 'Ã', 'linha', 'de'),\n ('Ã', 'linha', 'de', '31'),\n ('linha', 'de', '31', 'jardas'),\n ('de', '31', 'jardas', 'dos'),\n ('31', 'jardas', 'dos', 'Giants'),\n ('jardas', 'dos', 'Giants', '.'),\n ('dos', 'Giants', '.', 'O'),\n ('Giants', '.', 'O', 'tÃ©cnico'),\n ('.', 'O', 'tÃ©cnico', 'Bill'),\n ('O', 'tÃ©cnico', 'Bill', 'Bellichick'),\n ('tÃ©cnico', 'Bill', 'Bellichick', ','),\n ('Bill', 'Bellichick', ',', 'porÃ©m'),\n ('Bellichick', ',', 'porÃ©m', ','),\n (',', 'porÃ©m', ',', 'optou'),\n ('porÃ©m', ',', 'optou', 'por'),\n (',', 'optou', 'por', 'uma'),\n ('optou', 'por', 'uma', 'quarta'),\n ('por', 'uma', 'quarta', 'descida'),\n ('uma', 'quarta', 'descida', 'em'),\n ('quarta', 'descida', 'em', 'vez'),\n ('descida', 'em', 'vez', 'de'),\n ('em', 'vez', 'de', 'um'),\n ('vez', 'de', 'um', 'field'),\n ('de', 'um', 'field', 'goal'),\n ('um', 'field', 'goal', '.'),\n ('field', 'goal', '.', 'Brady'),\n ('goal', '.', 'Brady', 'tentou'),\n ('.', 'Brady', 'tentou', 'um'),\n ('Brady', 'tentou', 'um', 'passe'),\n ('tentou', 'um', 'passe', 'para'),\n ('um', 'passe', 'para', 'Jabar'),\n ('passe', 'para', 'Jabar', 'Gaffney'),\n ('para', 'Jabar', 'Gaffney', ','),\n ('Jabar', 'Gaffney', ',', 'mas'),\n ('Gaffney', ',', 'mas', 'nÃ£o'),\n (',', 'mas', 'nÃ£o', 'conseguiu'),\n ('mas', 'nÃ£o', 'conseguiu', 'completar'),\n ('nÃ£o', 'conseguiu', 'completar', '.'),\n ('conseguiu', 'completar', '.', 'O'),\n ('completar', '.', 'O', 'Ãºltimo'),\n ('.', 'O', 'Ãºltimo', 'perÃ\\xadodo'),\n ('O', 'Ãºltimo', 'perÃ\\xadodo', 'comeÃ§ou'),\n ('Ãºltimo', 'perÃ\\xadodo', 'comeÃ§ou', 'arrasador'),\n ('perÃ\\xadodo', 'comeÃ§ou', 'arrasador', 'para'),\n ('comeÃ§ou', 'arrasador', 'para', 'os'),\n ('arrasador', 'para', 'os', 'Giants'),\n ('para', 'os', 'Giants', '.'),\n ('os', 'Giants', '.', 'na'),\n ('Giants', '.', 'na', 'primeira'),\n ('.', 'na', 'primeira', 'jogada'),\n ('na', 'primeira', 'jogada', ','),\n ('primeira', 'jogada', ',', 'Manning'),\n ('jogada', ',', 'Manning', 'achou'),\n (',', 'Manning', 'achou', 'o'),\n ('Manning', 'achou', 'o', 'tight'),\n ('achou', 'o', 'tight', 'end'),\n ('o', 'tight', 'end', 'Kevin'),\n ('tight', 'end', 'Kevin', 'Boss'),\n ('end', 'Kevin', 'Boss', ','),\n ('Kevin', 'Boss', ',', 'para'),\n ('Boss', ',', 'para', 'um'),\n (',', 'para', 'um', 'incrÃ\\xadvel'),\n ('para', 'um', 'incrÃ\\xadvel', 'avanÃ§o'),\n ('um', 'incrÃ\\xadvel', 'avanÃ§o', 'de'),\n ('incrÃ\\xadvel', 'avanÃ§o', 'de', '45'),\n ('avanÃ§o', 'de', '45', 'jardas'),\n ('de', '45', 'jardas', ','),\n ('45', 'jardas', ',', 'que'),\n ('jardas', ',', 'que', 'deixou'),\n (',', 'que', 'deixou', 'o'),\n ('que', 'deixou', 'o', 'time'),\n ('deixou', 'o', 'time', 'na'),\n ('o', 'time', 'na', 'linha'),\n ('time', 'na', 'linha', 'de'),\n ('na', 'linha', 'de', '35'),\n ('linha', 'de', '35', 'dos'),\n ('de', '35', 'dos', 'Patriots'),\n ('35', 'dos', 'Patriots', '.'),\n ('dos', 'Patriots', '.', 'Outro'),\n ('Patriots', '.', 'Outro', 'lanÃ§amento'),\n ('.', 'Outro', 'lanÃ§amento', ','),\n ('Outro', 'lanÃ§amento', ',', 'desta'),\n ('lanÃ§amento', ',', 'desta', 'vez'),\n (',', 'desta', 'vez', 'para'),\n ('desta', 'vez', 'para', 'Steve'),\n ('vez', 'para', 'Steve', 'Smith'),\n ('para', 'Steve', 'Smith', ','),\n ('Steve', 'Smith', ',', 'marcou'),\n ('Smith', ',', 'marcou', 'o'),\n (',', 'marcou', 'o', 'avanÃ§o'),\n ('marcou', 'o', 'avanÃ§o', 'atÃ©'),\n ('o', 'avanÃ§o', 'atÃ©', 'a'),\n ('avanÃ§o', 'atÃ©', 'a', 'linha'),\n ('atÃ©', 'a', 'linha', 'de'),\n ('a', 'linha', 'de', '12'),\n ('linha', 'de', '12', 'jardas'),\n ('de', '12', 'jardas', '.'),\n ('12', 'jardas', '.', 'Duas'),\n ('jardas', '.', 'Duas', 'jogadas'),\n ('.', 'Duas', 'jogadas', 'depois'),\n ('Duas', 'jogadas', 'depois', ','),\n ('jogadas', 'depois', ',', 'David'),\n ('depois', ',', 'David', 'Tyree'),\n (',', 'David', 'Tyree', 'pegou'),\n ('David', 'Tyree', 'pegou', 'um'),\n ('Tyree', 'pegou', 'um', 'passe'),\n ('pegou', 'um', 'passe', 'de'),\n ('um', 'passe', 'de', 'cinco'),\n ('passe', 'de', 'cinco', 'jardas'),\n ('de', 'cinco', 'jardas', 'na'),\n ('cinco', 'jardas', 'na', 'end'),\n ('jardas', 'na', 'end', 'zone'),\n ('na', 'end', 'zone', 'para'),\n ('end', 'zone', 'para', 'anotar'),\n ('zone', 'para', 'anotar', 'o'),\n ('para', 'anotar', 'o', 'touchdown'),\n ('anotar', 'o', 'touchdown', 'e'),\n ('o', 'touchdown', 'e', 'virar'),\n ('touchdown', 'e', 'virar', 'o'),\n ('e', 'virar', 'o', 'jogo'),\n ('virar', 'o', 'jogo', '.'),\n ('o', 'jogo', '.', 'Na'),\n ('jogo', '.', 'Na', 'hora'),\n ('.', 'Na', 'hora', 'da'),\n ('Na', 'hora', 'da', 'decisÃ£o'),\n ('hora', 'da', 'decisÃ£o', ','),\n ('da', 'decisÃ£o', ',', 'o'),\n ('decisÃ£o', ',', 'o', 'ataque'),\n (',', 'o', 'ataque', 'dos'),\n ('o', 'ataque', 'dos', 'Patriots'),\n ('ataque', 'dos', 'Patriots', 'voltou'),\n ('dos', 'Patriots', 'voltou', 'a'),\n ('Patriots', 'voltou', 'a', 'funcionar'),\n ('voltou', 'a', 'funcionar', '.'),\n ('a', 'funcionar', '.', 'Com'),\n ('funcionar', '.', 'Com', 'uma'),\n ('.', 'Com', 'uma', 'sÃ©rie'),\n ('Com', 'uma', 'sÃ©rie', 'de'),\n ('uma', 'sÃ©rie', 'de', 'passes'),\n ('sÃ©rie', 'de', 'passes', 'curtos'),\n ('de', 'passes', 'curtos', 'e'),\n ('passes', 'curtos', 'e', 'variados'),\n ('curtos', 'e', 'variados', ','),\n ('e', 'variados', ',', 'Brady'),\n ('variados', ',', 'Brady', 'achou'),\n (',', 'Brady', 'achou', 'Wes'),\n ('Brady', 'achou', 'Wes', 'Welker'),\n ('achou', 'Wes', 'Welker', ','),\n ('Wes', 'Welker', ',', 'Randy'),\n ('Welker', ',', 'Randy', 'Moss'),\n (',', 'Randy', 'Moss', 'e'),\n ('Randy', 'Moss', 'e', 'Kevin'),\n ('Moss', 'e', 'Kevin', 'Faulk'),\n ('e', 'Kevin', 'Faulk', 'seguidas'),\n ('Kevin', 'Faulk', 'seguidas', 'vezes'),\n ('Faulk', 'seguidas', 'vezes', 'atÃ©'),\n ('seguidas', 'vezes', 'atÃ©', 'chegar'),\n ('vezes', 'atÃ©', 'chegar', 'Ã'),\n ('atÃ©', 'chegar', 'Ã', 'red'),\n ('chegar', 'Ã', 'red', 'zone'),\n ('Ã', 'red', 'zone', '.'),\n ('red', 'zone', '.', 'A'),\n ('zone', '.', 'A', '2m45s'),\n ('.', 'A', '2m45s', 'do'),\n ('A', '2m45s', 'do', 'fim'),\n ('2m45s', 'do', 'fim', ','),\n ('do', 'fim', ',', 'o'),\n ('fim', ',', 'o', 'quarterback'),\n (',', 'o', 'quarterback', 'conectou'),\n ('o', 'quarterback', 'conectou', 'mais'),\n ('quarterback', 'conectou', 'mais', 'uma'),\n ('conectou', 'mais', 'uma', 'vez'),\n ('mais', 'uma', 'vez', 'com'),\n ('uma', 'vez', 'com', 'Moss'),\n ('vez', 'com', 'Moss', ','),\n ('com', 'Moss', ',', 'que'),\n ('Moss', ',', 'que', 'se'),\n (',', 'que', 'se', 'desmarcou'),\n ('que', 'se', 'desmarcou', 'e'),\n ('se', 'desmarcou', 'e', 'ficou'),\n ('desmarcou', 'e', 'ficou', 'livre'),\n ('e', 'ficou', 'livre', 'na'),\n ('ficou', 'livre', 'na', 'lateral'),\n ('livre', 'na', 'lateral', 'direita'),\n ('na', 'lateral', 'direita', 'da'),\n ('lateral', 'direita', 'da', 'end'),\n ('direita', 'da', 'end', 'zone'),\n ('da', 'end', 'zone', '.'),\n ('end', 'zone', '.', 'Quando'),\n ('zone', '.', 'Quando', 'os'),\n ('.', 'Quando', 'os', 'fÃ£s'),\n ('Quando', 'os', 'fÃ£s', 'de'),\n ('os', 'fÃ£s', 'de', 'New'),\n ('fÃ£s', 'de', 'New', 'England'),\n ('de', 'New', 'England', 'jÃ¡'),\n ('New', 'England', 'jÃ¡', 'comemoravam'),\n ('England', 'jÃ¡', 'comemoravam', 'a'),\n ('jÃ¡', 'comemoravam', 'a', 'vitÃ³ria'),\n ('comemoravam', 'a', 'vitÃ³ria', ','),\n ('a', 'vitÃ³ria', ',', 'o'),\n ('vitÃ³ria', ',', 'o', 'inesperado'),\n (',', 'o', 'inesperado', 'aconteceu'),\n ('o', 'inesperado', 'aconteceu', '.'),\n ('inesperado', 'aconteceu', '.', 'Em'),\n ('aconteceu', '.', 'Em', 'uma'),\n ('.', 'Em', 'uma', 'jogada'),\n ('Em', 'uma', 'jogada', 'incrÃ\\xadvel'),\n ('uma', 'jogada', 'incrÃ\\xadvel', ','),\n ('jogada', 'incrÃ\\xadvel', ',', 'Eli'),\n ('incrÃ\\xadvel', ',', 'Eli', 'Manning'),\n (',', 'Eli', 'Manning', 'se'),\n ('Eli', 'Manning', 'se', 'soltou'),\n ('Manning', 'se', 'soltou', 'de'),\n ('se', 'soltou', 'de', 'dois'),\n ('soltou', 'de', 'dois', 'marcadores'),\n ('de', 'dois', 'marcadores', 'que'),\n ('dois', 'marcadores', 'que', 'o'),\n ('marcadores', 'que', 'o', 'seguravam'),\n ('que', 'o', 'seguravam', 'pela'),\n ('o', 'seguravam', 'pela', 'camisa'),\n ('seguravam', 'pela', 'camisa', 'e'),\n ('pela', 'camisa', 'e', ','),\n ('camisa', 'e', ',', 'na'),\n ('e', ',', 'na', 'corrida'),\n (',', 'na', 'corrida', ','),\n ('na', 'corrida', ',', 'lanÃ§ou'),\n ('corrida', ',', 'lanÃ§ou', 'para'),\n (',', 'lanÃ§ou', 'para', 'Amani'),\n ('lanÃ§ou', 'para', 'Amani', 'Toomer'),\n ('para', 'Amani', 'Toomer', '.'),\n ('Amani', 'Toomer', '.', 'O'),\n ('Toomer', '.', 'O', 'wide'),\n ('.', 'O', 'wide', 'receiver'),\n ('O', 'wide', 'receiver', ','),\n ('wide', 'receiver', ',', 'bem'),\n ('receiver', ',', 'bem', 'marcado'),\n (',', 'bem', 'marcado', ','),\n ('bem', 'marcado', ',', 'saltou'),\n ('marcado', ',', 'saltou', 'e'),\n (',', 'saltou', 'e', 'conseguiu'),\n ('saltou', 'e', 'conseguiu', 'a'),\n ('e', 'conseguiu', 'a', 'fazer'),\n ('conseguiu', 'a', 'fazer', 'recepÃ§Ã£o'),\n ('a', 'fazer', 'recepÃ§Ã£o', 'para'),\n ('fazer', 'recepÃ§Ã£o', 'para', 'um'),\n ('recepÃ§Ã£o', 'para', 'um', 'avanÃ§o'),\n ('para', 'um', 'avanÃ§o', 'de'),\n ('um', 'avanÃ§o', 'de', '32'),\n ('avanÃ§o', 'de', '32', 'jardas'),\n ('de', '32', 'jardas', ','),\n ('32', 'jardas', ',', 'deixando'),\n ('jardas', ',', 'deixando', 'os'),\n (',', 'deixando', 'os', 'Giants'),\n ('deixando', 'os', 'Giants', 'na'),\n ('os', 'Giants', 'na', 'linha'),\n ('Giants', 'na', 'linha', 'de'),\n ('na', 'linha', 'de', '24'),\n ('linha', 'de', '24', 'de'),\n ('de', '24', 'de', 'New'),\n ('24', 'de', 'New', 'England'),\n ('de', 'New', 'England', '.'),\n ('New', 'England', '.', 'Quatro'),\n ('England', '.', 'Quatro', 'jogadas'),\n ('.', 'Quatro', 'jogadas', 'depois'),\n ('Quatro', 'jogadas', 'depois', ','),\n ('jogadas', 'depois', ',', 'a'),\n ('depois', ',', 'a', '39'),\n (',', 'a', '39', 'segundos'),\n ('a', '39', 'segundos', 'do'),\n ('39', 'segundos', 'do', 'fim'),\n ('segundos', 'do', 'fim', ','),\n ('do', 'fim', ',', 'Manning'),\n ('fim', ',', 'Manning', 'achou'),\n (',', 'Manning', 'achou', 'Plaxico'),\n ('Manning', 'achou', 'Plaxico', 'Burress'),\n ('achou', 'Plaxico', 'Burress', 'na'),\n ('Plaxico', 'Burress', 'na', 'end'),\n ('Burress', 'na', 'end', 'zone'),\n ('na', 'end', 'zone', 'para'),\n ('end', 'zone', 'para', 'conseguir'),\n ('zone', 'para', 'conseguir', 'o'),\n ('para', 'conseguir', 'o', 'touchdown'),\n ('conseguir', 'o', 'touchdown', 'do'),\n ('o', 'touchdown', 'do', 'tÃ\\xadtulo'),\n ('touchdown', 'do', 'tÃ\\xadtulo', '.')]"
     },
     "execution_count": 5,
     "metadata": {},
     "output_type": "execute_result"
    }
   ],
   "source": [
    "#1c. Extract all the 4-grams from corpus\n",
    "from nltk import ngrams\n",
    "tokensNgram = list(ngrams(tokens, 4))\n",
    "tokensNgram"
   ],
   "metadata": {
    "collapsed": false,
    "pycharm": {
     "name": "#%%\n"
    }
   }
  },
  {
   "cell_type": "code",
   "execution_count": 8,
   "outputs": [
    {
     "name": "stdout",
     "output_type": "stream",
     "text": [
      "Foram achados 48 bigramas, os quais são: [('Super', 'Bowl'), ('Bowl', 'XLII'), ('XLII', 'AzarÃµes'), ('New', 'England'), ('Eli', 'Manning'), ('Plaxico', 'Burress'), ('New', 'York'), ('York', 'Giants'), ('New', 'England'), ('England', 'Patriots'), ('Super', 'Bowl'), ('Bowl', 'XLII'), ('Super', 'Bowl'), ('Tom', 'Brady'), ('Super', 'Bowl'), ('Peyton', 'Manning'), ('Indianapolis', 'Colts'), ('Os', 'Giants'), ('Brandon', 'Jacobs'), ('Nova', 'York'), ('Lawrence', 'Tynes'), ('Eli', 'Manning'), ('Laurence', 'Maroney'), ('Tom', 'Brady'), ('Antonio', 'Pierce'), ('Os', 'Giants'), ('Amani', 'Toomer'), ('Nova', 'York'), ('Steve', 'Smith'), ('Ellis', 'Hobbs'), ('Nova', 'York'), ('Nova', 'York'), ('Os', 'Patriots'), ('A', 'Ãºnica'), ('Bill', 'Bellichick'), ('Jabar', 'Gaffney'), ('O', 'Ãºltimo'), ('Kevin', 'Boss'), ('Steve', 'Smith'), ('David', 'Tyree'), ('Wes', 'Welker'), ('Randy', 'Moss'), ('Kevin', 'Faulk'), ('New', 'England'), ('Eli', 'Manning'), ('Amani', 'Toomer'), ('New', 'England'), ('Plaxico', 'Burress')]\n",
      "\n",
      "Foram achados 5 trigramas, os quais são: [('Super', 'Bowl', 'XLII'), ('Bowl', 'XLII', 'AzarÃµes'), ('New', 'York', 'Giants'), ('New', 'England', 'Patriots'), ('Super', 'Bowl', 'XLII')]\n"
     ]
    }
   ],
   "source": [
    "#1d. Return the named entities from corpus, using bigrams and trigrams\n",
    "namedBigrams = []\n",
    "namedTrigrams = []\n",
    "\n",
    "for bigram in tokensBigrams:\n",
    "    if bigram[0][0].isupper() and bigram[1][0].isupper():\n",
    "        namedBigrams.append(bigram)\n",
    "\n",
    "for trigram in tokensTrigrams:\n",
    "    if trigram[0][0].isupper() and trigram[1][0].isupper() and trigram[2][0].isupper():\n",
    "        namedTrigrams.append(trigram)\n",
    "\n",
    "print(f\"Foram achados {len(namedBigrams)} bigramas, os quais são: {namedBigrams}\")\n",
    "print(f\"\\nForam achados {len(namedTrigrams)} trigramas, os quais são: {namedTrigrams}\")"
   ],
   "metadata": {
    "collapsed": false,
    "pycharm": {
     "name": "#%%\n"
    }
   }
  },
  {
   "cell_type": "code",
   "execution_count": 4,
   "outputs": [
    {
     "name": "stdout",
     "output_type": "stream",
     "text": [
      "Palavra a fazer stemming: começaram com resultado: começ\n",
      "Palavra a fazer stemming: pareciam com resultado: parec\n",
      "Palavra a fazer stemming: manteve com resultado: mantev\n"
     ]
    }
   ],
   "source": [
    "#1e. Choose 3 words from corpus and do stemming\n",
    "\n",
    "import nltk\n",
    "\n",
    "stemmer = nltk.RSLPStemmer()\n",
    "\n",
    "listaPalavras = [\"começaram\", \"pareciam\", \"manteve\"]\n",
    "\n",
    "for palavra in listaPalavras:\n",
    "    print(f\"Palavra a fazer stemming: {palavra} com resultado: \"+(stemmer.stem(palavra)))"
   ],
   "metadata": {
    "collapsed": false,
    "pycharm": {
     "name": "#%%\n"
    }
   }
  },
  {
   "cell_type": "code",
   "execution_count": 8,
   "outputs": [
    {
     "name": "stdout",
     "output_type": "stream",
     "text": [
      "[('O', 'ART'), ('jogo', 'N'), ('continuou', 'V'), ('amarrado', 'PCP'), ('no', 'KC'), ('terceiro', 'ADJ'), ('quarto', 'N'), (',', ','), ('com', 'PREP'), ('as', 'ART'), ('defesas', 'N'), ('levando', 'V'), ('a', 'ART'), ('melhor', 'ADJ'), ('sobre', 'PREP'), ('os', 'ART'), ('ataques', 'N'), ('.', '.')]\n"
     ]
    }
   ],
   "source": [
    "#1f. Choose a sentence from the chosen corpus an return all the grammatical classes of the words in this sentence. Verify if the marker correctly find the classes\n",
    "\n",
    "from nltk.corpus import mac_morpho\n",
    "#Etiquetador para uma palavra isolada:\n",
    "from nltk.tag import UnigramTagger\n",
    "#Se precisar para bigrams:\n",
    "#from nltk.tag import BigramTagger\n",
    "\n",
    "corpus = \"O jogo continuou amarrado no terceiro quarto, com as defesas levando a melhor sobre os ataques.\"\n",
    "\n",
    "tokens = nltk.word_tokenize(corpus)\n",
    "\n",
    "sentences_train = mac_morpho.tagged_sents()\n",
    "etiquetador = UnigramTagger(sentences_train)\n",
    "\n",
    "etiquetado = etiquetador.tag(tokens)\n",
    "\n",
    "print(etiquetado)"
   ],
   "metadata": {
    "collapsed": false,
    "pycharm": {
     "name": "#%%\n"
    }
   }
  },
  {
   "cell_type": "code",
   "execution_count": 11,
   "outputs": [
    {
     "name": "stdout",
     "output_type": "stream",
     "text": [
      "[('Giants', 'NPROP'), ('batem', 'V'), ('os', 'ART'), ('Patriots', 'N'), ('no', 'KC'), ('Super', 'NPROP'), ('Bowl', 'NPROP'), ('XLII', 'N'), ('AzarÃµes', 'N'), ('acabam', 'VAUX'), ('com', 'PREP'), ('a', 'ART'), ('invencibilidade', 'N'), ('de', 'PREP'), ('New', 'NPROP'), ('England', 'NPROP'), ('e', 'KC'), ('ficam', 'V'), ('com', 'PREP'), ('o', 'ART'), ('tÃ\\xadtulo', 'N'), ('da', 'NPROP'), ('temporada', 'N'), ('04/02/2008', 'N'), ('-', '-'), ('01h07m', 'N'), ('-', '-'), ('Atualizado', 'N'), ('em', 'PREP|+'), ('04/02/2008', 'N'), ('-', '-'), ('09h49m', 'N'), ('Com', 'PREP'), ('um', 'ART'), ('passe', 'N'), ('de', 'PREP'), ('Eli', 'NPROP'), ('Manning', 'NPROP'), ('para', 'PREP'), ('Plaxico', 'N'), ('Burress', 'N'), ('a', 'ART'), ('39', 'NUM'), ('segundos', 'N'), ('do', 'NPROP'), ('fim', 'N'), (',', ','), ('o', 'ART'), ('New', 'NPROP'), ('York', 'NPROP'), ('Giants', 'NPROP'), ('anotou', 'V'), ('o', 'ART'), ('touchdown', 'N|EST'), ('decisivo', 'ADJ'), ('e', 'KC'), ('derrubou', 'V'), ('o', 'ART'), ('favorito', 'N'), ('New', 'NPROP'), ('England', 'NPROP'), ('Patriots', 'N'), ('por', 'PREP|+'), ('17', 'NUM'), ('a', 'ART'), ('14', 'NUM'), ('neste', 'N'), ('domingo', 'N'), (',', ','), ('em', 'PREP|+'), ('Glendale', 'N'), (',', ','), ('no', 'KC'), ('Super', 'NPROP'), ('Bowl', 'NPROP'), ('XLII', 'N'), ('.', '.'), ('O', 'ART'), ('resultado', 'N'), (',', ','), ('uma', 'ART'), ('das', 'NPROP'), ('maiores', 'ADJ'), ('zebras', 'N'), ('da', 'NPROP'), ('histÃ³ria', 'N'), ('do', 'NPROP'), ('Super', 'NPROP'), ('Bowl', 'NPROP'), (',', ','), ('acabou', 'VAUX'), ('com', 'PREP'), ('a', 'ART'), ('temporada', 'N'), ('perfeita', 'ADJ'), ('de', 'PREP'), ('Tom', 'NPROP'), ('Brady', 'NPROP'), ('e', 'KC'), ('companhia', 'N'), (',', ','), ('que', 'PRO-KS-REL'), ('esperavam', 'V'), ('fazer', 'V'), ('histÃ³ria', 'N'), ('ao', 'PREP'), ('levantar', 'V'), ('o', 'ART'), ('trofÃ©u', 'N'), ('da', 'NPROP'), ('NFL', 'N'), ('sem', 'PREP'), ('sofrer', 'V'), ('uma', 'ART'), ('derrota', 'N'), ('no', 'KC'), ('ano', 'N'), ('.', '.'), ('A', 'ART'), ('vitÃ³ria', 'N'), ('dos', 'NPROP'), ('Giants', 'NPROP'), (',', ','), ('porÃ©m', 'N'), (',', ','), ('tambÃ©m', 'N'), ('ficarÃ¡', 'N'), ('para', 'PREP'), ('a', 'ART'), ('histÃ³ria', 'N'), ('.', '.'), ('Pela', 'NPROP'), ('primeira', 'ADJ'), ('vez', 'N'), (',', ','), ('irmÃ£os', 'N'), ('quarterbacks', 'N'), ('triunfam', 'N'), ('no', 'KC'), ('Super', 'NPROP'), ('Bowl', 'NPROP'), ('em', 'PREP|+'), ('temporadas', 'N'), ('consecutivas', 'ADJ'), ('.', '.'), ('No', 'KC'), ('ano', 'N'), ('passado', 'PCP'), (',', ','), ('Peyton', 'N'), ('Manning', 'NPROP'), (',', ','), ('irmÃ£o', 'N'), ('de', 'PREP'), ('Eli', 'NPROP'), (',', ','), ('chegou', 'V'), ('ao', 'PREP'), ('tÃ\\xadtulo', 'N'), ('mÃ¡ximo', 'N'), ('da', 'NPROP'), ('NFL', 'N'), ('pelo', 'PDEN'), ('Indianapolis', 'N'), ('Colts', 'N'), ('.', '.'), ('A', 'ART'), ('partida', 'N'), ('Os', 'ART'), ('Giants', 'NPROP'), ('comeÃ§aram', 'N'), ('com', 'PREP'), ('a', 'ART'), ('posse', 'N'), ('de', 'PREP'), ('bola', 'N'), (',', ','), ('e', 'KC'), ('mostraram', 'V'), ('logo', 'ADV'), ('que', 'PRO-KS-REL'), ('iriam', 'VAUX'), ('alongar', 'V'), ('ao', 'PREP'), ('mÃ¡ximo', 'N'), ('suas', 'PROADJ'), ('posses', 'N'), ('de', 'PREP'), ('bola', 'N'), ('.', '.'), ('Misturando', 'N'), ('corridas', 'N'), ('com', 'PREP'), ('Brandon', 'N'), ('Jacobs', 'NPROP'), ('e', 'KC'), ('passes', 'N'), ('curtos', 'ADJ'), (',', ','), ('o', 'ART'), ('time', 'N'), ('de', 'PREP'), ('Nova', 'NPROP'), ('York', 'NPROP'), ('chegou', 'V'), ('Ã', 'N'), ('red', 'N|EST'), ('zone', 'N'), ('logo', 'ADV'), ('na', 'NPROP'), ('primeira', 'ADJ'), ('campanha', 'N'), ('.', '.'), ('O', 'ART'), ('avanÃ§o', 'N'), (',', ','), ('no', 'KC'), ('entanto', 'KC'), (',', ','), ('parou', 'V'), ('na', 'NPROP'), ('linha', 'N'), ('de', 'PREP'), ('17', 'NUM'), ('jardas', 'N'), ('e', 'KC'), ('Lawrence', 'NPROP'), ('Tynes', 'N'), ('converteu', 'V'), ('o', 'ART'), ('field', 'N|EST'), ('goal', 'N|EST'), ('de', 'PREP'), ('32', 'NUM'), ('jardas', 'N'), ('para', 'PREP'), ('abrir', 'V'), ('o', 'ART'), ('placar', 'N'), ('.', '.'), ('Eli', 'NPROP'), ('Manning', 'NPROP'), ('e', 'KC'), ('companhia', 'N'), ('ficaram', 'V'), ('9m54s', 'N'), ('com', 'PREP'), ('a', 'ART'), ('bola', 'N'), (',', ','), ('mas', 'KC'), ('o', 'ART'), ('ataque', 'N'), ('dos', 'NPROP'), ('Patriots', 'N'), ('nÃ£o', 'N'), ('entrou', 'V'), ('em', 'PREP|+'), ('campo', 'N'), ('frio', 'N'), ('.', '.'), ('Logo', 'ADV'), ('no', 'KC'), ('retorno', 'N'), ('do', 'NPROP'), ('kickoff', 'N'), (',', ','), ('o', 'ART'), ('running', 'N|EST'), ('back', 'N|EST'), ('Laurence', 'NPROP'), ('Maroney', 'N'), ('avanÃ§ou', 'N'), ('43', 'NUM'), ('jardas', 'N'), (',', ','), ('deixando', 'V'), ('Tom', 'NPROP'), ('Brady', 'NPROP'), ('em', 'PREP|+'), ('boa', 'ADJ'), ('posiÃ§Ã£o', 'N'), ('.', '.'), ('Com', 'PREP'), ('passes', 'N'), ('curtos', 'ADJ'), (',', ','), ('os', 'ART'), ('Patriots', 'N'), ('chegaram', 'V'), ('Ã', 'N'), ('linha', 'N'), ('de', 'PREP'), ('17', 'NUM'), ('jardas', 'N'), ('e', 'KC'), (',', ','), ('graÃ§as', 'N'), ('a', 'ART'), ('uma', 'ART'), ('penalidade', 'N'), ('(', '('), ('interferÃªncia', 'N'), ('de', 'PREP'), ('passe', 'N'), (')', ')'), ('do', 'NPROP'), ('linebacker', 'N'), ('Antonio', 'NPROP'), ('Pierce', 'NPROP'), (',', ','), ('alcanÃ§aram', 'N'), ('a', 'ART'), ('linha', 'N'), ('de', 'PREP'), ('uma', 'ART'), ('jarda', 'N'), ('.', '.'), ('Maroney', 'N'), ('avanÃ§ou', 'N'), ('pelo', 'PDEN'), ('chÃ£o', 'N'), ('e', 'KC'), ('anotou', 'V'), ('o', 'ART'), ('primeiro', 'ADJ'), ('touchdown', 'N|EST'), ('do', 'NPROP'), ('jogo', 'N'), ('.', '.'), ('Os', 'ART'), ('Giants', 'NPROP'), ('pareciam', 'V'), ('rumo', 'PREP|+'), ('Ã', 'N'), ('virada', 'N'), ('na', 'NPROP'), ('campanha', 'N'), ('seguinte', 'ADJ'), ('.', '.'), ('Manning', 'NPROP'), ('achou', 'V'), ('Amani', 'N'), ('Toomer', 'N'), ('para', 'PREP'), ('um', 'ART'), ('avanÃ§o', 'N'), ('de', 'PREP'), ('38', 'NUM'), ('jardas', 'N'), (',', ','), ('e', 'KC'), ('o', 'ART'), ('time', 'N'), ('de', 'PREP'), ('Nova', 'NPROP'), ('York', 'NPROP'), ('entrou', 'V'), ('novamente', 'ADV'), ('na', 'NPROP'), ('red', 'N|EST'), ('zone', 'N'), ('.', '.'), ('Com', 'PREP'), ('a', 'ART'), ('bola', 'N'), ('na', 'NPROP'), ('linha', 'N'), ('de', 'PREP'), ('14', 'NUM'), ('jardas', 'N'), ('dos', 'NPROP'), ('Patriots', 'N'), (',', ','), ('os', 'ART'), ('Giants', 'NPROP'), ('sofreram', 'V'), ('um', 'ART'), ('revÃ©s', 'N'), ('.', '.'), ('Manning', 'NPROP'), ('passou', 'V'), ('para', 'PREP'), ('Steve', 'NPROP'), ('Smith', 'NPROP'), (',', ','), ('que', 'PRO-KS-REL'), ('soltou', 'V'), ('a', 'ART'), ('bola', 'N'), ('.', '.'), ('Ellis', 'NPROP'), ('Hobbs', 'N'), ('aproveitou', 'V'), (',', ','), ('tomou', 'V'), ('a', 'ART'), ('posse', 'N'), ('para', 'PREP'), ('os', 'ART'), ('Patriots', 'N'), (',', ','), ('e', 'KC'), ('avanÃ§ou', 'N'), ('23', 'NUM'), ('jardas', 'N'), ('.', '.'), ('A', 'ART'), ('defesa', 'N'), ('de', 'PREP'), ('Nova', 'NPROP'), ('York', 'NPROP'), ('manteve', 'V'), ('o', 'ART'), ('jogo', 'N'), ('equilibrado', 'PCP'), ('.', '.'), ('Com', 'PREP'), ('dois', 'NUM'), ('sacks', 'N'), ('seguidos', 'PCP'), (',', ','), ('os', 'ART'), ('Giants', 'NPROP'), ('forÃ§aram', 'N'), ('o', 'ART'), ('punt', 'N'), ('e', 'KC'), ('recuperaram', 'N'), ('a', 'ART'), ('bola', 'N'), ('.', '.'), ('Mas', 'KC'), ('a', 'ART'), ('campanha', 'N'), ('seguinte', 'ADJ'), ('provou', 'V'), ('ser', 'VAUX'), ('outra', 'PROADJ'), ('decepÃ§Ã£o', 'N'), ('para', 'PREP'), ('Nova', 'NPROP'), ('York', 'NPROP'), ('.', '.'), ('O', 'ART'), ('time', 'N'), ('chegou', 'V'), ('Ã', 'N'), ('linha', 'N'), ('de', 'PREP'), ('25', 'NUM'), ('jardas', 'N'), (',', ','), ('mas', 'KC'), ('Manning', 'NPROP'), ('sofreu', 'V'), ('um', 'ART'), ('sack', 'N'), ('e', 'KC'), ('cometeu', 'V'), ('um', 'ART'), ('fumble', 'N|EST'), (',', ','), ('e', 'KC'), ('o', 'ART'), ('ataque', 'N'), ('voltou', 'V'), ('para', 'PREP'), ('a', 'ART'), ('linha', 'N'), ('de', 'PREP'), ('39', 'NUM'), ('jardas', 'N'), (',', ','), ('nÃ£o', 'N'), ('conseguindo', 'V'), ('pontuar', 'N'), ('mais', 'ADV'), ('uma', 'ART'), ('vez', 'N'), ('.', '.'), ('Os', 'ART'), ('Patriots', 'N'), ('tiveram', 'V'), ('uma', 'ART'), ('Ãºltima', 'N'), ('chance', 'N'), ('de', 'PREP'), ('marcar', 'V'), ('antes', 'ADV'), ('do', 'NPROP'), ('intervalo', 'N'), (',', ','), ('mas', 'KC'), (',', ','), ('a', 'ART'), ('22', 'NUM'), ('segundos', 'N'), ('do', 'NPROP'), ('fim', 'N'), ('do', 'NPROP'), ('segundo', 'PREP'), ('perÃ\\xadodo', 'N'), (',', ','), ('Brady', 'NPROP'), ('foi', 'VAUX'), ('novamente', 'ADV'), ('sacado', 'PCP'), ('.', '.'), ('Desta', 'ADV'), ('vez', 'N'), (',', ','), ('ele', 'PROPESS'), ('cometeu', 'V'), ('o', 'ART'), ('fumble', 'N|EST'), ('e', 'KC'), ('os', 'ART'), ('Giants', 'NPROP'), ('tomaram', 'V'), ('a', 'ART'), ('posse', 'N'), ('de', 'PREP'), ('bola', 'N'), ('.', '.'), ('Manning', 'NPROP'), ('tentou', 'V'), ('um', 'ART'), ('passe', 'N'), ('longo', 'ADJ'), (',', ','), ('de', 'PREP'), ('50', 'NUM'), ('jardas', 'N'), (',', ','), ('nos', 'PROPESS'), ('Ãºltimos', 'N'), ('segundos', 'N'), (',', ','), ('mas', 'KC'), ('nÃ£o', 'N'), ('teve', 'V'), ('sucesso', 'N'), ('.', '.'), ('O', 'ART'), ('jogo', 'N'), ('continuou', 'V'), ('amarrado', 'PCP'), ('no', 'KC'), ('terceiro', 'ADJ'), ('quarto', 'N'), (',', ','), ('com', 'PREP'), ('as', 'ART'), ('defesas', 'N'), ('levando', 'V'), ('a', 'ART'), ('melhor', 'ADJ'), ('sobre', 'PREP'), ('os', 'ART'), ('ataques', 'N'), ('.', '.'), ('A', 'ART'), ('Ãºnica', 'N'), ('chance', 'N'), ('de', 'PREP'), ('pontuar', 'N'), ('do', 'NPROP'), ('perÃ\\xadodo', 'N'), ('foi', 'VAUX'), ('dos', 'NPROP'), ('Patriots', 'N'), (',', ','), ('que', 'PRO-KS-REL'), ('chegaram', 'V'), ('Ã', 'N'), ('linha', 'N'), ('de', 'PREP'), ('31', 'NUM'), ('jardas', 'N'), ('dos', 'NPROP'), ('Giants', 'NPROP'), ('.', '.'), ('O', 'ART'), ('tÃ©cnico', 'N'), ('Bill', 'NPROP'), ('Bellichick', 'N'), (',', ','), ('porÃ©m', 'N'), (',', ','), ('optou', 'V'), ('por', 'PREP|+'), ('uma', 'ART'), ('quarta', 'N'), ('descida', 'N'), ('em', 'PREP|+'), ('vez', 'N'), ('de', 'PREP'), ('um', 'ART'), ('field', 'N|EST'), ('goal', 'N|EST'), ('.', '.'), ('Brady', 'NPROP'), ('tentou', 'V'), ('um', 'ART'), ('passe', 'N'), ('para', 'PREP'), ('Jabar', 'N'), ('Gaffney', 'N'), (',', ','), ('mas', 'KC'), ('nÃ£o', 'N'), ('conseguiu', 'V'), ('completar', 'V'), ('.', '.'), ('O', 'ART'), ('Ãºltimo', 'N'), ('perÃ\\xadodo', 'N'), ('comeÃ§ou', 'N'), ('arrasador', 'N'), ('para', 'PREP'), ('os', 'ART'), ('Giants', 'NPROP'), ('.', '.'), ('na', 'NPROP'), ('primeira', 'ADJ'), ('jogada', 'N'), (',', ','), ('Manning', 'NPROP'), ('achou', 'V'), ('o', 'ART'), ('tight', 'N'), ('end', 'N'), ('Kevin', 'NPROP'), ('Boss', 'N'), (',', ','), ('para', 'PREP'), ('um', 'ART'), ('incrÃ\\xadvel', 'N'), ('avanÃ§o', 'N'), ('de', 'PREP'), ('45', 'NUM'), ('jardas', 'N'), (',', ','), ('que', 'PRO-KS-REL'), ('deixou', 'V'), ('o', 'ART'), ('time', 'N'), ('na', 'NPROP'), ('linha', 'N'), ('de', 'PREP'), ('35', 'NUM'), ('dos', 'NPROP'), ('Patriots', 'N'), ('.', '.'), ('Outro', 'PROADJ'), ('lanÃ§amento', 'N'), (',', ','), ('desta', 'PROADJ'), ('vez', 'N'), ('para', 'PREP'), ('Steve', 'NPROP'), ('Smith', 'NPROP'), (',', ','), ('marcou', 'V'), ('o', 'ART'), ('avanÃ§o', 'N'), ('atÃ©', 'N'), ('a', 'ART'), ('linha', 'N'), ('de', 'PREP'), ('12', 'NUM'), ('jardas', 'N'), ('.', '.'), ('Duas', 'NUM'), ('jogadas', 'N'), ('depois', 'ADV'), (',', ','), ('David', 'NPROP'), ('Tyree', 'N'), ('pegou', 'V'), ('um', 'ART'), ('passe', 'N'), ('de', 'PREP'), ('cinco', 'NUM'), ('jardas', 'N'), ('na', 'NPROP'), ('end', 'N'), ('zone', 'N'), ('para', 'PREP'), ('anotar', 'V'), ('o', 'ART'), ('touchdown', 'N|EST'), ('e', 'KC'), ('virar', 'V'), ('o', 'ART'), ('jogo', 'N'), ('.', '.'), ('Na', 'NPROP'), ('hora', 'N'), ('da', 'NPROP'), ('decisÃ£o', 'N'), (',', ','), ('o', 'ART'), ('ataque', 'N'), ('dos', 'NPROP'), ('Patriots', 'N'), ('voltou', 'V'), ('a', 'ART'), ('funcionar', 'V'), ('.', '.'), ('Com', 'PREP'), ('uma', 'ART'), ('sÃ©rie', 'N'), ('de', 'PREP'), ('passes', 'N'), ('curtos', 'ADJ'), ('e', 'KC'), ('variados', 'PCP'), (',', ','), ('Brady', 'NPROP'), ('achou', 'V'), ('Wes', 'N'), ('Welker', 'N'), (',', ','), ('Randy', 'NPROP'), ('Moss', 'NPROP'), ('e', 'KC'), ('Kevin', 'NPROP'), ('Faulk', 'N'), ('seguidas', 'PCP'), ('vezes', 'N'), ('atÃ©', 'N'), ('chegar', 'V'), ('Ã', 'N'), ('red', 'N|EST'), ('zone', 'N'), ('.', '.'), ('A', 'ART'), ('2m45s', 'N'), ('do', 'NPROP'), ('fim', 'N'), (',', ','), ('o', 'ART'), ('quarterback', 'N|EST'), ('conectou', 'N'), ('mais', 'ADV'), ('uma', 'ART'), ('vez', 'N'), ('com', 'PREP'), ('Moss', 'NPROP'), (',', ','), ('que', 'PRO-KS-REL'), ('se', 'PROPESS'), ('desmarcou', 'N'), ('e', 'KC'), ('ficou', 'V'), ('livre', 'ADJ'), ('na', 'NPROP'), ('lateral', 'N'), ('direita', 'N'), ('da', 'NPROP'), ('end', 'N'), ('zone', 'N'), ('.', '.'), ('Quando', 'KS'), ('os', 'ART'), ('fÃ£s', 'N'), ('de', 'PREP'), ('New', 'NPROP'), ('England', 'NPROP'), ('jÃ¡', 'N'), ('comemoravam', 'V'), ('a', 'ART'), ('vitÃ³ria', 'N'), (',', ','), ('o', 'ART'), ('inesperado', 'ADJ'), ('aconteceu', 'V'), ('.', '.'), ('Em', 'PREP|+'), ('uma', 'ART'), ('jogada', 'N'), ('incrÃ\\xadvel', 'N'), (',', ','), ('Eli', 'NPROP'), ('Manning', 'NPROP'), ('se', 'PROPESS'), ('soltou', 'V'), ('de', 'PREP'), ('dois', 'NUM'), ('marcadores', 'N'), ('que', 'PRO-KS-REL'), ('o', 'ART'), ('seguravam', 'N'), ('pela', 'NPROP'), ('camisa', 'N'), ('e', 'KC'), (',', ','), ('na', 'NPROP'), ('corrida', 'N'), (',', ','), ('lanÃ§ou', 'N'), ('para', 'PREP'), ('Amani', 'N'), ('Toomer', 'N'), ('.', '.'), ('O', 'ART'), ('wide', 'N|EST'), ('receiver', 'N'), (',', ','), ('bem', 'ADV'), ('marcado', 'PCP'), (',', ','), ('saltou', 'V'), ('e', 'KC'), ('conseguiu', 'V'), ('a', 'ART'), ('fazer', 'V'), ('recepÃ§Ã£o', 'N'), ('para', 'PREP'), ('um', 'ART'), ('avanÃ§o', 'N'), ('de', 'PREP'), ('32', 'NUM'), ('jardas', 'N'), (',', ','), ('deixando', 'V'), ('os', 'ART'), ('Giants', 'NPROP'), ('na', 'NPROP'), ('linha', 'N'), ('de', 'PREP'), ('24', 'NUM'), ('de', 'PREP'), ('New', 'NPROP'), ('England', 'NPROP'), ('.', '.'), ('Quatro', 'NUM'), ('jogadas', 'N'), ('depois', 'ADV'), (',', ','), ('a', 'ART'), ('39', 'NUM'), ('segundos', 'N'), ('do', 'NPROP'), ('fim', 'N'), (',', ','), ('Manning', 'NPROP'), ('achou', 'V'), ('Plaxico', 'N'), ('Burress', 'N'), ('na', 'NPROP'), ('end', 'N'), ('zone', 'N'), ('para', 'PREP'), ('conseguir', 'V'), ('o', 'ART'), ('touchdown', 'N|EST'), ('do', 'NPROP'), ('tÃ\\xadtulo', 'N'), ('.', '.')]\n"
     ]
    }
   ],
   "source": [
    "#1g. Return all the grammatical classes by all the words from corpus\n",
    "from nltk.corpus import mac_morpho\n",
    "#Etiquetador para uma palavra isolada:\n",
    "from nltk.tag import UnigramTagger\n",
    "#Se precisar para bigrams:\n",
    "#from nltk.tag import BigramTagger\n",
    "\n",
    "#Some words are categorized wrongly so we will exclude the names using the default tagger.\n",
    "from nltk.tag import DefaultTagger\n",
    "\n",
    "corpus = open('corpus_teste.txt', 'r').read()\n",
    "\n",
    "tokens = nltk.word_tokenize(corpus)\n",
    "\n",
    "defTagger = DefaultTagger('N')\n",
    "sentences_train = mac_morpho.tagged_sents()\n",
    "etiquetador = UnigramTagger(sentences_train, backoff= defTagger)\n",
    "\n",
    "etiquetado = etiquetador.tag(tokens)\n",
    "\n",
    "print(etiquetado)"
   ],
   "metadata": {
    "collapsed": false,
    "pycharm": {
     "name": "#%%\n"
    }
   }
  },
  {
   "cell_type": "code",
   "execution_count": 12,
   "outputs": [
    {
     "name": "stdout",
     "output_type": "stream",
     "text": [
      "(S\n",
      "  Giants/NPROP\n",
      "  batem/V\n",
      "  os/ART\n",
      "  Patriots/N\n",
      "  no/KC\n",
      "  (NP Super/NPROP Bowl/NPROP)\n",
      "  (NP XLII/N AzarÃµes/N)\n",
      "  acabam/VAUX\n",
      "  com/PREP\n",
      "  a/ART\n",
      "  invencibilidade/N\n",
      "  de/PREP\n",
      "  (NP New/NPROP England/NPROP)\n",
      "  e/KC\n",
      "  ficam/V\n",
      "  com/PREP\n",
      "  o/ART\n",
      "  tÃ­tulo/N\n",
      "  da/NPROP\n",
      "  (NP temporada/N 04/02/2008/N)\n",
      "  -/-\n",
      "  01h07m/N\n",
      "  -/-\n",
      "  Atualizado/N\n",
      "  em/PREP|+\n",
      "  04/02/2008/N\n",
      "  -/-\n",
      "  09h49m/N\n",
      "  Com/PREP\n",
      "  um/ART\n",
      "  passe/N\n",
      "  de/PREP\n",
      "  (NP Eli/NPROP Manning/NPROP)\n",
      "  para/PREP\n",
      "  (NP Plaxico/N Burress/N)\n",
      "  a/ART\n",
      "  39/NUM\n",
      "  segundos/N\n",
      "  do/NPROP\n",
      "  fim/N\n",
      "  ,/,\n",
      "  o/ART\n",
      "  (NP New/NPROP York/NPROP)\n",
      "  Giants/NPROP\n",
      "  anotou/V\n",
      "  o/ART\n",
      "  touchdown/N|EST\n",
      "  decisivo/ADJ\n",
      "  e/KC\n",
      "  derrubou/V\n",
      "  o/ART\n",
      "  favorito/N\n",
      "  (NP New/NPROP England/NPROP)\n",
      "  Patriots/N\n",
      "  por/PREP|+\n",
      "  17/NUM\n",
      "  a/ART\n",
      "  14/NUM\n",
      "  (NP neste/N domingo/N)\n",
      "  ,/,\n",
      "  em/PREP|+\n",
      "  Glendale/N\n",
      "  ,/,\n",
      "  no/KC\n",
      "  (NP Super/NPROP Bowl/NPROP)\n",
      "  XLII/N\n",
      "  ./.\n",
      "  O/ART\n",
      "  resultado/N\n",
      "  ,/,\n",
      "  uma/ART\n",
      "  das/NPROP\n",
      "  maiores/ADJ\n",
      "  zebras/N\n",
      "  da/NPROP\n",
      "  histÃ³ria/N\n",
      "  (NP do/NPROP Super/NPROP)\n",
      "  Bowl/NPROP\n",
      "  ,/,\n",
      "  acabou/VAUX\n",
      "  com/PREP\n",
      "  a/ART\n",
      "  temporada/N\n",
      "  perfeita/ADJ\n",
      "  de/PREP\n",
      "  (NP Tom/NPROP Brady/NPROP)\n",
      "  e/KC\n",
      "  companhia/N\n",
      "  ,/,\n",
      "  que/PRO-KS-REL\n",
      "  esperavam/V\n",
      "  fazer/V\n",
      "  histÃ³ria/N\n",
      "  ao/PREP\n",
      "  levantar/V\n",
      "  o/ART\n",
      "  trofÃ©u/N\n",
      "  da/NPROP\n",
      "  NFL/N\n",
      "  sem/PREP\n",
      "  sofrer/V\n",
      "  uma/ART\n",
      "  derrota/N\n",
      "  no/KC\n",
      "  ano/N\n",
      "  ./.\n",
      "  A/ART\n",
      "  vitÃ³ria/N\n",
      "  (NP dos/NPROP Giants/NPROP)\n",
      "  ,/,\n",
      "  porÃ©m/N\n",
      "  ,/,\n",
      "  (NP tambÃ©m/N ficarÃ¡/N)\n",
      "  para/PREP\n",
      "  a/ART\n",
      "  histÃ³ria/N\n",
      "  ./.\n",
      "  Pela/NPROP\n",
      "  primeira/ADJ\n",
      "  vez/N\n",
      "  ,/,\n",
      "  (NP irmÃ£os/N quarterbacks/N)\n",
      "  triunfam/N\n",
      "  no/KC\n",
      "  (NP Super/NPROP Bowl/NPROP)\n",
      "  em/PREP|+\n",
      "  temporadas/N\n",
      "  consecutivas/ADJ\n",
      "  ./.\n",
      "  No/KC\n",
      "  ano/N\n",
      "  passado/PCP\n",
      "  ,/,\n",
      "  Peyton/N\n",
      "  Manning/NPROP\n",
      "  ,/,\n",
      "  irmÃ£o/N\n",
      "  de/PREP\n",
      "  Eli/NPROP\n",
      "  ,/,\n",
      "  chegou/V\n",
      "  ao/PREP\n",
      "  (NP tÃ­tulo/N mÃ¡ximo/N)\n",
      "  da/NPROP\n",
      "  NFL/N\n",
      "  pelo/PDEN\n",
      "  (NP Indianapolis/N Colts/N)\n",
      "  ./.\n",
      "  A/ART\n",
      "  partida/N\n",
      "  Os/ART\n",
      "  Giants/NPROP\n",
      "  comeÃ§aram/N\n",
      "  com/PREP\n",
      "  a/ART\n",
      "  posse/N\n",
      "  de/PREP\n",
      "  bola/N\n",
      "  ,/,\n",
      "  e/KC\n",
      "  mostraram/V\n",
      "  logo/ADV\n",
      "  que/PRO-KS-REL\n",
      "  iriam/VAUX\n",
      "  alongar/V\n",
      "  ao/PREP\n",
      "  mÃ¡ximo/N\n",
      "  suas/PROADJ\n",
      "  posses/N\n",
      "  de/PREP\n",
      "  bola/N\n",
      "  ./.\n",
      "  (NP Misturando/N corridas/N)\n",
      "  com/PREP\n",
      "  Brandon/N\n",
      "  Jacobs/NPROP\n",
      "  e/KC\n",
      "  passes/N\n",
      "  curtos/ADJ\n",
      "  ,/,\n",
      "  o/ART\n",
      "  time/N\n",
      "  de/PREP\n",
      "  (NP Nova/NPROP York/NPROP)\n",
      "  chegou/V\n",
      "  Ã/N\n",
      "  red/N|EST\n",
      "  zone/N\n",
      "  logo/ADV\n",
      "  na/NPROP\n",
      "  primeira/ADJ\n",
      "  campanha/N\n",
      "  ./.\n",
      "  O/ART\n",
      "  avanÃ§o/N\n",
      "  ,/,\n",
      "  no/KC\n",
      "  entanto/KC\n",
      "  ,/,\n",
      "  parou/V\n",
      "  na/NPROP\n",
      "  linha/N\n",
      "  de/PREP\n",
      "  17/NUM\n",
      "  jardas/N\n",
      "  e/KC\n",
      "  Lawrence/NPROP\n",
      "  Tynes/N\n",
      "  converteu/V\n",
      "  o/ART\n",
      "  field/N|EST\n",
      "  goal/N|EST\n",
      "  de/PREP\n",
      "  32/NUM\n",
      "  jardas/N\n",
      "  para/PREP\n",
      "  abrir/V\n",
      "  o/ART\n",
      "  placar/N\n",
      "  ./.\n",
      "  (NP Eli/NPROP Manning/NPROP)\n",
      "  e/KC\n",
      "  companhia/N\n",
      "  ficaram/V\n",
      "  9m54s/N\n",
      "  com/PREP\n",
      "  a/ART\n",
      "  bola/N\n",
      "  ,/,\n",
      "  mas/KC\n",
      "  o/ART\n",
      "  ataque/N\n",
      "  dos/NPROP\n",
      "  (NP Patriots/N nÃ£o/N)\n",
      "  entrou/V\n",
      "  em/PREP|+\n",
      "  (NP campo/N frio/N)\n",
      "  ./.\n",
      "  Logo/ADV\n",
      "  no/KC\n",
      "  retorno/N\n",
      "  do/NPROP\n",
      "  kickoff/N\n",
      "  ,/,\n",
      "  o/ART\n",
      "  running/N|EST\n",
      "  back/N|EST\n",
      "  Laurence/NPROP\n",
      "  (NP Maroney/N avanÃ§ou/N)\n",
      "  43/NUM\n",
      "  jardas/N\n",
      "  ,/,\n",
      "  deixando/V\n",
      "  (NP Tom/NPROP Brady/NPROP)\n",
      "  em/PREP|+\n",
      "  boa/ADJ\n",
      "  posiÃ§Ã£o/N\n",
      "  ./.\n",
      "  Com/PREP\n",
      "  passes/N\n",
      "  curtos/ADJ\n",
      "  ,/,\n",
      "  os/ART\n",
      "  Patriots/N\n",
      "  chegaram/V\n",
      "  (NP Ã/N linha/N)\n",
      "  de/PREP\n",
      "  17/NUM\n",
      "  jardas/N\n",
      "  e/KC\n",
      "  ,/,\n",
      "  graÃ§as/N\n",
      "  a/ART\n",
      "  uma/ART\n",
      "  penalidade/N\n",
      "  (/(\n",
      "  interferÃªncia/N\n",
      "  de/PREP\n",
      "  passe/N\n",
      "  )/)\n",
      "  do/NPROP\n",
      "  linebacker/N\n",
      "  (NP Antonio/NPROP Pierce/NPROP)\n",
      "  ,/,\n",
      "  alcanÃ§aram/N\n",
      "  a/ART\n",
      "  linha/N\n",
      "  de/PREP\n",
      "  uma/ART\n",
      "  jarda/N\n",
      "  ./.\n",
      "  (NP Maroney/N avanÃ§ou/N)\n",
      "  pelo/PDEN\n",
      "  chÃ£o/N\n",
      "  e/KC\n",
      "  anotou/V\n",
      "  o/ART\n",
      "  primeiro/ADJ\n",
      "  touchdown/N|EST\n",
      "  do/NPROP\n",
      "  jogo/N\n",
      "  ./.\n",
      "  Os/ART\n",
      "  Giants/NPROP\n",
      "  pareciam/V\n",
      "  rumo/PREP|+\n",
      "  (NP Ã/N virada/N)\n",
      "  na/NPROP\n",
      "  campanha/N\n",
      "  seguinte/ADJ\n",
      "  ./.\n",
      "  Manning/NPROP\n",
      "  achou/V\n",
      "  (NP Amani/N Toomer/N)\n",
      "  para/PREP\n",
      "  um/ART\n",
      "  avanÃ§o/N\n",
      "  de/PREP\n",
      "  38/NUM\n",
      "  jardas/N\n",
      "  ,/,\n",
      "  e/KC\n",
      "  o/ART\n",
      "  time/N\n",
      "  de/PREP\n",
      "  (NP Nova/NPROP York/NPROP)\n",
      "  entrou/V\n",
      "  novamente/ADV\n",
      "  na/NPROP\n",
      "  red/N|EST\n",
      "  zone/N\n",
      "  ./.\n",
      "  Com/PREP\n",
      "  a/ART\n",
      "  bola/N\n",
      "  na/NPROP\n",
      "  linha/N\n",
      "  de/PREP\n",
      "  14/NUM\n",
      "  jardas/N\n",
      "  dos/NPROP\n",
      "  Patriots/N\n",
      "  ,/,\n",
      "  os/ART\n",
      "  Giants/NPROP\n",
      "  sofreram/V\n",
      "  um/ART\n",
      "  revÃ©s/N\n",
      "  ./.\n",
      "  Manning/NPROP\n",
      "  passou/V\n",
      "  para/PREP\n",
      "  (NP Steve/NPROP Smith/NPROP)\n",
      "  ,/,\n",
      "  que/PRO-KS-REL\n",
      "  soltou/V\n",
      "  a/ART\n",
      "  bola/N\n",
      "  ./.\n",
      "  Ellis/NPROP\n",
      "  Hobbs/N\n",
      "  aproveitou/V\n",
      "  ,/,\n",
      "  tomou/V\n",
      "  a/ART\n",
      "  posse/N\n",
      "  para/PREP\n",
      "  os/ART\n",
      "  Patriots/N\n",
      "  ,/,\n",
      "  e/KC\n",
      "  avanÃ§ou/N\n",
      "  23/NUM\n",
      "  jardas/N\n",
      "  ./.\n",
      "  A/ART\n",
      "  defesa/N\n",
      "  de/PREP\n",
      "  (NP Nova/NPROP York/NPROP)\n",
      "  manteve/V\n",
      "  o/ART\n",
      "  jogo/N\n",
      "  equilibrado/PCP\n",
      "  ./.\n",
      "  Com/PREP\n",
      "  dois/NUM\n",
      "  sacks/N\n",
      "  seguidos/PCP\n",
      "  ,/,\n",
      "  os/ART\n",
      "  Giants/NPROP\n",
      "  forÃ§aram/N\n",
      "  o/ART\n",
      "  punt/N\n",
      "  e/KC\n",
      "  recuperaram/N\n",
      "  a/ART\n",
      "  bola/N\n",
      "  ./.\n",
      "  Mas/KC\n",
      "  a/ART\n",
      "  campanha/N\n",
      "  seguinte/ADJ\n",
      "  provou/V\n",
      "  ser/VAUX\n",
      "  outra/PROADJ\n",
      "  decepÃ§Ã£o/N\n",
      "  para/PREP\n",
      "  (NP Nova/NPROP York/NPROP)\n",
      "  ./.\n",
      "  O/ART\n",
      "  time/N\n",
      "  chegou/V\n",
      "  (NP Ã/N linha/N)\n",
      "  de/PREP\n",
      "  25/NUM\n",
      "  jardas/N\n",
      "  ,/,\n",
      "  mas/KC\n",
      "  Manning/NPROP\n",
      "  sofreu/V\n",
      "  um/ART\n",
      "  sack/N\n",
      "  e/KC\n",
      "  cometeu/V\n",
      "  um/ART\n",
      "  fumble/N|EST\n",
      "  ,/,\n",
      "  e/KC\n",
      "  o/ART\n",
      "  ataque/N\n",
      "  voltou/V\n",
      "  para/PREP\n",
      "  a/ART\n",
      "  linha/N\n",
      "  de/PREP\n",
      "  39/NUM\n",
      "  jardas/N\n",
      "  ,/,\n",
      "  nÃ£o/N\n",
      "  conseguindo/V\n",
      "  pontuar/N\n",
      "  mais/ADV\n",
      "  uma/ART\n",
      "  vez/N\n",
      "  ./.\n",
      "  Os/ART\n",
      "  Patriots/N\n",
      "  tiveram/V\n",
      "  uma/ART\n",
      "  (NP Ãºltima/N chance/N)\n",
      "  de/PREP\n",
      "  marcar/V\n",
      "  antes/ADV\n",
      "  do/NPROP\n",
      "  intervalo/N\n",
      "  ,/,\n",
      "  mas/KC\n",
      "  ,/,\n",
      "  a/ART\n",
      "  22/NUM\n",
      "  segundos/N\n",
      "  do/NPROP\n",
      "  fim/N\n",
      "  do/NPROP\n",
      "  segundo/PREP\n",
      "  perÃ­odo/N\n",
      "  ,/,\n",
      "  Brady/NPROP\n",
      "  foi/VAUX\n",
      "  novamente/ADV\n",
      "  sacado/PCP\n",
      "  ./.\n",
      "  Desta/ADV\n",
      "  vez/N\n",
      "  ,/,\n",
      "  ele/PROPESS\n",
      "  cometeu/V\n",
      "  o/ART\n",
      "  fumble/N|EST\n",
      "  e/KC\n",
      "  os/ART\n",
      "  Giants/NPROP\n",
      "  tomaram/V\n",
      "  a/ART\n",
      "  posse/N\n",
      "  de/PREP\n",
      "  bola/N\n",
      "  ./.\n",
      "  Manning/NPROP\n",
      "  tentou/V\n",
      "  um/ART\n",
      "  passe/N\n",
      "  longo/ADJ\n",
      "  ,/,\n",
      "  de/PREP\n",
      "  50/NUM\n",
      "  jardas/N\n",
      "  ,/,\n",
      "  nos/PROPESS\n",
      "  (NP Ãºltimos/N segundos/N)\n",
      "  ,/,\n",
      "  mas/KC\n",
      "  nÃ£o/N\n",
      "  teve/V\n",
      "  sucesso/N\n",
      "  ./.\n",
      "  O/ART\n",
      "  jogo/N\n",
      "  continuou/V\n",
      "  amarrado/PCP\n",
      "  no/KC\n",
      "  terceiro/ADJ\n",
      "  quarto/N\n",
      "  ,/,\n",
      "  com/PREP\n",
      "  as/ART\n",
      "  defesas/N\n",
      "  levando/V\n",
      "  a/ART\n",
      "  melhor/ADJ\n",
      "  sobre/PREP\n",
      "  os/ART\n",
      "  ataques/N\n",
      "  ./.\n",
      "  A/ART\n",
      "  (NP Ãºnica/N chance/N)\n",
      "  de/PREP\n",
      "  pontuar/N\n",
      "  do/NPROP\n",
      "  perÃ­odo/N\n",
      "  foi/VAUX\n",
      "  dos/NPROP\n",
      "  Patriots/N\n",
      "  ,/,\n",
      "  que/PRO-KS-REL\n",
      "  chegaram/V\n",
      "  (NP Ã/N linha/N)\n",
      "  de/PREP\n",
      "  31/NUM\n",
      "  jardas/N\n",
      "  (NP dos/NPROP Giants/NPROP)\n",
      "  ./.\n",
      "  O/ART\n",
      "  tÃ©cnico/N\n",
      "  Bill/NPROP\n",
      "  Bellichick/N\n",
      "  ,/,\n",
      "  porÃ©m/N\n",
      "  ,/,\n",
      "  optou/V\n",
      "  por/PREP|+\n",
      "  uma/ART\n",
      "  (NP quarta/N descida/N)\n",
      "  em/PREP|+\n",
      "  vez/N\n",
      "  de/PREP\n",
      "  um/ART\n",
      "  field/N|EST\n",
      "  goal/N|EST\n",
      "  ./.\n",
      "  Brady/NPROP\n",
      "  tentou/V\n",
      "  um/ART\n",
      "  passe/N\n",
      "  para/PREP\n",
      "  (NP Jabar/N Gaffney/N)\n",
      "  ,/,\n",
      "  mas/KC\n",
      "  nÃ£o/N\n",
      "  conseguiu/V\n",
      "  completar/V\n",
      "  ./.\n",
      "  O/ART\n",
      "  (NP Ãºltimo/N perÃ­odo/N)\n",
      "  (NP comeÃ§ou/N arrasador/N)\n",
      "  para/PREP\n",
      "  os/ART\n",
      "  Giants/NPROP\n",
      "  ./.\n",
      "  na/NPROP\n",
      "  primeira/ADJ\n",
      "  jogada/N\n",
      "  ,/,\n",
      "  Manning/NPROP\n",
      "  achou/V\n",
      "  o/ART\n",
      "  (NP tight/N end/N)\n",
      "  Kevin/NPROP\n",
      "  Boss/N\n",
      "  ,/,\n",
      "  para/PREP\n",
      "  um/ART\n",
      "  (NP incrÃ­vel/N avanÃ§o/N)\n",
      "  de/PREP\n",
      "  45/NUM\n",
      "  jardas/N\n",
      "  ,/,\n",
      "  que/PRO-KS-REL\n",
      "  deixou/V\n",
      "  o/ART\n",
      "  time/N\n",
      "  na/NPROP\n",
      "  linha/N\n",
      "  de/PREP\n",
      "  35/NUM\n",
      "  dos/NPROP\n",
      "  Patriots/N\n",
      "  ./.\n",
      "  Outro/PROADJ\n",
      "  lanÃ§amento/N\n",
      "  ,/,\n",
      "  desta/PROADJ\n",
      "  vez/N\n",
      "  para/PREP\n",
      "  (NP Steve/NPROP Smith/NPROP)\n",
      "  ,/,\n",
      "  marcou/V\n",
      "  o/ART\n",
      "  (NP avanÃ§o/N atÃ©/N)\n",
      "  a/ART\n",
      "  linha/N\n",
      "  de/PREP\n",
      "  12/NUM\n",
      "  jardas/N\n",
      "  ./.\n",
      "  Duas/NUM\n",
      "  jogadas/N\n",
      "  depois/ADV\n",
      "  ,/,\n",
      "  David/NPROP\n",
      "  Tyree/N\n",
      "  pegou/V\n",
      "  um/ART\n",
      "  passe/N\n",
      "  de/PREP\n",
      "  cinco/NUM\n",
      "  jardas/N\n",
      "  na/NPROP\n",
      "  (NP end/N zone/N)\n",
      "  para/PREP\n",
      "  anotar/V\n",
      "  o/ART\n",
      "  touchdown/N|EST\n",
      "  e/KC\n",
      "  virar/V\n",
      "  o/ART\n",
      "  jogo/N\n",
      "  ./.\n",
      "  Na/NPROP\n",
      "  hora/N\n",
      "  da/NPROP\n",
      "  decisÃ£o/N\n",
      "  ,/,\n",
      "  o/ART\n",
      "  ataque/N\n",
      "  dos/NPROP\n",
      "  Patriots/N\n",
      "  voltou/V\n",
      "  a/ART\n",
      "  funcionar/V\n",
      "  ./.\n",
      "  Com/PREP\n",
      "  uma/ART\n",
      "  sÃ©rie/N\n",
      "  de/PREP\n",
      "  passes/N\n",
      "  curtos/ADJ\n",
      "  e/KC\n",
      "  variados/PCP\n",
      "  ,/,\n",
      "  Brady/NPROP\n",
      "  achou/V\n",
      "  (NP Wes/N Welker/N)\n",
      "  ,/,\n",
      "  (NP Randy/NPROP Moss/NPROP)\n",
      "  e/KC\n",
      "  Kevin/NPROP\n",
      "  Faulk/N\n",
      "  seguidas/PCP\n",
      "  (NP vezes/N atÃ©/N)\n",
      "  chegar/V\n",
      "  Ã/N\n",
      "  red/N|EST\n",
      "  zone/N\n",
      "  ./.\n",
      "  A/ART\n",
      "  2m45s/N\n",
      "  do/NPROP\n",
      "  fim/N\n",
      "  ,/,\n",
      "  o/ART\n",
      "  quarterback/N|EST\n",
      "  conectou/N\n",
      "  mais/ADV\n",
      "  uma/ART\n",
      "  vez/N\n",
      "  com/PREP\n",
      "  Moss/NPROP\n",
      "  ,/,\n",
      "  que/PRO-KS-REL\n",
      "  se/PROPESS\n",
      "  desmarcou/N\n",
      "  e/KC\n",
      "  ficou/V\n",
      "  livre/ADJ\n",
      "  na/NPROP\n",
      "  (NP lateral/N direita/N)\n",
      "  da/NPROP\n",
      "  (NP end/N zone/N)\n",
      "  ./.\n",
      "  Quando/KS\n",
      "  os/ART\n",
      "  fÃ£s/N\n",
      "  de/PREP\n",
      "  (NP New/NPROP England/NPROP)\n",
      "  jÃ¡/N\n",
      "  comemoravam/V\n",
      "  a/ART\n",
      "  vitÃ³ria/N\n",
      "  ,/,\n",
      "  o/ART\n",
      "  inesperado/ADJ\n",
      "  aconteceu/V\n",
      "  ./.\n",
      "  Em/PREP|+\n",
      "  uma/ART\n",
      "  (NP jogada/N incrÃ­vel/N)\n",
      "  ,/,\n",
      "  (NP Eli/NPROP Manning/NPROP)\n",
      "  se/PROPESS\n",
      "  soltou/V\n",
      "  de/PREP\n",
      "  dois/NUM\n",
      "  marcadores/N\n",
      "  que/PRO-KS-REL\n",
      "  o/ART\n",
      "  seguravam/N\n",
      "  pela/NPROP\n",
      "  camisa/N\n",
      "  e/KC\n",
      "  ,/,\n",
      "  na/NPROP\n",
      "  corrida/N\n",
      "  ,/,\n",
      "  lanÃ§ou/N\n",
      "  para/PREP\n",
      "  (NP Amani/N Toomer/N)\n",
      "  ./.\n",
      "  O/ART\n",
      "  wide/N|EST\n",
      "  receiver/N\n",
      "  ,/,\n",
      "  bem/ADV\n",
      "  marcado/PCP\n",
      "  ,/,\n",
      "  saltou/V\n",
      "  e/KC\n",
      "  conseguiu/V\n",
      "  a/ART\n",
      "  fazer/V\n",
      "  recepÃ§Ã£o/N\n",
      "  para/PREP\n",
      "  um/ART\n",
      "  avanÃ§o/N\n",
      "  de/PREP\n",
      "  32/NUM\n",
      "  jardas/N\n",
      "  ,/,\n",
      "  deixando/V\n",
      "  os/ART\n",
      "  (NP Giants/NPROP na/NPROP)\n",
      "  linha/N\n",
      "  de/PREP\n",
      "  24/NUM\n",
      "  de/PREP\n",
      "  (NP New/NPROP England/NPROP)\n",
      "  ./.\n",
      "  Quatro/NUM\n",
      "  jogadas/N\n",
      "  depois/ADV\n",
      "  ,/,\n",
      "  a/ART\n",
      "  39/NUM\n",
      "  segundos/N\n",
      "  do/NPROP\n",
      "  fim/N\n",
      "  ,/,\n",
      "  Manning/NPROP\n",
      "  achou/V\n",
      "  (NP Plaxico/N Burress/N)\n",
      "  na/NPROP\n",
      "  (NP end/N zone/N)\n",
      "  para/PREP\n",
      "  conseguir/V\n",
      "  o/ART\n",
      "  touchdown/N|EST\n",
      "  do/NPROP\n",
      "  tÃ­tulo/N\n",
      "  ./.)\n"
     ]
    }
   ],
   "source": [
    "#1h. Return the named entities from corpus, using the chunking technique.\n",
    "from nltk.chunk import RegexpParser\n",
    "\n",
    "pattern = 'NP: {<NPROP><NPROP> | <N><N>}'\n",
    "analise_gramatical = RegexpParser(pattern)\n",
    "\n",
    "arvore = analise_gramatical.parse(etiquetado)\n",
    "print(arvore)"
   ],
   "metadata": {
    "collapsed": false,
    "pycharm": {
     "name": "#%%\n"
    }
   }
  },
  {
   "cell_type": "code",
   "execution_count": 13,
   "outputs": [],
   "source": [
    "arvore.draw()"
   ],
   "metadata": {
    "collapsed": false,
    "pycharm": {
     "name": "#%%\n"
    }
   }
  },
  {
   "cell_type": "markdown",
   "source": [
    "2 - Using a corpus of your preference (can be the one from class) and using spaCy, do:\n",
    "    a. Tokenize all the corpus\n",
    "    b. Tokenize all the corpus and return a list with strings\n",
    "    c. Tokenize all the corpus and return only the words\n",
    "    d. Return how many words your corpus have\n",
    "    e. Tokenize all the corpus and return only the numbers\n",
    "    f. Return how many numbers your corpus have\n",
    "    g. Tokenize all corpus and return only the punctuations\n",
    "    h. Return how many punctuations your corpus have\n",
    "    i. Return the frequency of punctuations in the corpus (ps. you can use NLTK in this exercise)\n",
    "    j. Tokenize all the corpus and return how many spaces it have"
   ],
   "metadata": {
    "collapsed": false
   }
  },
  {
   "cell_type": "code",
   "execution_count": null,
   "outputs": [],
   "source": [
    "#2a. Tokenize all the corpus"
   ],
   "metadata": {
    "collapsed": false,
    "pycharm": {
     "name": "#%%\n"
    }
   }
  },
  {
   "cell_type": "code",
   "execution_count": null,
   "outputs": [],
   "source": [
    "#2b. Tokenize all the corpus and return a list with strings"
   ],
   "metadata": {
    "collapsed": false,
    "pycharm": {
     "name": "#%%\n"
    }
   }
  },
  {
   "cell_type": "code",
   "execution_count": null,
   "outputs": [],
   "source": [
    "#2c. Tokenize all the corpus and return only the words"
   ],
   "metadata": {
    "collapsed": false,
    "pycharm": {
     "name": "#%%\n"
    }
   }
  },
  {
   "cell_type": "code",
   "execution_count": null,
   "outputs": [],
   "source": [
    "#2d. Return how many words your corpus have"
   ],
   "metadata": {
    "collapsed": false,
    "pycharm": {
     "name": "#%%\n"
    }
   }
  },
  {
   "cell_type": "code",
   "execution_count": null,
   "outputs": [],
   "source": [
    "#2e. Tokenize all the corpus and return only the numbers"
   ],
   "metadata": {
    "collapsed": false,
    "pycharm": {
     "name": "#%%\n"
    }
   }
  },
  {
   "cell_type": "code",
   "execution_count": null,
   "outputs": [],
   "source": [
    "#2f. Return how many numbers your corpus have"
   ],
   "metadata": {
    "collapsed": false,
    "pycharm": {
     "name": "#%%\n"
    }
   }
  },
  {
   "cell_type": "code",
   "execution_count": null,
   "outputs": [],
   "source": [
    "#2g. Tokenize all corpus and return only the punctuations"
   ],
   "metadata": {
    "collapsed": false,
    "pycharm": {
     "name": "#%%\n"
    }
   }
  },
  {
   "cell_type": "code",
   "execution_count": null,
   "outputs": [],
   "source": [
    "#2h. Return how many punctuations your corpus have"
   ],
   "metadata": {
    "collapsed": false,
    "pycharm": {
     "name": "#%%\n"
    }
   }
  },
  {
   "cell_type": "code",
   "execution_count": null,
   "outputs": [],
   "source": [
    "#2i. Return the frequency of punctuations in the corpus (ps. you can use NLTK in this exercise)"
   ],
   "metadata": {
    "collapsed": false,
    "pycharm": {
     "name": "#%%\n"
    }
   }
  },
  {
   "cell_type": "code",
   "execution_count": null,
   "outputs": [],
   "source": [
    "#2j. Tokenize all the corpus and return how many spaces it have"
   ],
   "metadata": {
    "collapsed": false,
    "pycharm": {
     "name": "#%%\n"
    }
   }
  },
  {
   "cell_type": "markdown",
   "source": [
    "3 - Still using the same corpus and spaCy, do:\n",
    "    a. Using the first paragraph, stemming all the possible tokens and verify if it was returned the correct stems\n",
    "    b. Still using the first paragraph, return the grammatical classes of the tokens\n",
    "    c. Return the grammatical classes for the entire corpus\n",
    "    d. Use the first paragraph to return the morphological information of tokens\n",
    "    e. Return all the named entities from corpus\n",
    "    f. Verify the classification on each entity named on corpus\n",
    "    g. Use the displaCy to show graphically all the entities named on corpus"
   ],
   "metadata": {
    "collapsed": false
   }
  },
  {
   "cell_type": "code",
   "execution_count": null,
   "outputs": [],
   "source": [
    "#3a. Using the first paragraph, stemming all the possible tokens and verify if it was returned the correct stems"
   ],
   "metadata": {
    "collapsed": false,
    "pycharm": {
     "name": "#%%\n"
    }
   }
  },
  {
   "cell_type": "code",
   "execution_count": null,
   "outputs": [],
   "source": [
    "#3b. Still using the first paragraph, return the grammatical classes of the tokens"
   ],
   "metadata": {
    "collapsed": false,
    "pycharm": {
     "name": "#%%\n"
    }
   }
  },
  {
   "cell_type": "code",
   "execution_count": null,
   "outputs": [],
   "source": [
    "#3c. Return the grammatical classes for the entire corpus"
   ],
   "metadata": {
    "collapsed": false,
    "pycharm": {
     "name": "#%%\n"
    }
   }
  },
  {
   "cell_type": "code",
   "execution_count": null,
   "outputs": [],
   "source": [
    "#3d. Use the first paragraph to return the morphological information of tokens"
   ],
   "metadata": {
    "collapsed": false,
    "pycharm": {
     "name": "#%%\n"
    }
   }
  },
  {
   "cell_type": "code",
   "execution_count": null,
   "outputs": [],
   "source": [
    "#3e. Return all the named entities from corpus"
   ],
   "metadata": {
    "collapsed": false,
    "pycharm": {
     "name": "#%%\n"
    }
   }
  },
  {
   "cell_type": "code",
   "execution_count": null,
   "outputs": [],
   "source": [
    "#3f. Verify the classification on each entity named on corpus"
   ],
   "metadata": {
    "collapsed": false,
    "pycharm": {
     "name": "#%%\n"
    }
   }
  },
  {
   "cell_type": "code",
   "execution_count": null,
   "outputs": [],
   "source": [
    "#3g. Use the displaCy to show graphically all the entities named on corpus"
   ],
   "metadata": {
    "collapsed": false,
    "pycharm": {
     "name": "#%%\n"
    }
   }
  },
  {
   "cell_type": "markdown",
   "source": [
    "4 - Using the sentence \"Ele queira jogar tênis com  Janete, mas também queria jantar com Suzana. Sua indecisão o deixou louco.\" do, with spaCy:\n",
    "    a. The syntax analyses of the sentence\n",
    "    b. Use the displaCy to show graphicaly the syntax tree"
   ],
   "metadata": {
    "collapsed": false
   }
  },
  {
   "cell_type": "code",
   "execution_count": null,
   "outputs": [],
   "source": [
    "#4a. The syntax analyses of the sentence"
   ],
   "metadata": {
    "collapsed": false,
    "pycharm": {
     "name": "#%%\n"
    }
   }
  },
  {
   "cell_type": "code",
   "execution_count": null,
   "outputs": [],
   "source": [
    "#4b. Use the displaCy to show graphicaly the syntax tree"
   ],
   "metadata": {
    "collapsed": false,
    "pycharm": {
     "name": "#%%\n"
    }
   }
  }
 ],
 "metadata": {
  "kernelspec": {
   "display_name": "Python 3",
   "language": "python",
   "name": "python3"
  },
  "language_info": {
   "codemirror_mode": {
    "name": "ipython",
    "version": 2
   },
   "file_extension": ".py",
   "mimetype": "text/x-python",
   "name": "python",
   "nbconvert_exporter": "python",
   "pygments_lexer": "ipython2",
   "version": "2.7.6"
  }
 },
 "nbformat": 4,
 "nbformat_minor": 0
}