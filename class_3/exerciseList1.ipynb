{
 "cells": [
  {
   "cell_type": "markdown",
   "metadata": {
    "collapsed": true,
    "pycharm": {
     "name": "#%% md\n"
    }
   },
   "source": [
    "1 - Create 3 variables and give then the following values: a=1, b=5.9 and c='teste'. Then return the type of each of then."
   ]
  },
  {
   "cell_type": "code",
   "execution_count": 1,
   "outputs": [
    {
     "name": "stdout",
     "output_type": "stream",
     "text": [
      "<class 'int'>\n",
      "<class 'float'>\n",
      "<class 'str'>\n"
     ]
    }
   ],
   "source": [
    "a=1\n",
    "b=5.9\n",
    "c='teste'\n",
    "\n",
    "print(type(a))\n",
    "print(type(b))\n",
    "print(type(c))"
   ],
   "metadata": {
    "collapsed": false,
    "pycharm": {
     "name": "#%%\n"
    }
   }
  },
  {
   "cell_type": "markdown",
   "source": [
    "2 - Change tha a variable value to '1' and check if the variable type has changed."
   ],
   "metadata": {
    "collapsed": false,
    "pycharm": {
     "name": "#%% md\n"
    }
   }
  },
  {
   "cell_type": "code",
   "execution_count": 66,
   "outputs": [
    {
     "name": "stdout",
     "output_type": "stream",
     "text": [
      "<class 'str'>\n"
     ]
    }
   ],
   "source": [
    "a = '1'\n",
    "print(type(a))"
   ],
   "metadata": {
    "collapsed": false,
    "pycharm": {
     "name": "#%%\n"
    }
   }
  },
  {
   "cell_type": "markdown",
   "source": [
    "3 - Do the sum of the variables b and c. Given the result, tell whats going on both in case the execution is correct or give a error."
   ],
   "metadata": {
    "collapsed": false,
    "pycharm": {
     "name": "#%% md\n"
    }
   }
  },
  {
   "cell_type": "code",
   "execution_count": 67,
   "outputs": [
    {
     "ename": "TypeError",
     "evalue": "unsupported operand type(s) for +: 'float' and 'str'",
     "output_type": "error",
     "traceback": [
      "\u001B[1;31m---------------------------------------------------------------------------\u001B[0m",
      "\u001B[1;31mTypeError\u001B[0m                                 Traceback (most recent call last)",
      "\u001B[1;32m~\\AppData\\Local\\Temp/ipykernel_22276/3372713974.py\u001B[0m in \u001B[0;36m<module>\u001B[1;34m\u001B[0m\n\u001B[1;32m----> 1\u001B[1;33m \u001B[0mprint\u001B[0m\u001B[1;33m(\u001B[0m\u001B[0mb\u001B[0m\u001B[1;33m+\u001B[0m\u001B[0mc\u001B[0m\u001B[1;33m)\u001B[0m\u001B[1;33m\u001B[0m\u001B[1;33m\u001B[0m\u001B[0m\n\u001B[0m",
      "\u001B[1;31mTypeError\u001B[0m: unsupported operand type(s) for +: 'float' and 'str'"
     ]
    }
   ],
   "source": [
    "print(b+c)"
   ],
   "metadata": {
    "collapsed": false,
    "pycharm": {
     "name": "#%%\n"
    }
   }
  },
  {
   "cell_type": "markdown",
   "source": [
    "The result is a TypeError since we are trying to add a number to a string. The only possible solution for this case is to change the type of b to a string and then concatenate the two values. We could change the value from a string to a number, but not in this particular case because we don't have a number stored as string, by accident, though. The code bellow shows a possible implementation of this:"
   ],
   "metadata": {
    "collapsed": false,
    "pycharm": {
     "name": "#%% md\n"
    }
   }
  },
  {
   "cell_type": "code",
   "source": [
    "print(f\"This is a concatenation of the two strings; being b: {b} and c: {c}.\")"
   ],
   "metadata": {
    "collapsed": false,
    "pycharm": {
     "name": "#%%\n"
    }
   },
   "execution_count": null,
   "outputs": []
  },
  {
   "cell_type": "markdown",
   "source": [
    "4 - Create a list with the numbers from 0 to 9 (no matter the order). With this list, do:\n",
    "    a. Add the number 6\n",
    "    b. Insert the number 7 on the 3th position of the list\n",
    "    c. Remove the 3th element of the list\n",
    "    d. Add the number 4\n",
    "    e. Verify the occurrences of the number 4 in the list"
   ],
   "metadata": {
    "collapsed": false,
    "pycharm": {
     "name": "#%% md\n"
    }
   }
  },
  {
   "cell_type": "code",
   "execution_count": 68,
   "outputs": [
    {
     "name": "stdout",
     "output_type": "stream",
     "text": [
      "This is the created list : [0, 1, 2, 3, 4, 5, 6, 7, 8, 9].\n"
     ]
    }
   ],
   "source": [
    "#Ok, I'm going a bite wild here and use some advanced features. We should get fun right?\n",
    "exec4List = []\n",
    "#A function to add the numbers from 0-9 to any given list.\n",
    "#I know... I know the function range. I've should only use this: exec4List = list(range(10)). But this way I'm able to show other skills right? What,  I can't be showy?\n",
    "def addNums(List):\n",
    "    num = 0\n",
    "    while num < 10:\n",
    "        List.append(num)\n",
    "        num = num+1\n",
    "    return List\n",
    "addNums(exec4List)\n",
    "print(\"This is the created list : {}.\".format(exec4List))"
   ],
   "metadata": {
    "collapsed": false,
    "pycharm": {
     "name": "#%%\n"
    }
   }
  },
  {
   "cell_type": "code",
   "execution_count": 69,
   "outputs": [
    {
     "name": "stdout",
     "output_type": "stream",
     "text": [
      "This is the result of item 4.a: [0, 1, 2, 3, 4, 5, 6, 7, 8, 9, 6], notice the last element now is 6.\n"
     ]
    }
   ],
   "source": [
    "#4.a\n",
    "\n",
    "exec4List.append(6)\n",
    "print(\"This is the result of item 4.a: {}, notice the last element now is 6.\".format(exec4List))"
   ],
   "metadata": {
    "collapsed": false,
    "pycharm": {
     "name": "#%%\n"
    }
   }
  },
  {
   "cell_type": "code",
   "execution_count": 70,
   "outputs": [
    {
     "name": "stdout",
     "output_type": "stream",
     "text": [
      "[0, 1, 7, 2, 3, 4, 5, 6, 7, 8, 9, 6]\n"
     ]
    }
   ],
   "source": [
    "#4.b\n",
    "\n",
    "exec4List.insert(2,7) #Remmenber that the list count begins with 0\n",
    "print(exec4List)"
   ],
   "metadata": {
    "collapsed": false,
    "pycharm": {
     "name": "#%%\n"
    }
   }
  },
  {
   "cell_type": "code",
   "execution_count": 71,
   "outputs": [
    {
     "name": "stdout",
     "output_type": "stream",
     "text": [
      "[0, 1, 7, 2, 4, 5, 6, 7, 8, 9, 6]\n"
     ]
    }
   ],
   "source": [
    "#4.c\n",
    "\n",
    "exec4List.remove(3) #We are removing the number 3 not the 3th element.\n",
    "print(exec4List)"
   ],
   "metadata": {
    "collapsed": false,
    "pycharm": {
     "name": "#%%\n"
    }
   }
  },
  {
   "cell_type": "code",
   "execution_count": 72,
   "outputs": [
    {
     "name": "stdout",
     "output_type": "stream",
     "text": [
      "[0, 1, 7, 2, 4, 5, 6, 7, 8, 9, 6, 4]\n"
     ]
    }
   ],
   "source": [
    "#4.d\n",
    "\n",
    "exec4List.append(4) #Since there is no specification for where to add the number 4 I used the append method.\n",
    "print(exec4List)"
   ],
   "metadata": {
    "collapsed": false,
    "pycharm": {
     "name": "#%%\n"
    }
   }
  },
  {
   "cell_type": "code",
   "execution_count": 73,
   "outputs": [
    {
     "name": "stdout",
     "output_type": "stream",
     "text": [
      "[0, 1, 7, 2, 4, 5, 6, 7, 8, 9, 6, 4]\n",
      "As we can notice above, there is 2 4s in our list.\n"
     ]
    }
   ],
   "source": [
    "#4.e\n",
    "print(exec4List)\n",
    "print(\"As we can notice above, there is {} 4s in our list.\".format(exec4List.count(4)))"
   ],
   "metadata": {
    "collapsed": false,
    "pycharm": {
     "name": "#%%\n"
    }
   }
  },
  {
   "cell_type": "markdown",
   "source": [
    "5 - Using the list from previous exercise, do:\n",
    "    a. Return the first three elements of the list\n",
    "    b. Return the elements from position three to seven\n",
    "    c. Return the elements jumping every 3 elements\n",
    "    d. Return the last three elements\n",
    "    e. Return all elements but the last four."
   ],
   "metadata": {
    "collapsed": false,
    "pycharm": {
     "name": "#%% md\n"
    }
   }
  },
  {
   "cell_type": "code",
   "execution_count": 74,
   "outputs": [
    {
     "name": "stdout",
     "output_type": "stream",
     "text": [
      "[0, 1, 7]\n"
     ]
    }
   ],
   "source": [
    "#5.a\n",
    "print(exec4List[0:3])"
   ],
   "metadata": {
    "collapsed": false,
    "pycharm": {
     "name": "#%%\n"
    }
   }
  },
  {
   "cell_type": "code",
   "execution_count": 75,
   "outputs": [
    {
     "name": "stdout",
     "output_type": "stream",
     "text": [
      "[7, 2, 4, 5, 6]\n"
     ]
    }
   ],
   "source": [
    "#5.b\n",
    "print(exec4List[2:7])"
   ],
   "metadata": {
    "collapsed": false,
    "pycharm": {
     "name": "#%%\n"
    }
   }
  },
  {
   "cell_type": "code",
   "execution_count": 76,
   "outputs": [
    {
     "name": "stdout",
     "output_type": "stream",
     "text": [
      "[0, 2, 6]\n"
     ]
    }
   ],
   "source": [
    "#5.c\n",
    "print(exec4List[0:9:3])"
   ],
   "metadata": {
    "collapsed": false,
    "pycharm": {
     "name": "#%%\n"
    }
   }
  },
  {
   "cell_type": "code",
   "execution_count": 86,
   "outputs": [
    {
     "name": "stdout",
     "output_type": "stream",
     "text": [
      "Ok, so the last three items from our list are: [8, 9, 12].\n",
      "This is another way to do this: [8, 9, 12]\n"
     ]
    }
   ],
   "source": [
    "#5.d\n",
    "# I'll create a counter to automatically the result of the print returns the last 3. Yes, it could be donne in one line, but common, this is easier to read.\n",
    "def theLastThree (List):\n",
    "    Len = len(List)\n",
    "    threeLast = Len - 3\n",
    "    return (List[threeLast:Len])\n",
    "\n",
    "print(\"Ok, so the last three items from our list are: {}.\".format(theLastThree(exec4List)))\n",
    "print(\"This is another way to do this: {}\".format(exec4List[(len(exec4List)-3):]))"
   ],
   "metadata": {
    "collapsed": false,
    "pycharm": {
     "name": "#%%\n"
    }
   }
  },
  {
   "cell_type": "code",
   "execution_count": 89,
   "outputs": [
    {
     "name": "stdout",
     "output_type": "stream",
     "text": [
      "This is the list without the last four elements: [0, 1, 2, 4, 4, 5, 6, 6].\n",
      "This is another way to do this: [0, 1, 2, 4, 4, 5, 6, 6]\n"
     ]
    }
   ],
   "source": [
    "#5.e\n",
    "def butTheLastFour(List):\n",
    "    Len = len(List)\n",
    "    fourLast = Len-4\n",
    "    return (List[0:fourLast])\n",
    "\n",
    "print(\"This is the list without the last four elements: {}.\".format(butTheLastFour(exec4List)))\n",
    "print(\"This is another way to do this: {}\".format(exec4List[:(len(exec4List)-4)]))"
   ],
   "metadata": {
    "collapsed": false,
    "pycharm": {
     "name": "#%%\n"
    }
   }
  },
  {
   "cell_type": "markdown",
   "source": [
    "6 - Using the list from last exercises return the 6th element of the list."
   ],
   "metadata": {
    "collapsed": false,
    "pycharm": {
     "name": "#%% md\n"
    }
   }
  },
  {
   "cell_type": "code",
   "execution_count": 79,
   "outputs": [
    {
     "name": "stdout",
     "output_type": "stream",
     "text": [
      "6\n"
     ]
    }
   ],
   "source": [
    "print(exec4List[6]) #Ok, I'm assuming you that the list begins with 0, so you may want to see the 7th element... but Is hard to know..."
   ],
   "metadata": {
    "collapsed": false,
    "pycharm": {
     "name": "#%%\n"
    }
   }
  },
  {
   "cell_type": "markdown",
   "source": [
    "7 - Change the value of the 7th element on the list to 12."
   ],
   "metadata": {
    "collapsed": false,
    "pycharm": {
     "name": "#%% md\n"
    }
   }
  },
  {
   "cell_type": "code",
   "execution_count": 83,
   "outputs": [
    {
     "name": "stdout",
     "output_type": "stream",
     "text": [
      "[0, 1, 7, 2, 4, 5, 6, 12, 8, 9, 6, 4]\n"
     ]
    }
   ],
   "source": [
    "exec4List[7] = 12 #Again, I don't know if we are talking about the 7th of the list as we see the entire list or considering the beginning of the index as zero.\n",
    "print(exec4List)"
   ],
   "metadata": {
    "collapsed": false,
    "pycharm": {
     "name": "#%%\n"
    }
   }
  },
  {
   "cell_type": "markdown",
   "source": [
    "8 - Reverse the list."
   ],
   "metadata": {
    "collapsed": false,
    "pycharm": {
     "name": "#%% md\n"
    }
   }
  },
  {
   "cell_type": "code",
   "execution_count": 84,
   "outputs": [
    {
     "name": "stdout",
     "output_type": "stream",
     "text": [
      "[4, 6, 9, 8, 12, 6, 5, 4, 2, 7, 1, 0]\n"
     ]
    }
   ],
   "source": [
    "exec4List.reverse()\n",
    "print(exec4List)"
   ],
   "metadata": {
    "collapsed": false,
    "pycharm": {
     "name": "#%%\n"
    }
   }
  },
  {
   "cell_type": "markdown",
   "source": [
    "9 - Sort the list."
   ],
   "metadata": {
    "collapsed": false,
    "pycharm": {
     "name": "#%% md\n"
    }
   }
  },
  {
   "cell_type": "code",
   "execution_count": 85,
   "outputs": [
    {
     "name": "stdout",
     "output_type": "stream",
     "text": [
      "[0, 1, 2, 4, 4, 5, 6, 6, 7, 8, 9, 12]\n"
     ]
    }
   ],
   "source": [
    "exec4List.sort()\n",
    "print(exec4List)"
   ],
   "metadata": {
    "collapsed": false,
    "pycharm": {
     "name": "#%%\n"
    }
   }
  },
  {
   "cell_type": "markdown",
   "source": [
    "10 - Create a tuple with the numbers from 0 to 9 (no particular order) and try:\n",
    "    a. Change the value of the 3th element to 10.\n",
    "    b. Verify the index of the value 5."
   ],
   "metadata": {
    "collapsed": false,
    "pycharm": {
     "name": "#%% md\n"
    }
   }
  },
  {
   "cell_type": "code",
   "execution_count": 95,
   "outputs": [
    {
     "name": "stdout",
     "output_type": "stream",
     "text": [
      "Ok, first things first, here is our tuple: (0, 1, 2, 3, 4, 5, 6, 7, 8, 9).\n"
     ]
    }
   ],
   "source": [
    "#10.a\n",
    "\n",
    "#This will never work since, by definition, the values of tuple's items cannot be changed... but... lets try...\n",
    "\n",
    "myTuple = tuple(range(10))\n",
    "print(\"Ok, first things first, here is our tuple: {}.\" .format(myTuple))"
   ],
   "metadata": {
    "collapsed": false,
    "pycharm": {
     "name": "#%%\n"
    }
   }
  },
  {
   "cell_type": "code",
   "execution_count": 98,
   "outputs": [
    {
     "ename": "TypeError",
     "evalue": "'tuple' object does not support item assignment",
     "output_type": "error",
     "traceback": [
      "\u001B[1;31m---------------------------------------------------------------------------\u001B[0m",
      "\u001B[1;31mTypeError\u001B[0m                                 Traceback (most recent call last)",
      "\u001B[1;32m~\\AppData\\Local\\Temp/ipykernel_22276/3743763020.py\u001B[0m in \u001B[0;36m<module>\u001B[1;34m\u001B[0m\n\u001B[0;32m      1\u001B[0m \u001B[1;31m#Now the things go crazy...\u001B[0m\u001B[1;33m\u001B[0m\u001B[1;33m\u001B[0m\u001B[1;33m\u001B[0m\u001B[0m\n\u001B[0;32m      2\u001B[0m \u001B[1;33m\u001B[0m\u001B[0m\n\u001B[1;32m----> 3\u001B[1;33m \u001B[0mmyTuple\u001B[0m\u001B[1;33m[\u001B[0m\u001B[1;36m3\u001B[0m\u001B[1;33m]\u001B[0m \u001B[1;33m=\u001B[0m \u001B[1;36m10\u001B[0m\u001B[1;33m\u001B[0m\u001B[1;33m\u001B[0m\u001B[0m\n\u001B[0m\u001B[0;32m      4\u001B[0m \u001B[0mprint\u001B[0m\u001B[1;33m(\u001B[0m\u001B[0mmyTuple\u001B[0m\u001B[1;33m)\u001B[0m\u001B[1;33m\u001B[0m\u001B[1;33m\u001B[0m\u001B[0m\n\u001B[0;32m      5\u001B[0m \u001B[1;33m\u001B[0m\u001B[0m\n",
      "\u001B[1;31mTypeError\u001B[0m: 'tuple' object does not support item assignment"
     ]
    }
   ],
   "source": [
    "#Now the things go crazy...\n",
    "\n",
    "myTuple[3] = 10\n",
    "print(myTuple)\n",
    "\n",
    "#Told ya.. this is impossible..."
   ],
   "metadata": {
    "collapsed": false,
    "pycharm": {
     "name": "#%%\n"
    }
   }
  },
  {
   "cell_type": "code",
   "execution_count": 102,
   "outputs": [
    {
     "name": "stdout",
     "output_type": "stream",
     "text": [
      "(0, 1, 2, 3, 4, 5, 6, 7, 8, 9)\n",
      "Here we have the index of the value 5: 5\n",
      "Wich is obvious since the tuple was created from 0 to 9, and the particular method I choose create it ordered.\n"
     ]
    }
   ],
   "source": [
    "print(myTuple)\n",
    "print(\"Here we have the index of the value 5: {}\\n Witch is pretty obvious since the tuple was created from 0 to 9, and the particular method I choose created it ordered.\".format(myTuple.index(5)))"
   ],
   "metadata": {
    "collapsed": false,
    "pycharm": {
     "name": "#%%\n"
    }
   }
  },
  {
   "cell_type": "markdown",
   "source": [
    "11 - Create a dictionary with five entries and respective keys and values. Do:\n",
    "    a. Print all the keys.\n",
    "    b. Print all the values.\n",
    "    c. Print all the items.\n",
    "    d. Print the second item.\n",
    "    e. Print the whole dictionary.\n",
    "    f. Run all the dictionary, printing for each entries like the model: \"(key) tem como valor (value)\""
   ],
   "metadata": {
    "collapsed": false,
    "pycharm": {
     "name": "#%% md\n"
    }
   }
  },
  {
   "cell_type": "code",
   "execution_count": 104,
   "outputs": [],
   "source": [
    "#11 - Lets create the dictionary.\n",
    "myAurelio = {'Gerhard Berger': 1, 'Ayrton Senna': 2, 'Riccardo Patrese': 3, 'Alain Prost': 4,\n",
    "             'Martin Brundle': 5}  #References here...\n",
    "\n",
    "#Yes this is the end position on the Japan GP of 1991, when Senna got his 3th world championship."
   ],
   "metadata": {
    "collapsed": false,
    "pycharm": {
     "name": "#%%\n"
    }
   }
  },
  {
   "cell_type": "code",
   "execution_count": 105,
   "outputs": [
    {
     "name": "stdout",
     "output_type": "stream",
     "text": [
      "dict_keys(['Gerhard Berger', 'Ayrton Senna', 'Riccardo Patrese', 'Alain Prost', 'Martin Brundle'])\n"
     ]
    }
   ],
   "source": [
    "#11.a\n",
    "print(myAurelio.keys())"
   ],
   "metadata": {
    "collapsed": false,
    "pycharm": {
     "name": "#%%\n"
    }
   }
  },
  {
   "cell_type": "code",
   "execution_count": 106,
   "outputs": [
    {
     "name": "stdout",
     "output_type": "stream",
     "text": [
      "dict_values([1, 2, 3, 4, 5])\n"
     ]
    }
   ],
   "source": [
    "#11.b\n",
    "print(myAurelio.values())"
   ],
   "metadata": {
    "collapsed": false,
    "pycharm": {
     "name": "#%%\n"
    }
   }
  },
  {
   "cell_type": "code",
   "execution_count": 126,
   "outputs": [
    {
     "name": "stdout",
     "output_type": "stream",
     "text": [
      "('Gerhard Berger', 1)\n",
      "('Ayrton Senna', 2)\n",
      "('Riccardo Patrese', 3)\n",
      "('Alain Prost', 4)\n",
      "('Martin Brundle', 5)\n"
     ]
    }
   ],
   "source": [
    "#11.c\n",
    "for item in list(myAurelio.items()):\n",
    "    print(item)"
   ],
   "metadata": {
    "collapsed": false,
    "pycharm": {
     "name": "#%%\n"
    }
   }
  },
  {
   "cell_type": "code",
   "execution_count": 123,
   "outputs": [
    {
     "name": "stdout",
     "output_type": "stream",
     "text": [
      "('Ayrton Senna', 2)\n"
     ]
    }
   ],
   "source": [
    "#11.d\n",
    "print(list(myAurelio.items())[1])"
   ],
   "metadata": {
    "collapsed": false,
    "pycharm": {
     "name": "#%%\n"
    }
   }
  },
  {
   "cell_type": "code",
   "execution_count": 127,
   "outputs": [
    {
     "name": "stdout",
     "output_type": "stream",
     "text": [
      "Gerhard Berger1\n",
      "Ayrton Senna2\n",
      "Riccardo Patrese3\n",
      "Alain Prost4\n",
      "Martin Brundle5\n"
     ]
    }
   ],
   "source": [
    "#11.e (You know, I'm not sure about what it means the whole dictionary.)\n",
    "for key, value in myAurelio.items():\n",
    "    print (str (key) + str(value))"
   ],
   "metadata": {
    "collapsed": false,
    "pycharm": {
     "name": "#%%\n"
    }
   }
  },
  {
   "cell_type": "code",
   "execution_count": 131,
   "outputs": [
    {
     "name": "stdout",
     "output_type": "stream",
     "text": [
      "Gerhard Berger tem como valor 1\n",
      "Ayrton Senna tem como valor 2\n",
      "Riccardo Patrese tem como valor 3\n",
      "Alain Prost tem como valor 4\n",
      "Martin Brundle tem como valor 5\n"
     ]
    }
   ],
   "source": [
    "#11.f\n",
    "for key, value in myAurelio.items():\n",
    "    print (str (key) +\" tem como valor \" +str(value))"
   ],
   "metadata": {
    "collapsed": false,
    "pycharm": {
     "name": "#%%\n"
    }
   }
  },
  {
   "cell_type": "markdown",
   "source": [
    "12 - Create a file and:\n",
    "    a. Write in the values from 1 to 10.\n",
    "    b. After this, print on screen all the numbers of the file.\n",
    "    c. Write on the file the numbers from 11 to 20, replacing what was before writen.\n",
    "    d. Write on the file the numbers from 21 to 30, adding then at the end of the file (Do not erase what already was there!)\n",
    "    e. Print on screen all the numbers again (from 11 to 30).\n",
    "    f. Print on screen all the numbers on the again, but now line by line."
   ],
   "metadata": {
    "collapsed": false,
    "pycharm": {
     "name": "#%% md\n"
    }
   }
  },
  {
   "cell_type": "code",
   "source": [
    "#12\n",
    "exec12File = open('exec12File.txt', 'w')"
   ],
   "metadata": {
    "collapsed": false,
    "pycharm": {
     "name": "#%%\n"
    }
   },
   "execution_count": 154,
   "outputs": []
  },
  {
   "cell_type": "code",
   "execution_count": null,
   "outputs": [],
   "source": [
    "#12.a\n",
    "\n",
    "exec12File.write(\"Numbers from 1 to 10:\\n\")\n",
    "for i in range(1, 11):\n",
    "    exec12File.write(str(i)+\"\\n\")\n",
    "exec12File.close()"
   ],
   "metadata": {
    "collapsed": false,
    "pycharm": {
     "name": "#%%\n",
     "is_executing": true
    }
   }
  },
  {
   "cell_type": "code",
   "execution_count": 156,
   "outputs": [
    {
     "name": "stdout",
     "output_type": "stream",
     "text": [
      "Numbers from 1 to 10:\n",
      "1\n",
      "2\n",
      "3\n",
      "4\n",
      "5\n",
      "6\n",
      "7\n",
      "8\n",
      "9\n",
      "10\n",
      "\n"
     ]
    }
   ],
   "source": [
    "#12.b\n",
    "exec12File = open('exec12File.txt','r')\n",
    "fileContent = exec12File.read()\n",
    "print(fileContent)"
   ],
   "metadata": {
    "collapsed": false,
    "pycharm": {
     "name": "#%%\n"
    }
   }
  },
  {
   "cell_type": "code",
   "execution_count": 158,
   "outputs": [
    {
     "name": "stdout",
     "output_type": "stream",
     "text": [
      "Numbers from 11 to 20:\n",
      "11\n",
      "12\n",
      "13\n",
      "14\n",
      "15\n",
      "16\n",
      "17\n",
      "18\n",
      "19\n",
      "20\n",
      "\n"
     ]
    }
   ],
   "source": [
    "#12.c\n",
    "exec12File = open('exec12File.txt', 'w')\n",
    "exec12File.write(\"Numbers from 11 to 20:\\n\")\n",
    "for i in range(11, 21):\n",
    "    exec12File.write(str(i)+\"\\n\")\n",
    "exec12File = open('exec12File.txt','r')\n",
    "fileContent = exec12File.read()\n",
    "print(fileContent)\n",
    "exec12File.close()"
   ],
   "metadata": {
    "collapsed": false,
    "pycharm": {
     "name": "#%%\n"
    }
   }
  },
  {
   "cell_type": "code",
   "execution_count": null,
   "outputs": [],
   "source": [
    "#12.d\n",
    "exec12File = open('exec12File.txt', 'a')\n",
    "exec12File.write(\"Numbers from 21 to 30:\\n\")\n",
    "for i in range(21, 31):\n",
    "    exec12File.write(str(i)+\"\\n\")\n",
    "exec12File = open('exec12File.txt','a')"
   ],
   "metadata": {
    "collapsed": false,
    "pycharm": {
     "name": "#%%\n",
     "is_executing": true
    }
   }
  },
  {
   "cell_type": "code",
   "execution_count": 160,
   "outputs": [
    {
     "ename": "UnsupportedOperation",
     "evalue": "not readable",
     "output_type": "error",
     "traceback": [
      "\u001B[1;31m---------------------------------------------------------------------------\u001B[0m",
      "\u001B[1;31mUnsupportedOperation\u001B[0m                      Traceback (most recent call last)",
      "\u001B[1;32m~\\AppData\\Local\\Temp/ipykernel_22276/291508252.py\u001B[0m in \u001B[0;36m<module>\u001B[1;34m\u001B[0m\n\u001B[0;32m      1\u001B[0m \u001B[1;31m#12.e\u001B[0m\u001B[1;33m\u001B[0m\u001B[1;33m\u001B[0m\u001B[1;33m\u001B[0m\u001B[0m\n\u001B[1;32m----> 2\u001B[1;33m \u001B[0mfileContent\u001B[0m \u001B[1;33m=\u001B[0m \u001B[0mexec12File\u001B[0m\u001B[1;33m.\u001B[0m\u001B[0mread\u001B[0m\u001B[1;33m(\u001B[0m\u001B[1;33m)\u001B[0m\u001B[1;33m\u001B[0m\u001B[1;33m\u001B[0m\u001B[0m\n\u001B[0m\u001B[0;32m      3\u001B[0m \u001B[0mprint\u001B[0m\u001B[1;33m(\u001B[0m\u001B[0mfileContent\u001B[0m\u001B[1;33m)\u001B[0m\u001B[1;33m\u001B[0m\u001B[1;33m\u001B[0m\u001B[0m\n\u001B[0;32m      4\u001B[0m \u001B[0mexec12File\u001B[0m\u001B[1;33m.\u001B[0m\u001B[0mclose\u001B[0m\u001B[1;33m(\u001B[0m\u001B[1;33m)\u001B[0m\u001B[1;33m\u001B[0m\u001B[1;33m\u001B[0m\u001B[0m\n",
      "\u001B[1;31mUnsupportedOperation\u001B[0m: not readable"
     ]
    }
   ],
   "source": [
    "#12.e\n",
    "fileContent = exec12File.read()\n",
    "print(fileContent)\n",
    "exec12File.close()"
   ],
   "metadata": {
    "collapsed": false,
    "pycharm": {
     "name": "#%%\n"
    }
   }
  }
 ],
 "metadata": {
  "kernelspec": {
   "display_name": "Python 3",
   "language": "python",
   "name": "python3"
  },
  "language_info": {
   "codemirror_mode": {
    "name": "ipython",
    "version": 2
   },
   "file_extension": ".py",
   "mimetype": "text/x-python",
   "name": "python",
   "nbconvert_exporter": "python",
   "pygments_lexer": "ipython2",
   "version": "2.7.6"
  }
 },
 "nbformat": 4,
 "nbformat_minor": 0
}