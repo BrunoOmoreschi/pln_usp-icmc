{
 "cells": [
  {
   "cell_type": "markdown",
   "metadata": {
    "collapsed": true,
    "pycharm": {
     "name": "#%% md\n"
    }
   },
   "source": [
    "1 - Given the file qbdata.txt, return the rating of each QB on the form \"nome do QB teve valor XX.X\" and write in a new file."
   ]
  },
  {
   "cell_type": "code",
   "execution_count": 4,
   "outputs": [],
   "source": [
    "#New file creator:\n",
    "qbRating = open('qbRating.txt', 'w')\n",
    "qbRating.close()"
   ],
   "metadata": {
    "collapsed": false,
    "pycharm": {
     "name": "#%%\n"
    }
   }
  },
  {
   "cell_type": "code",
   "execution_count": 5,
   "outputs": [],
   "source": [
    "#Load the data file:\n",
    "qbdata = open('qbdata.txt', 'r')\n",
    "fileContent  = qbdata.read()"
   ],
   "metadata": {
    "collapsed": false,
    "pycharm": {
     "name": "#%%\n"
    }
   }
  },
  {
   "cell_type": "code",
   "execution_count": 6,
   "outputs": [],
   "source": [
    "#Split the content by '\\n' (line by line) and store it in a list.\n",
    "people = fileContent.split('\\n')"
   ],
   "metadata": {
    "collapsed": false,
    "pycharm": {
     "name": "#%%\n"
    }
   }
  },
  {
   "cell_type": "code",
   "execution_count": 7,
   "outputs": [],
   "source": [
    "#Function to collect the desired info\n",
    "def infos (person, namePosition, infoPosition):\n",
    "    dataSellection = []\n",
    "    dataSellection.append(person[namePosition])\n",
    "    dataSellection.append(person[infoPosition])\n",
    "    return dataSellection"
   ],
   "metadata": {
    "collapsed": false,
    "pycharm": {
     "name": "#%%\n"
    }
   }
  },
  {
   "cell_type": "code",
   "execution_count": 8,
   "outputs": [],
   "source": [
    "#Open the qbRating.txt to be filled with the information we want.\n",
    "qbRating = open('qbRating.txt', 'a')"
   ],
   "metadata": {
    "collapsed": false,
    "pycharm": {
     "name": "#%%\n"
    }
   }
  },
  {
   "cell_type": "code",
   "execution_count": 9,
   "outputs": [],
   "source": [
    "#Refactor the persons because there are spaces and we need to join the first name and family name\n",
    "def refactorPersons (List):\n",
    "    #List with the data tuned to our desire.\n",
    "    refactoredPersons = []\n",
    "    for person in List:\n",
    "        #Breaks in a list by spaces\n",
    "        splitData = person.split()\n",
    "\n",
    "        #Removes unnecessary spaces\n",
    "        for info in splitData:\n",
    "            info.strip()\n",
    "\n",
    "        #Join the first two elements to create a full name\n",
    "        fullName = str(splitData[0]+\" \"+splitData[1])\n",
    "        splitData.remove(splitData[1])\n",
    "        splitData[0] = fullName\n",
    "\n",
    "        #Add the data now that is tuned to the list.\n",
    "        refactoredPersons.append(splitData)\n",
    "\n",
    "    return refactoredPersons"
   ],
   "metadata": {
    "collapsed": false,
    "pycharm": {
     "name": "#%%\n"
    }
   }
  },
  {
   "cell_type": "code",
   "execution_count": null,
   "outputs": [],
   "source": [
    "#First call the function to tune the information.\n",
    "ourFolks = refactorPersons(people)\n",
    "\n",
    "#Then use this new list to get the first and the last parameter calling the infos function\n",
    "#Each time it collect the desired info write it down to our file.\n",
    "for dude in ourFolks:\n",
    "    dataAmount = len(dude)\n",
    "    personalData = infos(dude, 0, dataAmount-1)\n",
    "    stringToBeWritten = str(personalData[0]+\" teve valor \"+personalData[1]+\"\\n\")\n",
    "    qbRating.write(stringToBeWritten)\n",
    "\n",
    "#Finnaly close the file to save the information there.\n",
    "qbRating.close()"
   ],
   "metadata": {
    "collapsed": false,
    "pycharm": {
     "name": "#%%\n",
     "is_executing": true
    }
   }
  },
  {
   "cell_type": "code",
   "execution_count": 12,
   "outputs": [
    {
     "name": "stdout",
     "output_type": "stream",
     "text": [
      "Colt McCoy teve valor 74.5\n",
      "Josh Freeman teve valor 95.9\n",
      "Michael Vick teve valor 100.2\n",
      "Matt Schaub teve valor 92.0\n",
      "Philip Rivers teve valor 101.8\n",
      "Matt Hasselbeck teve valor 73.2\n",
      "Jimmy Clausen teve valor 58.4\n",
      "Joe Flacco teve valor 93.6\n",
      "Kyle Orton teve valor 87.5\n",
      "Jason Campbell teve valor 84.5\n",
      "Peyton Manning teve valor 91.9\n",
      "Drew Brees teve valor 90.9\n",
      "Matt Ryan teve valor 91.0\n",
      "Matt Cassel teve valor 93.0\n",
      "Mark Sanchez teve valor 75.3\n",
      "Brett Favre teve valor 69.9\n",
      "David Garrard teve valor 90.8\n",
      "Eli Manning teve valor 85.3\n",
      "Carson Palmer teve valor 82.4\n",
      "Alex Smith teve valor 82.1\n",
      "Chad Henne teve valor 75.4\n",
      "Tony Romo teve valor 94.9\n",
      "Jay Cutler teve valor 86.3\n",
      "Jon Kitna teve valor 88.9\n",
      "Tom Brady teve valor 111.0\n",
      "Ben Roethlisberger teve valor 97.0\n",
      "Kerry Collins teve valor 82.2\n",
      "Derek Anderson teve valor 65.9\n",
      "Ryan Fitzpatrick teve valor 81.8\n",
      "Donovan McNabb teve valor 77.1\n",
      "Kevin Kolb teve valor 76.1\n",
      "Aaron Rodgers teve valor 101.2\n",
      "Sam Bradford teve valor 76.5\n",
      "Shaun Hill teve valor 81.3\n",
      "\n"
     ]
    }
   ],
   "source": [
    "#Check if we achieved the exercise goal.\n",
    "qbRating = open('qbRating.txt', 'r')\n",
    "problemSolved = qbRating.read()\n",
    "print(problemSolved)\n",
    "qbRating.close()"
   ],
   "metadata": {
    "collapsed": false,
    "pycharm": {
     "name": "#%%\n"
    }
   }
  },
  {
   "cell_type": "markdown",
   "source": [
    "2 - With a contact list on mind, build a dictionary with the following contact information: CPF, name, phone number and Twitter user. Then print all the contacts like this: \"CPF: nome, telefone (user)\""
   ],
   "metadata": {
    "collapsed": false,
    "pycharm": {
     "name": "#%% md\n"
    }
   }
  },
  {
   "cell_type": "code",
   "execution_count": 16,
   "outputs": [],
   "source": [
    "#Dictionary creation:\n",
    "#This is a mockup with the names of Dawson's Creek characters and some data generated using online tools. This data should not be taken serious.\n",
    "contactList = {'509.949.968-61':[\"Arthur Junior Moller\",\"(75) 39713-6451\",\"ArthurTheInfamous\"],\n",
    "               '228.084.458-30':[\"Abby Morgan\",\"(16) 55854-5844\",\"TangoAbby\"],\n",
    "               '599.714.228-08':[\"Alex Pearl\",\"(65) 72125-6282\",\"Pearlmann\"],\n",
    "               '232.886.308-69':[\"Alexander Potter Wells\",\"(13) 19965-9530\",\"PotAleErls\"],\n",
    "               '274.627.528-75':[\"Amy Lindley\",\"(40) 59865-7824\",\"AmyL1ndl3y\"],\n",
    "               '198.189.038-62':[\"Amy Lloyd\",\"(69) 74928-1465\",\"AmyLl0yd\"],\n",
    "               '364.519.868-79':[\"Anderson Crawford\",\"(36) 43137-0069\",\"Cr40nAndrd\"],\n",
    "               '205.844.118-47':[\"Andie McPhee\",\"(43) 68299-3146\",\"McPieAndee\"],\n",
    "               '660.010.138-53':[\"Andrea McPhee\",\"(59) 68331-5957\",\"Andr34McPh33\"],\n",
    "               '937.374.338-44':[\"Arthur I. Brooks\",\"(25) 60415-4343\",\"Brooksmann\"],\n",
    "               '793.056.618-82':[\"Audrey Liddell\",\"(34) 55937-6492\",\"Audr3yL1dd3ll\"],\n",
    "               '171.555.288-11':[\"Belinda McGovern\",\"(45) 79778-3091\",\"B3l1nd4McG0v3rn\"],\n",
    "               '989.979.378-71':[\"Benjamin Gold\",\"(74) 36318-0022\",\"B3nj4m1nG0ld\"],\n",
    "               '362.801.288-06':[\"Bess Potter\",\"(58) 16490-4271\",\"PotieBeser\"],\n",
    "               '157.207.238-54':[\"William Braxton\",\"(46) 76261-1896\",\"PaxllBilon\"],\n",
    "               '056.861.658-82':[\"Billy Konrad\",\"(39) 86370-6610\",\"KonlyBilad\"],\n",
    "               '820.389.998-64':[\"Bob Collinsworth\",\"(25) 85373-2989\",\"ColobBobth\"],\n",
    "               '609.180.668-83':[\"Bodie Wells\",\"(85) 72713-1977\",\"AuspiciousBodie\"],\n",
    "               '829.387.858-44':[\"Buzz Thompson\",\"(82) 64631-2379\",\"Monkey\"],\n",
    "               '060.731.718-38':[\"C.J. Braxton\",\"(78) 75237-6337\",\"C.J.Br4x70n\"],\n",
    "               '611.163.748-70':[\"Charlie Todd\",\"(41) 39548-5701\",\"TodieChadd\"],\n",
    "               '525.998.808-66':[\"Chris Wolfe\",\"(79) 58426-4869\",\"W0l15Chrf3\"],\n",
    "               '970.280.668-27':[\"Cliff Elliot\",\"(43) 81461-7039\",\"GainfulElliot\"],\n",
    "               '537.774.428-44':[\"Clifton Smalls\",\"(72) 12853-7739\",\"Smallsmann\"],\n",
    "               '326.602.728-08':[\"Colin Manchester\",\"(26) 38863-9707\",\"M4n1nC0l3r\"],\n",
    "               '607.532.728-22':[\"Danny Brecher\",\"(63) 63550-7559\",\"DannyOfFletcher\"],\n",
    "               '567.573.398-11':[\"David Wilder\",\"(76) 37048-8223\",\"Wildersson\"],\n",
    "               '991.925.678-19':[\"Dawson Leery\",\"(78) 80463-4699\",\"Oompa Loompa\"],\n",
    "               '191.267.128-06':[\"Devon\",\"(37) 51214-2516\",\"Devonnyu\"],\n",
    "               '773.297.218-08':[\"Doug Witter\",\"(54) 55968-7667\",\"PolerWitce\"],\n",
    "               '759.360.418-75':[\"Drue Valentine\",\"(63) 47484-6508\",\"ValDruUene\"],\n",
    "               '432.566.178-67':[\"Eddie Doling\",\"(47) 22254-9826\",\"DolieEddng\"],\n",
    "               '354.251.608-28':[\"Elliott Sawyer\",\"(26) 10402-1248\",\"SawEllTter\"],\n",
    "               '906.028.338-41':[\"Emma Jones\",\"(87) 34066-9553\",\"JonmaEmmes\"],\n",
    "               '136.730.378-89':[\"Ethan Brody\",\"(16) 50907-8168\",\"BroEthAndy\"],\n",
    "               '150.509.348-18':[\"Eric\",\"(59) 65052-2714\",\"TediousEric\"],\n",
    "               '901.215.158-93':[\"Eve Whitman\",\"(77) 13892-5550\",\"DirefulEve\"],\n",
    "               '344.132.938-43':[\"Evelyn Ryan\",\"(55) 84690-5457\",\"RyamsGraan\"],\n",
    "               '144.969.528-07':[\"Gale Leery\",\"(57) 80320-9926\",\"G4l3L33ry\"],\n",
    "               '879.217.368-31':[\"Greg Hetson\",\"(24) 87275-5538\",\"Gr36H3750n\"],\n",
    "               '083.033.118-24':[\"George\",\"(44) 43382-3014\",\"XyoGeorge\"],\n",
    "               '540.694.978-03':[\"Gretchen Witter\",\"(54) 52475-3499\",\"EliteGretchen\"],\n",
    "               '379.400.718-23':[\"Gwen\",\"(68) 27933-2914\",\"ColossalGwen\"],\n",
    "               '829.815.648-03':[\"Harley Hetson\",\"(44) 12523-2025\",\"HeteyZoexo\"],\n",
    "               '637.876.548-01':[\"Helen Lindley\",\"(51) 12326-8898\",\"LinenHeley\"],\n",
    "               '342.061.158-77':[\"Henry Parker\",\"(24) 41850-9048\",\"HenryHank\"],\n",
    "               '293.149.588-33':[\"Howard Green\",\"(57) 72494-8420\",\"JuvenileGreen\"],\n",
    "               '542.779.818-87':[\"Jack McPhee\",\"(21) 75853-6108\",\"McPckJacee\"],\n",
    "               '585.835.018-66':[\"Jane Markey\",\"(58) 38478-5786\",\"MarJanNeey\"],\n",
    "               '727.877.108-08':[\"Jennifer Lindley\",\"(15) 10754-2865\",\"LinJenIeey\"],\n",
    "               '599.083.038-64':[\"Josephine Lynn Potter\",\"(16) 75880-3141\",\"PotneJoser\"],\n",
    "               '330.154.328-69':[\"John Witter\",\"(57) 22842-7331\",\"WithnJoher\"],\n",
    "               '814.816.558-09':[\"Joseph McPhee\",\"(80) 24668-9628\",\"McPheeruo\"],\n",
    "               '699.929.378-31':[\"Karen Torres\",\"(56) 14023-7720\",\"K4r3nT0rr35\"],\n",
    "               '464.733.758-80':[\"Kerry Witter\",\"(46) 66491-7072\",\"EllaKerry\"],\n",
    "               '076.760.128-99':[\"Kristy Livingstone\",\"(44) 47229-7554\",\"LivtyKrine\"],\n",
    "               '351.631.178-90':[\"Lillian Leery\",\"(53) 72256-3832\",\"Meoleery\"],\n",
    "               '893.660.028-11':[\"Lillian Potter\",\"(20) 66797-5785\",\"PotlyLiler\"],\n",
    "               '991.804.648-15':[\"Madison Blacker\",\"(15) 82377-0102\",\"Blackersson\"],\n",
    "               '162.359.628-94':[\"Marcy Bender\",\"(54) 75899-9791\",\"BenMarCyer\"],\n",
    "               '632.166.868-09':[\"Matthew Caufield\",\"(29) 33419-9306\",\"M477C4uf13ld\"],\n",
    "               '768.385.928-19':[\"Matthew Freeman\",\"(30) 61162-1919\",\"FrettMatan\"],\n",
    "               '677.737.918-56':[\"Melanie Thompson\",\"(73) 28608-6993\",\"Melanienae\"],\n",
    "               '026.492.298-02':[\"Michael Potter\",\"(60) 67142-6324\",\"PotelMicer\"],\n",
    "               '647.530.928-10':[\"Mitchell Leery\",\"(78) 63673-5837\",\"Leerysson\"],\n",
    "               '199.807.708-05':[\"Morgan\",\"(68) 66745-5944\",\"Morganoff\"],\n",
    "               '486.153.808-48':[\"Mr. Milo\",\"(75) 67580-1954\",\"Mrstein\"],\n",
    "               '044.149.028-00':[\"Mr. Peterson\",\"(52) 40280-3757\",\"WayPeterson\"],\n",
    "               '382.953.048-01':[\"Mr. Ryan\",\"(65) 10713-5777\",\"Ry4nMr\"],\n",
    "               '700.312.678-82':[\"Mrs. Tringle\",\"(55) 37637-9714\",\"JojoTringle\"],\n",
    "               '237.704.208-29':[\"Mrs. Valentine\",\"(89) 29334-6784\",\"ThePsychedelicMrs\"],\n",
    "               '487.568.748-63':[\"Mrs. Witter\",\"(17) 54253-4755\",\"MomerWitmy\"],\n",
    "               '503.702.518-49':[\"Ms. Watson\",\"(78) 10877-2766\",\"WatMsMson\"],\n",
    "               '330.195.668-86':[\"Natasha Kelly\",\"(16) 79966-9675\",\"KelhaNatly\"],\n",
    "               '352.286.658-46':[\"Nellie Oleson\",\"(15) 75474-1757\",\"OleNelIeon\"],\n",
    "               '170.270.468-81':[\"Nicole Kennedy\",\"(36) 35528-9882\",\"KenNicLedy\"],\n",
    "               '809.880.528-06':[\"Nicole Green\",\"(49) 24792-6010\",\"GrekiNiken\"],\n",
    "               '953.488.868-07':[\"Oliver Chirchick\",\"(71) 33604-7536\",\"Oliverblu\"],\n",
    "               '079.725.968-67':[\"Pacey John Witter\",\"(65) 59541-2872\",\"WiteyPacer\"],\n",
    "               '515.468.478-80':[\"Patrick\",\"(38) 87213-2082\",\"CauldronPatrick\"],\n",
    "               '266.752.778-04':[\"Rachel Weir\",\"(42) 24079-9067\",\"WeielRacir\"],\n",
    "               '827.597.878-50':[\"Rich Rinaldi\",\"(12) 86721-3074\",\"Rinaldilitz\"],\n",
    "               '428.854.718-08':[\"Robert Logan\",\"(69) 22902-7151\",\"LogrtRoban\"],\n",
    "               '799.014.028-40':[\"Sadia Shaw\",\"(69) 23600-2720\",\"ShaiaSadaw\"],\n",
    "               '375.012.058-76':[\"Tamara Jacobs\",\"(49) 75307-9735\",\"PeyTamara\"],\n",
    "               '443.385.928-18':[\"Theodore Lindley\",\"(65) 70616-7527\",\"InfamousLindley\"],\n",
    "               '864.021.098-51':[\"Timothy McPhee\",\"(63) 86345-2289\",\"SayMcPhee\"],\n",
    "               '038.351.598-01':[\"Tobias Barrett\",\"(84) 70842-2517\",\"JacTobIue\"],\n",
    "               '077.285.768-79':[\"Todd Carr\",\"(17) 63159-0487\",\"Satan\"],\n",
    "               '236.184.338-24':[\"Thomas Frost\",\"(34) 37672-2697\",\"FroasThost\"],\n",
    "               '197.903.638-18':[\"Ty Hicks\",\"(12) 30238-9738\",\"Ty\"],\n",
    "               '584.439.588-39':[\"Whit Hubley\",\"(64) 58789-8030\",\"HubitWhiey\"],\n",
    "               '656.966.048-97':[\"William Krudski\",\"(61) 43418-8859\",\"Krudskilitz\"]\n",
    "}"
   ],
   "metadata": {
    "collapsed": false,
    "pycharm": {
     "name": "#%%\n"
    }
   }
  },
  {
   "cell_type": "code",
   "execution_count": 35,
   "outputs": [
    {
     "name": "stdout",
     "output_type": "stream",
     "text": [
      "509.949.968-61: Nome:Arthur Junior Moller, Tel.:(75) 39713-6451 (ArthurTheInfamous)\n",
      "228.084.458-30: Nome:Abby Morgan, Tel.:(16) 55854-5844 (TangoAbby)\n",
      "599.714.228-08: Nome:Alex Pearl, Tel.:(65) 72125-6282 (Pearlmann)\n",
      "232.886.308-69: Nome:Alexander Potter Wells, Tel.:(13) 19965-9530 (PotAleErls)\n",
      "274.627.528-75: Nome:Amy Lindley, Tel.:(40) 59865-7824 (AmyL1ndl3y)\n",
      "198.189.038-62: Nome:Amy Lloyd, Tel.:(69) 74928-1465 (AmyLl0yd)\n",
      "364.519.868-79: Nome:Anderson Crawford, Tel.:(36) 43137-0069 (Cr40nAndrd)\n",
      "205.844.118-47: Nome:Andie McPhee, Tel.:(43) 68299-3146 (McPieAndee)\n",
      "660.010.138-53: Nome:Andrea McPhee, Tel.:(59) 68331-5957 (Andr34McPh33)\n",
      "937.374.338-44: Nome:Arthur I. Brooks, Tel.:(25) 60415-4343 (Brooksmann)\n",
      "793.056.618-82: Nome:Audrey Liddell, Tel.:(34) 55937-6492 (Audr3yL1dd3ll)\n",
      "171.555.288-11: Nome:Belinda McGovern, Tel.:(45) 79778-3091 (B3l1nd4McG0v3rn)\n",
      "989.979.378-71: Nome:Benjamin Gold, Tel.:(74) 36318-0022 (B3nj4m1nG0ld)\n",
      "362.801.288-06: Nome:Bess Potter, Tel.:(58) 16490-4271 (PotieBeser)\n",
      "157.207.238-54: Nome:William Braxton, Tel.:(46) 76261-1896 (PaxllBilon)\n",
      "056.861.658-82: Nome:Billy Konrad, Tel.:(39) 86370-6610 (KonlyBilad)\n",
      "820.389.998-64: Nome:Bob Collinsworth, Tel.:(25) 85373-2989 (ColobBobth)\n",
      "609.180.668-83: Nome:Bodie Wells, Tel.:(85) 72713-1977 (AuspiciousBodie)\n",
      "829.387.858-44: Nome:Buzz Thompson, Tel.:(82) 64631-2379 (Monkey)\n",
      "060.731.718-38: Nome:C.J. Braxton, Tel.:(78) 75237-6337 (C.J.Br4x70n)\n",
      "611.163.748-70: Nome:Charlie Todd, Tel.:(41) 39548-5701 (TodieChadd)\n",
      "525.998.808-66: Nome:Chris Wolfe, Tel.:(79) 58426-4869 (W0l15Chrf3)\n",
      "970.280.668-27: Nome:Cliff Elliot, Tel.:(43) 81461-7039 (GainfulElliot)\n",
      "537.774.428-44: Nome:Clifton Smalls, Tel.:(72) 12853-7739 (Smallsmann)\n",
      "326.602.728-08: Nome:Colin Manchester, Tel.:(26) 38863-9707 (M4n1nC0l3r)\n",
      "607.532.728-22: Nome:Danny Brecher, Tel.:(63) 63550-7559 (DannyOfFletcher)\n",
      "567.573.398-11: Nome:David Wilder, Tel.:(76) 37048-8223 (Wildersson)\n",
      "991.925.678-19: Nome:Dawson Leery, Tel.:(78) 80463-4699 (Oompa Loompa)\n",
      "191.267.128-06: Nome:Devon, Tel.:(37) 51214-2516 (Devonnyu)\n",
      "773.297.218-08: Nome:Doug Witter, Tel.:(54) 55968-7667 (PolerWitce)\n",
      "759.360.418-75: Nome:Drue Valentine, Tel.:(63) 47484-6508 (ValDruUene)\n",
      "432.566.178-67: Nome:Eddie Doling, Tel.:(47) 22254-9826 (DolieEddng)\n",
      "354.251.608-28: Nome:Elliott Sawyer, Tel.:(26) 10402-1248 (SawEllTter)\n",
      "906.028.338-41: Nome:Emma Jones, Tel.:(87) 34066-9553 (JonmaEmmes)\n",
      "136.730.378-89: Nome:Ethan Brody, Tel.:(16) 50907-8168 (BroEthAndy)\n",
      "150.509.348-18: Nome:Eric, Tel.:(59) 65052-2714 (TediousEric)\n",
      "901.215.158-93: Nome:Eve Whitman, Tel.:(77) 13892-5550 (DirefulEve)\n",
      "344.132.938-43: Nome:Evelyn Ryan, Tel.:(55) 84690-5457 (RyamsGraan)\n",
      "144.969.528-07: Nome:Gale Leery, Tel.:(57) 80320-9926 (G4l3L33ry)\n",
      "879.217.368-31: Nome:Greg Hetson, Tel.:(24) 87275-5538 (Gr36H3750n)\n",
      "083.033.118-24: Nome:George, Tel.:(44) 43382-3014 (XyoGeorge)\n",
      "540.694.978-03: Nome:Gretchen Witter, Tel.:(54) 52475-3499 (EliteGretchen)\n",
      "379.400.718-23: Nome:Gwen, Tel.:(68) 27933-2914 (ColossalGwen)\n",
      "829.815.648-03: Nome:Harley Hetson, Tel.:(44) 12523-2025 (HeteyZoexo)\n",
      "637.876.548-01: Nome:Helen Lindley, Tel.:(51) 12326-8898 (LinenHeley)\n",
      "342.061.158-77: Nome:Henry Parker, Tel.:(24) 41850-9048 (HenryHank)\n",
      "293.149.588-33: Nome:Howard Green, Tel.:(57) 72494-8420 (JuvenileGreen)\n",
      "542.779.818-87: Nome:Jack McPhee, Tel.:(21) 75853-6108 (McPckJacee)\n",
      "585.835.018-66: Nome:Jane Markey, Tel.:(58) 38478-5786 (MarJanNeey)\n",
      "727.877.108-08: Nome:Jennifer Lindley, Tel.:(15) 10754-2865 (LinJenIeey)\n",
      "599.083.038-64: Nome:Josephine Lynn Potter, Tel.:(16) 75880-3141 (PotneJoser)\n",
      "330.154.328-69: Nome:John Witter, Tel.:(57) 22842-7331 (WithnJoher)\n",
      "814.816.558-09: Nome:Joseph McPhee, Tel.:(80) 24668-9628 (McPheeruo)\n",
      "699.929.378-31: Nome:Karen Torres, Tel.:(56) 14023-7720 (K4r3nT0rr35)\n",
      "464.733.758-80: Nome:Kerry Witter, Tel.:(46) 66491-7072 (EllaKerry)\n",
      "076.760.128-99: Nome:Kristy Livingstone, Tel.:(44) 47229-7554 (LivtyKrine)\n",
      "351.631.178-90: Nome:Lillian Leery, Tel.:(53) 72256-3832 (Meoleery)\n",
      "893.660.028-11: Nome:Lillian Potter, Tel.:(20) 66797-5785 (PotlyLiler)\n",
      "991.804.648-15: Nome:Madison Blacker, Tel.:(15) 82377-0102 (Blackersson)\n",
      "162.359.628-94: Nome:Marcy Bender, Tel.:(54) 75899-9791 (BenMarCyer)\n",
      "632.166.868-09: Nome:Matthew Caufield, Tel.:(29) 33419-9306 (M477C4uf13ld)\n",
      "768.385.928-19: Nome:Matthew Freeman, Tel.:(30) 61162-1919 (FrettMatan)\n",
      "677.737.918-56: Nome:Melanie Thompson, Tel.:(73) 28608-6993 (Melanienae)\n",
      "026.492.298-02: Nome:Michael Potter, Tel.:(60) 67142-6324 (PotelMicer)\n",
      "647.530.928-10: Nome:Mitchell Leery, Tel.:(78) 63673-5837 (Leerysson)\n",
      "199.807.708-05: Nome:Morgan, Tel.:(68) 66745-5944 (Morganoff)\n",
      "486.153.808-48: Nome:Mr. Milo, Tel.:(75) 67580-1954 (Mrstein)\n",
      "044.149.028-00: Nome:Mr. Peterson, Tel.:(52) 40280-3757 (WayPeterson)\n",
      "382.953.048-01: Nome:Mr. Ryan, Tel.:(65) 10713-5777 (Ry4nMr)\n",
      "700.312.678-82: Nome:Mrs. Tringle, Tel.:(55) 37637-9714 (JojoTringle)\n",
      "237.704.208-29: Nome:Mrs. Valentine, Tel.:(89) 29334-6784 (ThePsychedelicMrs)\n",
      "487.568.748-63: Nome:Mrs. Witter, Tel.:(17) 54253-4755 (MomerWitmy)\n",
      "503.702.518-49: Nome:Ms. Watson, Tel.:(78) 10877-2766 (WatMsMson)\n",
      "330.195.668-86: Nome:Natasha Kelly, Tel.:(16) 79966-9675 (KelhaNatly)\n",
      "352.286.658-46: Nome:Nellie Oleson, Tel.:(15) 75474-1757 (OleNelIeon)\n",
      "170.270.468-81: Nome:Nicole Kennedy, Tel.:(36) 35528-9882 (KenNicLedy)\n",
      "809.880.528-06: Nome:Nicole Green, Tel.:(49) 24792-6010 (GrekiNiken)\n",
      "953.488.868-07: Nome:Oliver Chirchick, Tel.:(71) 33604-7536 (Oliverblu)\n",
      "079.725.968-67: Nome:Pacey John Witter, Tel.:(65) 59541-2872 (WiteyPacer)\n",
      "515.468.478-80: Nome:Patrick, Tel.:(38) 87213-2082 (CauldronPatrick)\n",
      "266.752.778-04: Nome:Rachel Weir, Tel.:(42) 24079-9067 (WeielRacir)\n",
      "827.597.878-50: Nome:Rich Rinaldi, Tel.:(12) 86721-3074 (Rinaldilitz)\n",
      "428.854.718-08: Nome:Robert Logan, Tel.:(69) 22902-7151 (LogrtRoban)\n",
      "799.014.028-40: Nome:Sadia Shaw, Tel.:(69) 23600-2720 (ShaiaSadaw)\n",
      "375.012.058-76: Nome:Tamara Jacobs, Tel.:(49) 75307-9735 (PeyTamara)\n",
      "443.385.928-18: Nome:Theodore Lindley, Tel.:(65) 70616-7527 (InfamousLindley)\n",
      "864.021.098-51: Nome:Timothy McPhee, Tel.:(63) 86345-2289 (SayMcPhee)\n",
      "038.351.598-01: Nome:Tobias Barrett, Tel.:(84) 70842-2517 (JacTobIue)\n",
      "077.285.768-79: Nome:Todd Carr, Tel.:(17) 63159-0487 (Satan)\n",
      "236.184.338-24: Nome:Thomas Frost, Tel.:(34) 37672-2697 (FroasThost)\n",
      "197.903.638-18: Nome:Ty Hicks, Tel.:(12) 30238-9738 (Ty)\n",
      "584.439.588-39: Nome:Whit Hubley, Tel.:(64) 58789-8030 (HubitWhiey)\n",
      "656.966.048-97: Nome:William Krudski, Tel.:(61) 43418-8859 (Krudskilitz)\n"
     ]
    }
   ],
   "source": [
    "index = 0\n",
    "for item in contactList:\n",
    "    Contact = (list(contactList.items())[index])\n",
    "    cpf = Contact[0]\n",
    "    contacInfo = Contact[1]\n",
    "    nome = contacInfo[0]\n",
    "    telefone = contacInfo[1]\n",
    "    twitUser = contacInfo[2]\n",
    "    print(cpf + \": Nome:\"+nome+\", Tel.:\"+telefone+\" (\"+twitUser+\")\")\n",
    "\n",
    "    index = index + 1"
   ],
   "metadata": {
    "collapsed": false,
    "pycharm": {
     "name": "#%%\n"
    }
   }
  }
 ],
 "metadata": {
  "kernelspec": {
   "display_name": "Python 3",
   "language": "python",
   "name": "python3"
  },
  "language_info": {
   "codemirror_mode": {
    "name": "ipython",
    "version": 2
   },
   "file_extension": ".py",
   "mimetype": "text/x-python",
   "name": "python",
   "nbconvert_exporter": "python",
   "pygments_lexer": "ipython2",
   "version": "2.7.6"
  }
 },
 "nbformat": 4,
 "nbformat_minor": 0
}